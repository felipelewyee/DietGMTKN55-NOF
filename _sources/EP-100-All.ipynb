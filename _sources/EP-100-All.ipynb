{
 "cells": [
  {
   "cell_type": "markdown",
   "metadata": {},
   "source": [
    "# 100"
   ]
  },
  {
   "cell_type": "code",
   "execution_count": 1,
   "metadata": {
    "tags": [
     "remove-cell"
    ]
   },
   "outputs": [],
   "source": [
    "import yaml\n",
    "import numpy as np\n",
    "\n",
    "set_name = \"100\"\n",
    "ncwo = \"ncwomax\""
   ]
  },
  {
   "cell_type": "code",
   "execution_count": 4,
   "metadata": {
    "tags": [
     "remove-cell"
    ]
   },
   "outputs": [],
   "source": [
    "def get_MADs(data):\n",
    "    MADs = []\n",
    "    for set in data:\n",
    "        ADs = []\n",
    "        for system in data[set]:\n",
    "            ADs.append(data[set][system][\"AD\"])\n",
    "        MADs.append(np.mean(ADs))\n",
    "    return MADs\n",
    "\n",
    "def get_Sets(data):\n",
    "    Sets = []\n",
    "    for set in data:\n",
    "        Sets.append(set)\n",
    "    return Sets\n",
    "\n",
    "def get_Descriptions(subsets):\n",
    "    f_des = open('Sets_description.yaml', 'r')\n",
    "    d_des = yaml.safe_load(f_des)\n",
    "    descriptions = []\n",
    "    for set in subsets:\n",
    "        descriptions.append(d_des[set])\n",
    "    return descriptions"
   ]
  },
  {
   "cell_type": "code",
   "execution_count": 5,
   "metadata": {
    "tags": [
     "remove-input"
    ]
   },
   "outputs": [
    {
     "data": {
      "text/html": [
       "    <style>\n",
       "        .bk-notebook-logo {\n",
       "            display: block;\n",
       "            width: 20px;\n",
       "            height: 20px;\n",
       "            background-image: url(data:image/png;base64,iVBORw0KGgoAAAANSUhEUgAAABQAAAAUCAYAAACNiR0NAAAABHNCSVQICAgIfAhkiAAAAAlwSFlzAAALEgAACxIB0t1+/AAAABx0RVh0U29mdHdhcmUAQWRvYmUgRmlyZXdvcmtzIENTNui8sowAAAOkSURBVDiNjZRtaJVlGMd/1/08zzln5zjP1LWcU9N0NkN8m2CYjpgQYQXqSs0I84OLIC0hkEKoPtiH3gmKoiJDU7QpLgoLjLIQCpEsNJ1vqUOdO7ppbuec5+V+rj4ctwzd8IIbbi6u+8f1539dt3A78eXC7QizUF7gyV1fD1Yqg4JWz84yffhm0qkFqBogB9rM8tZdtwVsPUhWhGcFJngGeWrPzHm5oaMmkfEg1usvLFyc8jLRqDOMru7AyC8saQr7GG7f5fvDeH7Ej8CM66nIF+8yngt6HWaKh7k49Soy9nXurCi1o3qUbS3zWfrYeQDTB/Qj6kX6Ybhw4B+bOYoLKCC9H3Nu/leUTZ1JdRWkkn2ldcCamzrcf47KKXdAJllSlxAOkRgyHsGC/zRday5Qld9DyoM4/q/rUoy/CXh3jzOu3bHUVZeU+DEn8FInkPBFlu3+nW3Nw0mk6vCDiWg8CeJaxEwuHS3+z5RgY+YBR6V1Z1nxSOfoaPa4LASWxxdNp+VWTk7+4vzaou8v8PN+xo+KY2xsw6une2frhw05CTYOmQvsEhjhWjn0bmXPjpE1+kplmmkP3suftwTubK9Vq22qKmrBhpY4jvd5afdRA3wGjFAgcnTK2s4hY0/GPNIb0nErGMCRxWOOX64Z8RAC4oCXdklmEvcL8o0BfkNK4lUg9HTl+oPlQxdNo3Mg4Nv175e/1LDGzZen30MEjRUtmXSfiTVu1kK8W4txyV6BMKlbgk3lMwYCiusNy9fVfvvwMxv8Ynl6vxoByANLTWplvuj/nF9m2+PDtt1eiHPBr1oIfhCChQMBw6Aw0UulqTKZdfVvfG7VcfIqLG9bcldL/+pdWTLxLUy8Qq38heUIjh4XlzZxzQm19lLFlr8vdQ97rjZVOLf8nclzckbcD4wxXMidpX30sFd37Fv/GtwwhzhxGVAprjbg0gCAEeIgwCZyTV2Z1REEW8O4py0wsjeloKoMr6iCY6dP92H6Vw/oTyICIthibxjm/DfN9lVz8IqtqKYLUXfoKVMVQVVJOElGjrnnUt9T9wbgp8AyYKaGlqingHZU/uG2NTZSVqwHQTWkx9hxjkpWDaCg6Ckj5qebgBVbT3V3NNXMSiWSDdGV3hrtzla7J+duwPOToIg42ChPQOQjspnSlp1V+Gjdged7+8UN5CRAV7a5EdFNwCjEaBR27b3W890TE7g24NAP/mMDXRWrGoFPQI9ls/MWO2dWFAar/xcOIImbbpA3zgAAAABJRU5ErkJggg==);\n",
       "        }\n",
       "    </style>\n",
       "    <div>\n",
       "        <a href=\"https://bokeh.org\" target=\"_blank\" class=\"bk-notebook-logo\"></a>\n",
       "        <span id=\"bd208bfd-8068-4003-bf2f-263bef8f2adb\">Loading BokehJS ...</span>\n",
       "    </div>\n"
      ]
     },
     "metadata": {},
     "output_type": "display_data"
    },
    {
     "data": {
      "application/javascript": "'use strict';\n(function(root) {\n  function now() {\n    return new Date();\n  }\n\n  const force = true;\n\n  if (typeof root._bokeh_onload_callbacks === \"undefined\" || force === true) {\n    root._bokeh_onload_callbacks = [];\n    root._bokeh_is_loading = undefined;\n  }\n\nconst JS_MIME_TYPE = 'application/javascript';\n  const HTML_MIME_TYPE = 'text/html';\n  const EXEC_MIME_TYPE = 'application/vnd.bokehjs_exec.v0+json';\n  const CLASS_NAME = 'output_bokeh rendered_html';\n\n  /**\n   * Render data to the DOM node\n   */\n  function render(props, node) {\n    const script = document.createElement(\"script\");\n    node.appendChild(script);\n  }\n\n  /**\n   * Handle when an output is cleared or removed\n   */\n  function handleClearOutput(event, handle) {\n    function drop(id) {\n      const view = Bokeh.index.get_by_id(id)\n      if (view != null) {\n        view.model.document.clear()\n        Bokeh.index.delete(view)\n      }\n    }\n\n    const cell = handle.cell;\n\n    const id = cell.output_area._bokeh_element_id;\n    const server_id = cell.output_area._bokeh_server_id;\n\n    // Clean up Bokeh references\n    if (id != null) {\n      drop(id)\n    }\n\n    if (server_id !== undefined) {\n      // Clean up Bokeh references\n      const cmd_clean = \"from bokeh.io.state import curstate; print(curstate().uuid_to_server['\" + server_id + \"'].get_sessions()[0].document.roots[0]._id)\";\n      cell.notebook.kernel.execute(cmd_clean, {\n        iopub: {\n          output: function(msg) {\n            const id = msg.content.text.trim()\n            drop(id)\n          }\n        }\n      });\n      // Destroy server and session\n      const cmd_destroy = \"import bokeh.io.notebook as ion; ion.destroy_server('\" + server_id + \"')\";\n      cell.notebook.kernel.execute(cmd_destroy);\n    }\n  }\n\n  /**\n   * Handle when a new output is added\n   */\n  function handleAddOutput(event, handle) {\n    const output_area = handle.output_area;\n    const output = handle.output;\n\n    // limit handleAddOutput to display_data with EXEC_MIME_TYPE content only\n    if ((output.output_type != \"display_data\") || (!Object.prototype.hasOwnProperty.call(output.data, EXEC_MIME_TYPE))) {\n      return\n    }\n\n    const toinsert = output_area.element.find(\".\" + CLASS_NAME.split(' ')[0]);\n\n    if (output.metadata[EXEC_MIME_TYPE][\"id\"] !== undefined) {\n      toinsert[toinsert.length - 1].firstChild.textContent = output.data[JS_MIME_TYPE];\n      // store reference to embed id on output_area\n      output_area._bokeh_element_id = output.metadata[EXEC_MIME_TYPE][\"id\"];\n    }\n    if (output.metadata[EXEC_MIME_TYPE][\"server_id\"] !== undefined) {\n      const bk_div = document.createElement(\"div\");\n      bk_div.innerHTML = output.data[HTML_MIME_TYPE];\n      const script_attrs = bk_div.children[0].attributes;\n      for (let i = 0; i < script_attrs.length; i++) {\n        toinsert[toinsert.length - 1].firstChild.setAttribute(script_attrs[i].name, script_attrs[i].value);\n        toinsert[toinsert.length - 1].firstChild.textContent = bk_div.children[0].textContent\n      }\n      // store reference to server id on output_area\n      output_area._bokeh_server_id = output.metadata[EXEC_MIME_TYPE][\"server_id\"];\n    }\n  }\n\n  function register_renderer(events, OutputArea) {\n\n    function append_mime(data, metadata, element) {\n      // create a DOM node to render to\n      const toinsert = this.create_output_subarea(\n        metadata,\n        CLASS_NAME,\n        EXEC_MIME_TYPE\n      );\n      this.keyboard_manager.register_events(toinsert);\n      // Render to node\n      const props = {data: data, metadata: metadata[EXEC_MIME_TYPE]};\n      render(props, toinsert[toinsert.length - 1]);\n      element.append(toinsert);\n      return toinsert\n    }\n\n    /* Handle when an output is cleared or removed */\n    events.on('clear_output.CodeCell', handleClearOutput);\n    events.on('delete.Cell', handleClearOutput);\n\n    /* Handle when a new output is added */\n    events.on('output_added.OutputArea', handleAddOutput);\n\n    /**\n     * Register the mime type and append_mime function with output_area\n     */\n    OutputArea.prototype.register_mime_type(EXEC_MIME_TYPE, append_mime, {\n      /* Is output safe? */\n      safe: true,\n      /* Index of renderer in `output_area.display_order` */\n      index: 0\n    });\n  }\n\n  // register the mime type if in Jupyter Notebook environment and previously unregistered\n  if (root.Jupyter !== undefined) {\n    const events = require('base/js/events');\n    const OutputArea = require('notebook/js/outputarea').OutputArea;\n\n    if (OutputArea.prototype.mime_types().indexOf(EXEC_MIME_TYPE) == -1) {\n      register_renderer(events, OutputArea);\n    }\n  }\n  if (typeof (root._bokeh_timeout) === \"undefined\" || force === true) {\n    root._bokeh_timeout = Date.now() + 5000;\n    root._bokeh_failed_load = false;\n  }\n\n  const NB_LOAD_WARNING = {'data': {'text/html':\n     \"<div style='background-color: #fdd'>\\n\"+\n     \"<p>\\n\"+\n     \"BokehJS does not appear to have successfully loaded. If loading BokehJS from CDN, this \\n\"+\n     \"may be due to a slow or bad network connection. Possible fixes:\\n\"+\n     \"</p>\\n\"+\n     \"<ul>\\n\"+\n     \"<li>re-rerun `output_notebook()` to attempt to load from CDN again, or</li>\\n\"+\n     \"<li>use INLINE resources instead, as so:</li>\\n\"+\n     \"</ul>\\n\"+\n     \"<code>\\n\"+\n     \"from bokeh.resources import INLINE\\n\"+\n     \"output_notebook(resources=INLINE)\\n\"+\n     \"</code>\\n\"+\n     \"</div>\"}};\n\n  function display_loaded(error = null) {\n    const el = document.getElementById(\"bd208bfd-8068-4003-bf2f-263bef8f2adb\");\n    if (el != null) {\n      const html = (() => {\n        if (typeof root.Bokeh === \"undefined\") {\n          if (error == null) {\n            return \"BokehJS is loading ...\";\n          } else {\n            return \"BokehJS failed to load.\";\n          }\n        } else {\n          const prefix = `BokehJS ${root.Bokeh.version}`;\n          if (error == null) {\n            return `${prefix} successfully loaded.`;\n          } else {\n            return `${prefix} <b>encountered errors</b> while loading and may not function as expected.`;\n          }\n        }\n      })();\n      el.innerHTML = html;\n\n      if (error != null) {\n        const wrapper = document.createElement(\"div\");\n        wrapper.style.overflow = \"auto\";\n        wrapper.style.height = \"5em\";\n        wrapper.style.resize = \"vertical\";\n        const content = document.createElement(\"div\");\n        content.style.fontFamily = \"monospace\";\n        content.style.whiteSpace = \"pre-wrap\";\n        content.style.backgroundColor = \"rgb(255, 221, 221)\";\n        content.textContent = error.stack ?? error.toString();\n        wrapper.append(content);\n        el.append(wrapper);\n      }\n    } else if (Date.now() < root._bokeh_timeout) {\n      setTimeout(() => display_loaded(error), 100);\n    }\n  }\n\n  function run_callbacks() {\n    try {\n      root._bokeh_onload_callbacks.forEach(function(callback) {\n        if (callback != null)\n          callback();\n      });\n    } finally {\n      delete root._bokeh_onload_callbacks\n    }\n    console.debug(\"Bokeh: all callbacks have finished\");\n  }\n\n  function load_libs(css_urls, js_urls, callback) {\n    if (css_urls == null) css_urls = [];\n    if (js_urls == null) js_urls = [];\n\n    root._bokeh_onload_callbacks.push(callback);\n    if (root._bokeh_is_loading > 0) {\n      console.debug(\"Bokeh: BokehJS is being loaded, scheduling callback at\", now());\n      return null;\n    }\n    if (js_urls == null || js_urls.length === 0) {\n      run_callbacks();\n      return null;\n    }\n    console.debug(\"Bokeh: BokehJS not loaded, scheduling load and callback at\", now());\n    root._bokeh_is_loading = css_urls.length + js_urls.length;\n\n    function on_load() {\n      root._bokeh_is_loading--;\n      if (root._bokeh_is_loading === 0) {\n        console.debug(\"Bokeh: all BokehJS libraries/stylesheets loaded\");\n        run_callbacks()\n      }\n    }\n\n    function on_error(url) {\n      console.error(\"failed to load \" + url);\n    }\n\n    for (let i = 0; i < css_urls.length; i++) {\n      const url = css_urls[i];\n      const element = document.createElement(\"link\");\n      element.onload = on_load;\n      element.onerror = on_error.bind(null, url);\n      element.rel = \"stylesheet\";\n      element.type = \"text/css\";\n      element.href = url;\n      console.debug(\"Bokeh: injecting link tag for BokehJS stylesheet: \", url);\n      document.body.appendChild(element);\n    }\n\n    for (let i = 0; i < js_urls.length; i++) {\n      const url = js_urls[i];\n      const element = document.createElement('script');\n      element.onload = on_load;\n      element.onerror = on_error.bind(null, url);\n      element.async = false;\n      element.src = url;\n      console.debug(\"Bokeh: injecting script tag for BokehJS library: \", url);\n      document.head.appendChild(element);\n    }\n  };\n\n  function inject_raw_css(css) {\n    const element = document.createElement(\"style\");\n    element.appendChild(document.createTextNode(css));\n    document.body.appendChild(element);\n  }\n\n  const js_urls = [\"https://cdn.bokeh.org/bokeh/release/bokeh-3.6.2.min.js\", \"https://cdn.bokeh.org/bokeh/release/bokeh-gl-3.6.2.min.js\", \"https://cdn.bokeh.org/bokeh/release/bokeh-widgets-3.6.2.min.js\", \"https://cdn.bokeh.org/bokeh/release/bokeh-tables-3.6.2.min.js\", \"https://cdn.bokeh.org/bokeh/release/bokeh-mathjax-3.6.2.min.js\"];\n  const css_urls = [];\n\n  const inline_js = [    function(Bokeh) {\n      Bokeh.set_log_level(\"info\");\n    },\nfunction(Bokeh) {\n    }\n  ];\n\n  function run_inline_js() {\n    if (root.Bokeh !== undefined || force === true) {\n      try {\n            for (let i = 0; i < inline_js.length; i++) {\n      inline_js[i].call(root, root.Bokeh);\n    }\n\n      } catch (error) {display_loaded(error);throw error;\n      }if (force === true) {\n        display_loaded();\n      }} else if (Date.now() < root._bokeh_timeout) {\n      setTimeout(run_inline_js, 100);\n    } else if (!root._bokeh_failed_load) {\n      console.log(\"Bokeh: BokehJS failed to load within specified timeout.\");\n      root._bokeh_failed_load = true;\n    } else if (force !== true) {\n      const cell = $(document.getElementById(\"bd208bfd-8068-4003-bf2f-263bef8f2adb\")).parents('.cell').data().cell;\n      cell.output_area.append_execute_result(NB_LOAD_WARNING)\n    }\n  }\n\n  if (root._bokeh_is_loading === 0) {\n    console.debug(\"Bokeh: BokehJS loaded, going straight to plotting\");\n    run_inline_js();\n  } else {\n    load_libs(css_urls, js_urls, function() {\n      console.debug(\"Bokeh: BokehJS plotting callback run at\", now());\n      run_inline_js();\n    });\n  }\n}(window));",
      "application/vnd.bokehjs_load.v0+json": ""
     },
     "metadata": {},
     "output_type": "display_data"
    }
   ],
   "source": [
    "from bokeh.plotting import figure, show, output_notebook\n",
    "output_notebook()"
   ]
  },
  {
   "cell_type": "code",
   "execution_count": 6,
   "metadata": {
    "tags": [
     "remove-input"
    ]
   },
   "outputs": [
    {
     "data": {
      "text/html": [
       "\n",
       "  <div id=\"ca2ffd35-f88c-466b-bbf4-b495da60eb38\" data-root-id=\"p1005\" style=\"display: contents;\"></div>\n"
      ]
     },
     "metadata": {},
     "output_type": "display_data"
    },
    {
     "data": {
      "application/javascript": "(function(root) {\n  function embed_document(root) {\n  const docs_json = {\"0614cb98-32ab-4ed4-902d-308691c6912b\":{\"version\":\"3.6.2\",\"title\":\"Bokeh Application\",\"roots\":[{\"type\":\"object\",\"name\":\"Figure\",\"id\":\"p1005\",\"attributes\":{\"width\":2000,\"height\":350,\"x_range\":{\"type\":\"object\",\"name\":\"FactorRange\",\"id\":\"p1004\",\"attributes\":{\"factors\":[[\"DIPCS10\",\"PNOF5\"],[\"DIPCS10\",\"PNOF7s\"],[\"DIPCS10\",\"PNOF7\"],[\"DIPCS10\",\"GNOF\"],[\"DIPCS10\",\"GNOFm\"],[\"FH51\",\"PNOF5\"],[\"FH51\",\"PNOF7s\"],[\"FH51\",\"PNOF7\"],[\"FH51\",\"GNOF\"],[\"FH51\",\"GNOFm\"],[\"CDIE20\",\"PNOF5\"],[\"CDIE20\",\"PNOF7s\"],[\"CDIE20\",\"PNOF7\"],[\"CDIE20\",\"GNOF\"],[\"CDIE20\",\"GNOFm\"],[\"BSR36\",\"PNOF5\"],[\"BSR36\",\"PNOF7s\"],[\"BSR36\",\"PNOF7\"],[\"BSR36\",\"GNOF\"],[\"BSR36\",\"GNOFm\"],[\"ACONF\",\"PNOF5\"],[\"ACONF\",\"PNOF7s\"],[\"ACONF\",\"PNOF7\"],[\"ACONF\",\"GNOF\"],[\"ACONF\",\"GNOFm\"],[\"BH76\",\"PNOF5\"],[\"BH76\",\"PNOF7s\"],[\"BH76\",\"PNOF7\"],[\"BH76\",\"GNOF\"],[\"BH76\",\"GNOFm\"],[\"MB16-43\",\"PNOF5\"],[\"MB16-43\",\"PNOF7s\"],[\"MB16-43\",\"PNOF7\"],[\"MB16-43\",\"GNOF\"],[\"MB16-43\",\"GNOFm\"],[\"Amino20x4\",\"PNOF5\"],[\"Amino20x4\",\"PNOF7s\"],[\"Amino20x4\",\"PNOF7\"],[\"Amino20x4\",\"GNOF\"],[\"Amino20x4\",\"GNOFm\"],[\"BHROT27\",\"PNOF5\"],[\"BHROT27\",\"PNOF7s\"],[\"BHROT27\",\"PNOF7\"],[\"BHROT27\",\"GNOF\"],[\"BHROT27\",\"GNOFm\"],[\"SIE4x4\",\"PNOF5\"],[\"SIE4x4\",\"PNOF7s\"],[\"SIE4x4\",\"PNOF7\"],[\"SIE4x4\",\"GNOF\"],[\"SIE4x4\",\"GNOFm\"],[\"HAL59\",\"PNOF5\"],[\"HAL59\",\"PNOF7s\"],[\"HAL59\",\"PNOF7\"],[\"HAL59\",\"GNOF\"],[\"HAL59\",\"GNOFm\"],[\"HEAVY28\",\"PNOF5\"],[\"HEAVY28\",\"PNOF7s\"],[\"HEAVY28\",\"PNOF7\"],[\"HEAVY28\",\"GNOF\"],[\"HEAVY28\",\"GNOFm\"],[\"BUT14DIOL\",\"PNOF5\"],[\"BUT14DIOL\",\"PNOF7s\"],[\"BUT14DIOL\",\"PNOF7\"],[\"BUT14DIOL\",\"GNOF\"],[\"BUT14DIOL\",\"GNOFm\"],[\"DC13\",\"PNOF5\"],[\"DC13\",\"PNOF7s\"],[\"DC13\",\"PNOF7\"],[\"DC13\",\"GNOF\"],[\"DC13\",\"GNOFm\"],[\"G21EA\",\"PNOF5\"],[\"G21EA\",\"PNOF7s\"],[\"G21EA\",\"PNOF7\"],[\"G21EA\",\"GNOF\"],[\"G21EA\",\"GNOFm\"],[\"BHPERI\",\"PNOF5\"],[\"BHPERI\",\"PNOF7s\"],[\"BHPERI\",\"PNOF7\"],[\"BHPERI\",\"GNOF\"],[\"BHPERI\",\"GNOFm\"],[\"W4-11\",\"PNOF5\"],[\"W4-11\",\"PNOF7s\"],[\"W4-11\",\"PNOF7\"],[\"W4-11\",\"GNOF\"],[\"W4-11\",\"GNOFm\"],[\"PNICO23\",\"PNOF5\"],[\"PNICO23\",\"PNOF7s\"],[\"PNICO23\",\"PNOF7\"],[\"PNICO23\",\"GNOF\"],[\"PNICO23\",\"GNOFm\"],[\"MCONF\",\"PNOF5\"],[\"MCONF\",\"PNOF7s\"],[\"MCONF\",\"PNOF7\"],[\"MCONF\",\"GNOF\"],[\"MCONF\",\"GNOFm\"],[\"PX13\",\"PNOF5\"],[\"PX13\",\"PNOF7s\"],[\"PX13\",\"PNOF7\"],[\"PX13\",\"GNOF\"],[\"PX13\",\"GNOFm\"],[\"S66\",\"PNOF5\"],[\"S66\",\"PNOF7s\"],[\"S66\",\"PNOF7\"],[\"S66\",\"GNOF\"],[\"S66\",\"GNOFm\"],[\"WCPT18\",\"PNOF5\"],[\"WCPT18\",\"PNOF7s\"],[\"WCPT18\",\"PNOF7\"],[\"WCPT18\",\"GNOF\"],[\"WCPT18\",\"GNOFm\"]]}},\"y_range\":{\"type\":\"object\",\"name\":\"DataRange1d\",\"id\":\"p1007\",\"attributes\":{\"start\":0,\"end\":50}},\"x_scale\":{\"type\":\"object\",\"name\":\"CategoricalScale\",\"id\":\"p1015\"},\"y_scale\":{\"type\":\"object\",\"name\":\"LinearScale\",\"id\":\"p1016\"},\"title\":{\"type\":\"object\",\"name\":\"Title\",\"id\":\"p1008\",\"attributes\":{\"text\":\"100 Perfect Pairing\"}},\"renderers\":[{\"type\":\"object\",\"name\":\"GlyphRenderer\",\"id\":\"p1047\",\"attributes\":{\"data_source\":{\"type\":\"object\",\"name\":\"ColumnDataSource\",\"id\":\"p1001\",\"attributes\":{\"selected\":{\"type\":\"object\",\"name\":\"Selection\",\"id\":\"p1002\",\"attributes\":{\"indices\":[],\"line_indices\":[]}},\"selection_policy\":{\"type\":\"object\",\"name\":\"UnionRenderers\",\"id\":\"p1003\"},\"data\":{\"type\":\"map\",\"entries\":[[\"x\",[[\"DIPCS10\",\"PNOF5\"],[\"DIPCS10\",\"PNOF7s\"],[\"DIPCS10\",\"PNOF7\"],[\"DIPCS10\",\"GNOF\"],[\"DIPCS10\",\"GNOFm\"],[\"FH51\",\"PNOF5\"],[\"FH51\",\"PNOF7s\"],[\"FH51\",\"PNOF7\"],[\"FH51\",\"GNOF\"],[\"FH51\",\"GNOFm\"],[\"CDIE20\",\"PNOF5\"],[\"CDIE20\",\"PNOF7s\"],[\"CDIE20\",\"PNOF7\"],[\"CDIE20\",\"GNOF\"],[\"CDIE20\",\"GNOFm\"],[\"BSR36\",\"PNOF5\"],[\"BSR36\",\"PNOF7s\"],[\"BSR36\",\"PNOF7\"],[\"BSR36\",\"GNOF\"],[\"BSR36\",\"GNOFm\"],[\"ACONF\",\"PNOF5\"],[\"ACONF\",\"PNOF7s\"],[\"ACONF\",\"PNOF7\"],[\"ACONF\",\"GNOF\"],[\"ACONF\",\"GNOFm\"],[\"BH76\",\"PNOF5\"],[\"BH76\",\"PNOF7s\"],[\"BH76\",\"PNOF7\"],[\"BH76\",\"GNOF\"],[\"BH76\",\"GNOFm\"],[\"MB16-43\",\"PNOF5\"],[\"MB16-43\",\"PNOF7s\"],[\"MB16-43\",\"PNOF7\"],[\"MB16-43\",\"GNOF\"],[\"MB16-43\",\"GNOFm\"],[\"Amino20x4\",\"PNOF5\"],[\"Amino20x4\",\"PNOF7s\"],[\"Amino20x4\",\"PNOF7\"],[\"Amino20x4\",\"GNOF\"],[\"Amino20x4\",\"GNOFm\"],[\"BHROT27\",\"PNOF5\"],[\"BHROT27\",\"PNOF7s\"],[\"BHROT27\",\"PNOF7\"],[\"BHROT27\",\"GNOF\"],[\"BHROT27\",\"GNOFm\"],[\"SIE4x4\",\"PNOF5\"],[\"SIE4x4\",\"PNOF7s\"],[\"SIE4x4\",\"PNOF7\"],[\"SIE4x4\",\"GNOF\"],[\"SIE4x4\",\"GNOFm\"],[\"HAL59\",\"PNOF5\"],[\"HAL59\",\"PNOF7s\"],[\"HAL59\",\"PNOF7\"],[\"HAL59\",\"GNOF\"],[\"HAL59\",\"GNOFm\"],[\"HEAVY28\",\"PNOF5\"],[\"HEAVY28\",\"PNOF7s\"],[\"HEAVY28\",\"PNOF7\"],[\"HEAVY28\",\"GNOF\"],[\"HEAVY28\",\"GNOFm\"],[\"BUT14DIOL\",\"PNOF5\"],[\"BUT14DIOL\",\"PNOF7s\"],[\"BUT14DIOL\",\"PNOF7\"],[\"BUT14DIOL\",\"GNOF\"],[\"BUT14DIOL\",\"GNOFm\"],[\"DC13\",\"PNOF5\"],[\"DC13\",\"PNOF7s\"],[\"DC13\",\"PNOF7\"],[\"DC13\",\"GNOF\"],[\"DC13\",\"GNOFm\"],[\"G21EA\",\"PNOF5\"],[\"G21EA\",\"PNOF7s\"],[\"G21EA\",\"PNOF7\"],[\"G21EA\",\"GNOF\"],[\"G21EA\",\"GNOFm\"],[\"BHPERI\",\"PNOF5\"],[\"BHPERI\",\"PNOF7s\"],[\"BHPERI\",\"PNOF7\"],[\"BHPERI\",\"GNOF\"],[\"BHPERI\",\"GNOFm\"],[\"W4-11\",\"PNOF5\"],[\"W4-11\",\"PNOF7s\"],[\"W4-11\",\"PNOF7\"],[\"W4-11\",\"GNOF\"],[\"W4-11\",\"GNOFm\"],[\"PNICO23\",\"PNOF5\"],[\"PNICO23\",\"PNOF7s\"],[\"PNICO23\",\"PNOF7\"],[\"PNICO23\",\"GNOF\"],[\"PNICO23\",\"GNOFm\"],[\"MCONF\",\"PNOF5\"],[\"MCONF\",\"PNOF7s\"],[\"MCONF\",\"PNOF7\"],[\"MCONF\",\"GNOF\"],[\"MCONF\",\"GNOFm\"],[\"PX13\",\"PNOF5\"],[\"PX13\",\"PNOF7s\"],[\"PX13\",\"PNOF7\"],[\"PX13\",\"GNOF\"],[\"PX13\",\"GNOFm\"],[\"S66\",\"PNOF5\"],[\"S66\",\"PNOF7s\"],[\"S66\",\"PNOF7\"],[\"S66\",\"GNOF\"],[\"S66\",\"GNOFm\"],[\"WCPT18\",\"PNOF5\"],[\"WCPT18\",\"PNOF7s\"],[\"WCPT18\",\"PNOF7\"],[\"WCPT18\",\"GNOF\"],[\"WCPT18\",\"GNOFm\"]]],[\"counts\",[44.67753813999127,44.7863486650017,44.846617780006454,9.288467080017085,4.925635390002299,2.9774875475152065,3.0319868825059473,2.807412289993895,3.9147890575068356,1.9239013825067843,2.159649424997615,1.9533797900157395,2.6458161049929343,2.1158116399977813,0.8410665499935019,20.722974600002658,20.656308555056896,19.35559945509678,10.523696865028787,10.080364529985925,2.4631670049938035,2.5063149249989434,2.0341336899932685,2.4463593849934595,0.8887696449910073,32.090597794994636,29.995728650000434,0.2929012099723707,12.540764419978867,6.35938587499945,-1.0,-1.0,-1.0,90.86787537506709,73.66320670988239,2.5384581400161705,2.7183561175218482,3.647729702514003,5.750225270013636,1.482212110016364,3.297997355025517,3.753715902510371,9.95441066749271,1.135835015006931,3.542205962472641,8.890228345007765,8.86708651000024,8.282269135006226,7.561172065001575,6.7473195099958225,-1.0,-1.0,-1.0,-1.0,-1.0,-1.0,-1.0,-1.0,-1.0,-1.0,2.90660382002044,3.0323473950238125,2.9322542549770687,0.32259152999032636,2.2383754949963857,4.199531155007232,4.991004589992826,0.27662653999952913,0.3101790649861158,2.165037904987372,22.868883322482297,22.16801183999788,7.455879777514999,18.933517072507627,12.056441032512904,29.559266294984596,28.173515655011037,3.0867760950008893,13.732947899998898,12.512639430015817,13.750516561669846,18.579759706664504,38.686606806670206,17.65742109166707,22.955793341658467,1.2777782800086745,1.232623480002363,1.395243474995516,0.01490330002250917,1.0837380700003796,1.7139763650582291,1.406171144936999,0.5274085649881806,6.077874210027575,0.2290597649842061,23.893675620008324,23.836103250003944,23.982354630001893,9.679383584993495,6.897597044997475,6.324696410009982,4.208566879994597,4.277208447487956,0.5646058775096602,0.5057244824878857,42.09159768999201,42.55706841999501,43.155871240014314,14.820105369990962,11.61304841501164]],[\"descriptions\",[\"Double-ionisation potentials of closed-shell systems\",\"Double-ionisation potentials of closed-shell systems\",\"Double-ionisation potentials of closed-shell systems\",\"Double-ionisation potentials of closed-shell systems\",\"Double-ionisation potentials of closed-shell systems\",\"Reaction energies in various (in-)organic systems\",\"Reaction energies in various (in-)organic systems\",\"Reaction energies in various (in-)organic systems\",\"Reaction energies in various (in-)organic systems\",\"Reaction energies in various (in-)organic systems\",\"Double-bond isomerisation energies in cyclic systems\",\"Double-bond isomerisation energies in cyclic systems\",\"Double-bond isomerisation energies in cyclic systems\",\"Double-bond isomerisation energies in cyclic systems\",\"Double-bond isomerisation energies in cyclic systems\",\"Bond-separation reactions of saturated hydrocarbons\",\"Bond-separation reactions of saturated hydrocarbons\",\"Bond-separation reactions of saturated hydrocarbons\",\"Bond-separation reactions of saturated hydrocarbons\",\"Bond-separation reactions of saturated hydrocarbons\",\"Relative energies of alkane conformers\",\"Relative energies of alkane conformers\",\"Relative energies of alkane conformers\",\"Relative energies of alkane conformers\",\"Relative energies of alkane conformers\",\"Barrier heights of hydrogen transfer, heavy atom transfer, nucleophilic substitution, unimolecular and association reactions\",\"Barrier heights of hydrogen transfer, heavy atom transfer, nucleophilic substitution, unimolecular and association reactions\",\"Barrier heights of hydrogen transfer, heavy atom transfer, nucleophilic substitution, unimolecular and association reactions\",\"Barrier heights of hydrogen transfer, heavy atom transfer, nucleophilic substitution, unimolecular and association reactions\",\"Barrier heights of hydrogen transfer, heavy atom transfer, nucleophilic substitution, unimolecular and association reactions\",\"Decomposition energies of artificial molecules\",\"Decomposition energies of artificial molecules\",\"Decomposition energies of artificial molecules\",\"Decomposition energies of artificial molecules\",\"Decomposition energies of artificial molecules\",\"Relative energies in amino acid conformers\",\"Relative energies in amino acid conformers\",\"Relative energies in amino acid conformers\",\"Relative energies in amino acid conformers\",\"Relative energies in amino acid conformers\",\"Barrier heights for rotation around single bonds\",\"Barrier heights for rotation around single bonds\",\"Barrier heights for rotation around single bonds\",\"Barrier heights for rotation around single bonds\",\"Barrier heights for rotation around single bonds\",\"Self-interaction-error related problems\",\"Self-interaction-error related problems\",\"Self-interaction-error related problems\",\"Self-interaction-error related problems\",\"Self-interaction-error related problems\",\"Binding energies in halogenated dimers (incl. halogen bonds)\",\"Binding energies in halogenated dimers (incl. halogen bonds)\",\"Binding energies in halogenated dimers (incl. halogen bonds)\",\"Binding energies in halogenated dimers (incl. halogen bonds)\",\"Binding energies in halogenated dimers (incl. halogen bonds)\",\"Noncovalent interaction energies between heavy element hydrides\",\"Noncovalent interaction energies between heavy element hydrides\",\"Noncovalent interaction energies between heavy element hydrides\",\"Noncovalent interaction energies between heavy element hydrides\",\"Noncovalent interaction energies between heavy element hydrides\",\"Relative energies in butane-1,4-diol conformers\",\"Relative energies in butane-1,4-diol conformers\",\"Relative energies in butane-1,4-diol conformers\",\"Relative energies in butane-1,4-diol conformers\",\"Relative energies in butane-1,4-diol conformers\",\"13 difficult cases for DFT methods\",\"13 difficult cases for DFT methods\",\"13 difficult cases for DFT methods\",\"13 difficult cases for DFT methods\",\"13 difficult cases for DFT methods\",\"Adiabatic electron affinities\",\"Adiabatic electron affinities\",\"Adiabatic electron affinities\",\"Adiabatic electron affinities\",\"Adiabatic electron affinities\",\"Barrier heights of pericyclic reactions\",\"Barrier heights of pericyclic reactions\",\"Barrier heights of pericyclic reactions\",\"Barrier heights of pericyclic reactions\",\"Barrier heights of pericyclic reactions\",\"Total atomisation energies\",\"Total atomisation energies\",\"Total atomisation energies\",\"Total atomisation energies\",\"Total atomisation energies\",\"Interaction energies in pnicogen-containing dimers\",\"Interaction energies in pnicogen-containing dimers\",\"Interaction energies in pnicogen-containing dimers\",\"Interaction energies in pnicogen-containing dimers\",\"Interaction energies in pnicogen-containing dimers\",\"Relative energies in melatonin conformers\",\"Relative energies in melatonin conformers\",\"Relative energies in melatonin conformers\",\"Relative energies in melatonin conformers\",\"Relative energies in melatonin conformers\",\"Proton-exchange barriers in H2O, NH3, and HF clusters\",\"Proton-exchange barriers in H2O, NH3, and HF clusters\",\"Proton-exchange barriers in H2O, NH3, and HF clusters\",\"Proton-exchange barriers in H2O, NH3, and HF clusters\",\"Proton-exchange barriers in H2O, NH3, and HF clusters\",\"Binding energies of noncovalently bound dimers\",\"Binding energies of noncovalently bound dimers\",\"Binding energies of noncovalently bound dimers\",\"Binding energies of noncovalently bound dimers\",\"Binding energies of noncovalently bound dimers\",\"Proton-transfer barriers in uncatalysed and water-catalysed reactions\",\"Proton-transfer barriers in uncatalysed and water-catalysed reactions\",\"Proton-transfer barriers in uncatalysed and water-catalysed reactions\",\"Proton-transfer barriers in uncatalysed and water-catalysed reactions\",\"Proton-transfer barriers in uncatalysed and water-catalysed reactions\"]],[\"nofs\",[\"PNOF5\",\"PNOF7s\",\"PNOF7\",\"GNOF\",\"GNOFm\",\"PNOF5\",\"PNOF7s\",\"PNOF7\",\"GNOF\",\"GNOFm\",\"PNOF5\",\"PNOF7s\",\"PNOF7\",\"GNOF\",\"GNOFm\",\"PNOF5\",\"PNOF7s\",\"PNOF7\",\"GNOF\",\"GNOFm\",\"PNOF5\",\"PNOF7s\",\"PNOF7\",\"GNOF\",\"GNOFm\",\"PNOF5\",\"PNOF7s\",\"PNOF7\",\"GNOF\",\"GNOFm\",\"PNOF5\",\"PNOF7s\",\"PNOF7\",\"GNOF\",\"GNOFm\",\"PNOF5\",\"PNOF7s\",\"PNOF7\",\"GNOF\",\"GNOFm\",\"PNOF5\",\"PNOF7s\",\"PNOF7\",\"GNOF\",\"GNOFm\",\"PNOF5\",\"PNOF7s\",\"PNOF7\",\"GNOF\",\"GNOFm\",\"PNOF5\",\"PNOF7s\",\"PNOF7\",\"GNOF\",\"GNOFm\",\"PNOF5\",\"PNOF7s\",\"PNOF7\",\"GNOF\",\"GNOFm\",\"PNOF5\",\"PNOF7s\",\"PNOF7\",\"GNOF\",\"GNOFm\",\"PNOF5\",\"PNOF7s\",\"PNOF7\",\"GNOF\",\"GNOFm\",\"PNOF5\",\"PNOF7s\",\"PNOF7\",\"GNOF\",\"GNOFm\",\"PNOF5\",\"PNOF7s\",\"PNOF7\",\"GNOF\",\"GNOFm\",\"PNOF5\",\"PNOF7s\",\"PNOF7\",\"GNOF\",\"GNOFm\",\"PNOF5\",\"PNOF7s\",\"PNOF7\",\"GNOF\",\"GNOFm\",\"PNOF5\",\"PNOF7s\",\"PNOF7\",\"GNOF\",\"GNOFm\",\"PNOF5\",\"PNOF7s\",\"PNOF7\",\"GNOF\",\"GNOFm\",\"PNOF5\",\"PNOF7s\",\"PNOF7\",\"GNOF\",\"GNOFm\",\"PNOF5\",\"PNOF7s\",\"PNOF7\",\"GNOF\",\"GNOFm\"]]]}}},\"view\":{\"type\":\"object\",\"name\":\"CDSView\",\"id\":\"p1048\",\"attributes\":{\"filter\":{\"type\":\"object\",\"name\":\"AllIndices\",\"id\":\"p1049\"}}},\"glyph\":{\"type\":\"object\",\"name\":\"VBar\",\"id\":\"p1044\",\"attributes\":{\"x\":{\"type\":\"field\",\"field\":\"x\"},\"top\":{\"type\":\"field\",\"field\":\"counts\"},\"line_color\":{\"type\":\"value\",\"value\":\"white\"},\"fill_color\":{\"type\":\"field\",\"field\":\"x\",\"transform\":{\"type\":\"object\",\"name\":\"CategoricalColorMapper\",\"id\":\"p1040\",\"attributes\":{\"palette\":[\"#1f77b4\",\"#ff7f0e\",\"#2ca02c\",\"#d62728\",\"#9467bd\"],\"factors\":[\"PNOF5\",\"PNOF7s\",\"PNOF7\",\"GNOF\",\"GNOFm\"],\"start\":1,\"end\":2}}}}},\"nonselection_glyph\":{\"type\":\"object\",\"name\":\"VBar\",\"id\":\"p1045\",\"attributes\":{\"x\":{\"type\":\"field\",\"field\":\"x\"},\"top\":{\"type\":\"field\",\"field\":\"counts\"},\"line_color\":{\"type\":\"value\",\"value\":\"white\"},\"line_alpha\":{\"type\":\"value\",\"value\":0.1},\"fill_color\":{\"type\":\"field\",\"field\":\"x\",\"transform\":{\"id\":\"p1040\"}},\"fill_alpha\":{\"type\":\"value\",\"value\":0.1},\"hatch_alpha\":{\"type\":\"value\",\"value\":0.1}}},\"muted_glyph\":{\"type\":\"object\",\"name\":\"VBar\",\"id\":\"p1046\",\"attributes\":{\"x\":{\"type\":\"field\",\"field\":\"x\"},\"top\":{\"type\":\"field\",\"field\":\"counts\"},\"line_color\":{\"type\":\"value\",\"value\":\"white\"},\"line_alpha\":{\"type\":\"value\",\"value\":0.2},\"fill_color\":{\"type\":\"field\",\"field\":\"x\",\"transform\":{\"id\":\"p1040\"}},\"fill_alpha\":{\"type\":\"value\",\"value\":0.2},\"hatch_alpha\":{\"type\":\"value\",\"value\":0.2}}}}}],\"toolbar\":{\"type\":\"object\",\"name\":\"Toolbar\",\"id\":\"p1014\",\"attributes\":{\"tools\":[{\"type\":\"object\",\"name\":\"PanTool\",\"id\":\"p1027\"},{\"type\":\"object\",\"name\":\"WheelZoomTool\",\"id\":\"p1028\",\"attributes\":{\"renderers\":\"auto\"}},{\"type\":\"object\",\"name\":\"BoxZoomTool\",\"id\":\"p1029\",\"attributes\":{\"overlay\":{\"type\":\"object\",\"name\":\"BoxAnnotation\",\"id\":\"p1100\",\"attributes\":{\"syncable\":false,\"line_color\":\"black\",\"line_alpha\":1.0,\"line_width\":2,\"line_dash\":[4,4],\"fill_color\":\"lightgrey\",\"fill_alpha\":0.5,\"level\":\"overlay\",\"visible\":false,\"left\":{\"type\":\"number\",\"value\":\"nan\"},\"right\":{\"type\":\"number\",\"value\":\"nan\"},\"top\":{\"type\":\"number\",\"value\":\"nan\"},\"bottom\":{\"type\":\"number\",\"value\":\"nan\"},\"left_units\":\"canvas\",\"right_units\":\"canvas\",\"top_units\":\"canvas\",\"bottom_units\":\"canvas\",\"handles\":{\"type\":\"object\",\"name\":\"BoxInteractionHandles\",\"id\":\"p1036\",\"attributes\":{\"all\":{\"type\":\"object\",\"name\":\"AreaVisuals\",\"id\":\"p1035\",\"attributes\":{\"fill_color\":\"white\",\"hover_fill_color\":\"lightgray\"}}}}}}}},{\"type\":\"object\",\"name\":\"SaveTool\",\"id\":\"p1037\"},{\"type\":\"object\",\"name\":\"ResetTool\",\"id\":\"p1038\"},{\"type\":\"object\",\"name\":\"HelpTool\",\"id\":\"p1039\"},{\"type\":\"object\",\"name\":\"HoverTool\",\"id\":\"p1052\",\"attributes\":{\"renderers\":\"auto\",\"tooltips\":[[\"Description\",\"@descriptions\"],[\"MAD\",\"@counts\"]]}}]}},\"left\":[{\"type\":\"object\",\"name\":\"LinearAxis\",\"id\":\"p1022\",\"attributes\":{\"ticker\":{\"type\":\"object\",\"name\":\"BasicTicker\",\"id\":\"p1023\",\"attributes\":{\"mantissas\":[1,2,5]}},\"formatter\":{\"type\":\"object\",\"name\":\"BasicTickFormatter\",\"id\":\"p1024\"},\"axis_label\":\"Errors (kcal/mol)\",\"major_label_policy\":{\"type\":\"object\",\"name\":\"AllLabels\",\"id\":\"p1025\"}}}],\"below\":[{\"type\":\"object\",\"name\":\"CategoricalAxis\",\"id\":\"p1017\",\"attributes\":{\"ticker\":{\"type\":\"object\",\"name\":\"CategoricalTicker\",\"id\":\"p1018\"},\"formatter\":{\"type\":\"object\",\"name\":\"CategoricalTickFormatter\",\"id\":\"p1019\"},\"axis_label\":\"Sets\",\"major_label_policy\":{\"type\":\"object\",\"name\":\"AllLabels\",\"id\":\"p1020\"},\"major_label_text_font_size\":\"0pt\",\"group_label_orientation\":1.5707963267948966}}],\"center\":[{\"type\":\"object\",\"name\":\"Grid\",\"id\":\"p1021\",\"attributes\":{\"axis\":{\"id\":\"p1017\"},\"grid_line_color\":null}},{\"type\":\"object\",\"name\":\"Grid\",\"id\":\"p1026\",\"attributes\":{\"dimension\":1,\"axis\":{\"id\":\"p1022\"}}},{\"type\":\"object\",\"name\":\"Legend\",\"id\":\"p1050\",\"attributes\":{\"location\":\"top_center\",\"orientation\":\"horizontal\",\"items\":[{\"type\":\"object\",\"name\":\"LegendItem\",\"id\":\"p1051\",\"attributes\":{\"label\":{\"type\":\"field\",\"field\":\"nofs\"},\"renderers\":[{\"id\":\"p1047\"}]}}]}}]}}]}};\n  const render_items = [{\"docid\":\"0614cb98-32ab-4ed4-902d-308691c6912b\",\"roots\":{\"p1005\":\"ca2ffd35-f88c-466b-bbf4-b495da60eb38\"},\"root_ids\":[\"p1005\"]}];\n  void root.Bokeh.embed.embed_items_notebook(docs_json, render_items);\n  }\n  if (root.Bokeh !== undefined) {\n    embed_document(root);\n  } else {\n    let attempts = 0;\n    const timer = setInterval(function(root) {\n      if (root.Bokeh !== undefined) {\n        clearInterval(timer);\n        embed_document(root);\n      } else {\n        attempts++;\n        if (attempts > 100) {\n          clearInterval(timer);\n          console.log(\"Bokeh: ERROR: Unable to run BokehJS code because BokehJS library is missing\");\n        }\n      }\n    }, 10, root)\n  }\n})(window);",
      "application/vnd.bokehjs_exec.v0+json": ""
     },
     "metadata": {
      "application/vnd.bokehjs_exec.v0+json": {
       "id": "p1005"
      }
     },
     "output_type": "display_data"
    }
   ],
   "source": [
    "from bokeh.models import ColumnDataSource, FactorRange\n",
    "from bokeh.plotting import figure, show\n",
    "from bokeh.models import ColumnDataSource, HoverTool, TapTool\n",
    "import math\n",
    "from bokeh.transform import factor_cmap\n",
    "from bokeh.palettes import Category10\n",
    "\n",
    "nof = \"GNOF\"\n",
    "file = open('{}-{}-{}.yaml'.format(set_name,nof,ncwo), 'r')\n",
    "data = yaml.safe_load(file)\n",
    "subsets = get_Sets(data)\n",
    "description = get_Descriptions(subsets)\n",
    "\n",
    "nofs = [\"PNOF5\", \"PNOF7s\", \"PNOF7\", \"GNOF\", \"GNOFm\"]\n",
    "\n",
    "data = {'subsets' : subsets}\n",
    "for nof in nofs:\n",
    "    if nof==\"GNOFm\":\n",
    "        file = open('{}-{}-{}.yaml'.format(set_name,\"GNOFc\",ncwo), 'r')\n",
    "    else:\n",
    "        file = open('{}-{}-{}.yaml'.format(set_name,nof,ncwo), 'r')\n",
    "    yaml_data = yaml.safe_load(file)\n",
    "    counts = get_MADs(yaml_data)\n",
    "    data[nof] = counts\n",
    "\n",
    "descriptions = {'subsets' : subsets,\n",
    "        'PNOF5'   : description,\n",
    "        'PNOF7s'  : description,\n",
    "        'PNOF7'   : description,\n",
    "        'GNOF'    : description,\n",
    "        'GNOFm'   : description}\n",
    "\n",
    "x = [ (subset, nof) for subset in subsets for nof in nofs ]\n",
    "counts = sum(zip(data['PNOF5'], data['PNOF7s'], data['PNOF7'], data['GNOF'], data['GNOFm']), ()) # like an hstack\n",
    "descriptions = sum(zip(descriptions['PNOF5'], descriptions['PNOF7s'], descriptions['PNOF7'], descriptions['GNOF'], descriptions['GNOFm']), ()) # like an hstack\n",
    "\n",
    "source = ColumnDataSource(data=dict(x=x, counts=counts, descriptions=descriptions, nofs=[f for _,f in x]))\n",
    "\n",
    "p = figure(x_range=FactorRange(*x), width=2000, height=350, title=\"100 Perfect Pairing\")\n",
    "\n",
    "p.vbar(x='x', top='counts', width=1.0, source=source, line_color=\"white\", legend_field=\"nofs\",\n",
    "       fill_color=factor_cmap('x', palette=Category10[len(nofs)], factors=nofs, start=1, end=2))\n",
    "\n",
    "p.y_range.start = 0\n",
    "p.y_range.end = 50\n",
    "p.xaxis.major_label_text_font_size = \"0pt\"\n",
    "#p.xaxis.major_label_orientation = math.pi/2\n",
    "p.xaxis.group_label_orientation = math.pi/2\n",
    "p.xaxis.axis_label = \"Sets\"\n",
    "p.yaxis.axis_label = \"Errors (kcal/mol)\"\n",
    "p.xgrid.grid_line_color = None\n",
    "\n",
    "p.legend.location = \"top_center\"\n",
    "p.legend.orientation = \"horizontal\"\n",
    "\n",
    "hover = HoverTool(tooltips=[\n",
    "    (\"Description\", \"@descriptions\"),\n",
    "    (\"MAD\", \"@counts\"),\n",
    "])\n",
    "p.add_tools(hover)\n",
    "\n",
    "show(p)"
   ]
  },
  {
   "cell_type": "code",
   "execution_count": null,
   "metadata": {},
   "outputs": [],
   "source": []
  }
 ],
 "metadata": {
  "kernelspec": {
   "display_name": "jb",
   "language": "python",
   "name": "python3"
  },
  "language_info": {
   "codemirror_mode": {
    "name": "ipython",
    "version": 3
   },
   "file_extension": ".py",
   "mimetype": "text/x-python",
   "name": "python",
   "nbconvert_exporter": "python",
   "pygments_lexer": "ipython3",
   "version": "3.13.1"
  }
 },
 "nbformat": 4,
 "nbformat_minor": 4
}
