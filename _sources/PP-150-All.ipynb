{
 "cells": [
  {
   "cell_type": "markdown",
   "metadata": {},
   "source": [
    "# 150"
   ]
  },
  {
   "cell_type": "code",
   "execution_count": 1,
   "metadata": {
    "tags": [
     "remove-cell"
    ]
   },
   "outputs": [],
   "source": [
    "import yaml\n",
    "import numpy as np\n",
    "\n",
    "set_name = \"150\"\n",
    "ncwo = \"ncwo1\""
   ]
  },
  {
   "cell_type": "code",
   "execution_count": 2,
   "metadata": {
    "tags": [
     "remove-cell"
    ]
   },
   "outputs": [],
   "source": [
    "def get_MADs(data):\n",
    "    MADs = []\n",
    "    for set in data:\n",
    "        ADs = []\n",
    "        for system in data[set]:\n",
    "            ADs.append(data[set][system][\"AD\"])\n",
    "        MADs.append(np.mean(ADs))\n",
    "    return MADs\n",
    "\n",
    "def get_Sets(data):\n",
    "    Sets = []\n",
    "    for set in data:\n",
    "        Sets.append(set)\n",
    "    return Sets\n",
    "\n",
    "def get_Descriptions(subsets):\n",
    "    f_des = open('Sets_description.yaml', 'r')\n",
    "    d_des = yaml.safe_load(f_des)\n",
    "    descriptions = []\n",
    "    for set in subsets:\n",
    "        descriptions.append(d_des[set])\n",
    "    return descriptions"
   ]
  },
  {
   "cell_type": "code",
   "execution_count": 3,
   "metadata": {
    "tags": [
     "remove-input"
    ]
   },
   "outputs": [
    {
     "data": {
      "text/html": [
       "    <style>\n",
       "        .bk-notebook-logo {\n",
       "            display: block;\n",
       "            width: 20px;\n",
       "            height: 20px;\n",
       "            background-image: url(data:image/png;base64,iVBORw0KGgoAAAANSUhEUgAAABQAAAAUCAYAAACNiR0NAAAABHNCSVQICAgIfAhkiAAAAAlwSFlzAAALEgAACxIB0t1+/AAAABx0RVh0U29mdHdhcmUAQWRvYmUgRmlyZXdvcmtzIENTNui8sowAAAOkSURBVDiNjZRtaJVlGMd/1/08zzln5zjP1LWcU9N0NkN8m2CYjpgQYQXqSs0I84OLIC0hkEKoPtiH3gmKoiJDU7QpLgoLjLIQCpEsNJ1vqUOdO7ppbuec5+V+rj4ctwzd8IIbbi6u+8f1539dt3A78eXC7QizUF7gyV1fD1Yqg4JWz84yffhm0qkFqBogB9rM8tZdtwVsPUhWhGcFJngGeWrPzHm5oaMmkfEg1usvLFyc8jLRqDOMru7AyC8saQr7GG7f5fvDeH7Ej8CM66nIF+8yngt6HWaKh7k49Soy9nXurCi1o3qUbS3zWfrYeQDTB/Qj6kX6Ybhw4B+bOYoLKCC9H3Nu/leUTZ1JdRWkkn2ldcCamzrcf47KKXdAJllSlxAOkRgyHsGC/zRday5Qld9DyoM4/q/rUoy/CXh3jzOu3bHUVZeU+DEn8FInkPBFlu3+nW3Nw0mk6vCDiWg8CeJaxEwuHS3+z5RgY+YBR6V1Z1nxSOfoaPa4LASWxxdNp+VWTk7+4vzaou8v8PN+xo+KY2xsw6une2frhw05CTYOmQvsEhjhWjn0bmXPjpE1+kplmmkP3suftwTubK9Vq22qKmrBhpY4jvd5afdRA3wGjFAgcnTK2s4hY0/GPNIb0nErGMCRxWOOX64Z8RAC4oCXdklmEvcL8o0BfkNK4lUg9HTl+oPlQxdNo3Mg4Nv175e/1LDGzZen30MEjRUtmXSfiTVu1kK8W4txyV6BMKlbgk3lMwYCiusNy9fVfvvwMxv8Ynl6vxoByANLTWplvuj/nF9m2+PDtt1eiHPBr1oIfhCChQMBw6Aw0UulqTKZdfVvfG7VcfIqLG9bcldL/+pdWTLxLUy8Qq38heUIjh4XlzZxzQm19lLFlr8vdQ97rjZVOLf8nclzckbcD4wxXMidpX30sFd37Fv/GtwwhzhxGVAprjbg0gCAEeIgwCZyTV2Z1REEW8O4py0wsjeloKoMr6iCY6dP92H6Vw/oTyICIthibxjm/DfN9lVz8IqtqKYLUXfoKVMVQVVJOElGjrnnUt9T9wbgp8AyYKaGlqingHZU/uG2NTZSVqwHQTWkx9hxjkpWDaCg6Ckj5qebgBVbT3V3NNXMSiWSDdGV3hrtzla7J+duwPOToIg42ChPQOQjspnSlp1V+Gjdged7+8UN5CRAV7a5EdFNwCjEaBR27b3W890TE7g24NAP/mMDXRWrGoFPQI9ls/MWO2dWFAar/xcOIImbbpA3zgAAAABJRU5ErkJggg==);\n",
       "        }\n",
       "    </style>\n",
       "    <div>\n",
       "        <a href=\"https://bokeh.org\" target=\"_blank\" class=\"bk-notebook-logo\"></a>\n",
       "        <span id=\"c5180d00-c061-443d-aab1-c878f8dc4a8c\">Loading BokehJS ...</span>\n",
       "    </div>\n"
      ]
     },
     "metadata": {},
     "output_type": "display_data"
    },
    {
     "data": {
      "application/javascript": "'use strict';\n(function(root) {\n  function now() {\n    return new Date();\n  }\n\n  const force = true;\n\n  if (typeof root._bokeh_onload_callbacks === \"undefined\" || force === true) {\n    root._bokeh_onload_callbacks = [];\n    root._bokeh_is_loading = undefined;\n  }\n\nconst JS_MIME_TYPE = 'application/javascript';\n  const HTML_MIME_TYPE = 'text/html';\n  const EXEC_MIME_TYPE = 'application/vnd.bokehjs_exec.v0+json';\n  const CLASS_NAME = 'output_bokeh rendered_html';\n\n  /**\n   * Render data to the DOM node\n   */\n  function render(props, node) {\n    const script = document.createElement(\"script\");\n    node.appendChild(script);\n  }\n\n  /**\n   * Handle when an output is cleared or removed\n   */\n  function handleClearOutput(event, handle) {\n    function drop(id) {\n      const view = Bokeh.index.get_by_id(id)\n      if (view != null) {\n        view.model.document.clear()\n        Bokeh.index.delete(view)\n      }\n    }\n\n    const cell = handle.cell;\n\n    const id = cell.output_area._bokeh_element_id;\n    const server_id = cell.output_area._bokeh_server_id;\n\n    // Clean up Bokeh references\n    if (id != null) {\n      drop(id)\n    }\n\n    if (server_id !== undefined) {\n      // Clean up Bokeh references\n      const cmd_clean = \"from bokeh.io.state import curstate; print(curstate().uuid_to_server['\" + server_id + \"'].get_sessions()[0].document.roots[0]._id)\";\n      cell.notebook.kernel.execute(cmd_clean, {\n        iopub: {\n          output: function(msg) {\n            const id = msg.content.text.trim()\n            drop(id)\n          }\n        }\n      });\n      // Destroy server and session\n      const cmd_destroy = \"import bokeh.io.notebook as ion; ion.destroy_server('\" + server_id + \"')\";\n      cell.notebook.kernel.execute(cmd_destroy);\n    }\n  }\n\n  /**\n   * Handle when a new output is added\n   */\n  function handleAddOutput(event, handle) {\n    const output_area = handle.output_area;\n    const output = handle.output;\n\n    // limit handleAddOutput to display_data with EXEC_MIME_TYPE content only\n    if ((output.output_type != \"display_data\") || (!Object.prototype.hasOwnProperty.call(output.data, EXEC_MIME_TYPE))) {\n      return\n    }\n\n    const toinsert = output_area.element.find(\".\" + CLASS_NAME.split(' ')[0]);\n\n    if (output.metadata[EXEC_MIME_TYPE][\"id\"] !== undefined) {\n      toinsert[toinsert.length - 1].firstChild.textContent = output.data[JS_MIME_TYPE];\n      // store reference to embed id on output_area\n      output_area._bokeh_element_id = output.metadata[EXEC_MIME_TYPE][\"id\"];\n    }\n    if (output.metadata[EXEC_MIME_TYPE][\"server_id\"] !== undefined) {\n      const bk_div = document.createElement(\"div\");\n      bk_div.innerHTML = output.data[HTML_MIME_TYPE];\n      const script_attrs = bk_div.children[0].attributes;\n      for (let i = 0; i < script_attrs.length; i++) {\n        toinsert[toinsert.length - 1].firstChild.setAttribute(script_attrs[i].name, script_attrs[i].value);\n        toinsert[toinsert.length - 1].firstChild.textContent = bk_div.children[0].textContent\n      }\n      // store reference to server id on output_area\n      output_area._bokeh_server_id = output.metadata[EXEC_MIME_TYPE][\"server_id\"];\n    }\n  }\n\n  function register_renderer(events, OutputArea) {\n\n    function append_mime(data, metadata, element) {\n      // create a DOM node to render to\n      const toinsert = this.create_output_subarea(\n        metadata,\n        CLASS_NAME,\n        EXEC_MIME_TYPE\n      );\n      this.keyboard_manager.register_events(toinsert);\n      // Render to node\n      const props = {data: data, metadata: metadata[EXEC_MIME_TYPE]};\n      render(props, toinsert[toinsert.length - 1]);\n      element.append(toinsert);\n      return toinsert\n    }\n\n    /* Handle when an output is cleared or removed */\n    events.on('clear_output.CodeCell', handleClearOutput);\n    events.on('delete.Cell', handleClearOutput);\n\n    /* Handle when a new output is added */\n    events.on('output_added.OutputArea', handleAddOutput);\n\n    /**\n     * Register the mime type and append_mime function with output_area\n     */\n    OutputArea.prototype.register_mime_type(EXEC_MIME_TYPE, append_mime, {\n      /* Is output safe? */\n      safe: true,\n      /* Index of renderer in `output_area.display_order` */\n      index: 0\n    });\n  }\n\n  // register the mime type if in Jupyter Notebook environment and previously unregistered\n  if (root.Jupyter !== undefined) {\n    const events = require('base/js/events');\n    const OutputArea = require('notebook/js/outputarea').OutputArea;\n\n    if (OutputArea.prototype.mime_types().indexOf(EXEC_MIME_TYPE) == -1) {\n      register_renderer(events, OutputArea);\n    }\n  }\n  if (typeof (root._bokeh_timeout) === \"undefined\" || force === true) {\n    root._bokeh_timeout = Date.now() + 5000;\n    root._bokeh_failed_load = false;\n  }\n\n  const NB_LOAD_WARNING = {'data': {'text/html':\n     \"<div style='background-color: #fdd'>\\n\"+\n     \"<p>\\n\"+\n     \"BokehJS does not appear to have successfully loaded. If loading BokehJS from CDN, this \\n\"+\n     \"may be due to a slow or bad network connection. Possible fixes:\\n\"+\n     \"</p>\\n\"+\n     \"<ul>\\n\"+\n     \"<li>re-rerun `output_notebook()` to attempt to load from CDN again, or</li>\\n\"+\n     \"<li>use INLINE resources instead, as so:</li>\\n\"+\n     \"</ul>\\n\"+\n     \"<code>\\n\"+\n     \"from bokeh.resources import INLINE\\n\"+\n     \"output_notebook(resources=INLINE)\\n\"+\n     \"</code>\\n\"+\n     \"</div>\"}};\n\n  function display_loaded(error = null) {\n    const el = document.getElementById(\"c5180d00-c061-443d-aab1-c878f8dc4a8c\");\n    if (el != null) {\n      const html = (() => {\n        if (typeof root.Bokeh === \"undefined\") {\n          if (error == null) {\n            return \"BokehJS is loading ...\";\n          } else {\n            return \"BokehJS failed to load.\";\n          }\n        } else {\n          const prefix = `BokehJS ${root.Bokeh.version}`;\n          if (error == null) {\n            return `${prefix} successfully loaded.`;\n          } else {\n            return `${prefix} <b>encountered errors</b> while loading and may not function as expected.`;\n          }\n        }\n      })();\n      el.innerHTML = html;\n\n      if (error != null) {\n        const wrapper = document.createElement(\"div\");\n        wrapper.style.overflow = \"auto\";\n        wrapper.style.height = \"5em\";\n        wrapper.style.resize = \"vertical\";\n        const content = document.createElement(\"div\");\n        content.style.fontFamily = \"monospace\";\n        content.style.whiteSpace = \"pre-wrap\";\n        content.style.backgroundColor = \"rgb(255, 221, 221)\";\n        content.textContent = error.stack ?? error.toString();\n        wrapper.append(content);\n        el.append(wrapper);\n      }\n    } else if (Date.now() < root._bokeh_timeout) {\n      setTimeout(() => display_loaded(error), 150);\n    }\n  }\n\n  function run_callbacks() {\n    try {\n      root._bokeh_onload_callbacks.forEach(function(callback) {\n        if (callback != null)\n          callback();\n      });\n    } finally {\n      delete root._bokeh_onload_callbacks\n    }\n    console.debug(\"Bokeh: all callbacks have finished\");\n  }\n\n  function load_libs(css_urls, js_urls, callback) {\n    if (css_urls == null) css_urls = [];\n    if (js_urls == null) js_urls = [];\n\n    root._bokeh_onload_callbacks.push(callback);\n    if (root._bokeh_is_loading > 0) {\n      console.debug(\"Bokeh: BokehJS is being loaded, scheduling callback at\", now());\n      return null;\n    }\n    if (js_urls == null || js_urls.length === 0) {\n      run_callbacks();\n      return null;\n    }\n    console.debug(\"Bokeh: BokehJS not loaded, scheduling load and callback at\", now());\n    root._bokeh_is_loading = css_urls.length + js_urls.length;\n\n    function on_load() {\n      root._bokeh_is_loading--;\n      if (root._bokeh_is_loading === 0) {\n        console.debug(\"Bokeh: all BokehJS libraries/stylesheets loaded\");\n        run_callbacks()\n      }\n    }\n\n    function on_error(url) {\n      console.error(\"failed to load \" + url);\n    }\n\n    for (let i = 0; i < css_urls.length; i++) {\n      const url = css_urls[i];\n      const element = document.createElement(\"link\");\n      element.onload = on_load;\n      element.onerror = on_error.bind(null, url);\n      element.rel = \"stylesheet\";\n      element.type = \"text/css\";\n      element.href = url;\n      console.debug(\"Bokeh: injecting link tag for BokehJS stylesheet: \", url);\n      document.body.appendChild(element);\n    }\n\n    for (let i = 0; i < js_urls.length; i++) {\n      const url = js_urls[i];\n      const element = document.createElement('script');\n      element.onload = on_load;\n      element.onerror = on_error.bind(null, url);\n      element.async = false;\n      element.src = url;\n      console.debug(\"Bokeh: injecting script tag for BokehJS library: \", url);\n      document.head.appendChild(element);\n    }\n  };\n\n  function inject_raw_css(css) {\n    const element = document.createElement(\"style\");\n    element.appendChild(document.createTextNode(css));\n    document.body.appendChild(element);\n  }\n\n  const js_urls = [\"https://cdn.bokeh.org/bokeh/release/bokeh-3.6.2.min.js\", \"https://cdn.bokeh.org/bokeh/release/bokeh-gl-3.6.2.min.js\", \"https://cdn.bokeh.org/bokeh/release/bokeh-widgets-3.6.2.min.js\", \"https://cdn.bokeh.org/bokeh/release/bokeh-tables-3.6.2.min.js\", \"https://cdn.bokeh.org/bokeh/release/bokeh-mathjax-3.6.2.min.js\"];\n  const css_urls = [];\n\n  const inline_js = [    function(Bokeh) {\n      Bokeh.set_log_level(\"info\");\n    },\nfunction(Bokeh) {\n    }\n  ];\n\n  function run_inline_js() {\n    if (root.Bokeh !== undefined || force === true) {\n      try {\n            for (let i = 0; i < inline_js.length; i++) {\n      inline_js[i].call(root, root.Bokeh);\n    }\n\n      } catch (error) {display_loaded(error);throw error;\n      }if (force === true) {\n        display_loaded();\n      }} else if (Date.now() < root._bokeh_timeout) {\n      setTimeout(run_inline_js, 150);\n    } else if (!root._bokeh_failed_load) {\n      console.log(\"Bokeh: BokehJS failed to load within specified timeout.\");\n      root._bokeh_failed_load = true;\n    } else if (force !== true) {\n      const cell = $(document.getElementById(\"c5180d00-c061-443d-aab1-c878f8dc4a8c\")).parents('.cell').data().cell;\n      cell.output_area.append_execute_result(NB_LOAD_WARNING)\n    }\n  }\n\n  if (root._bokeh_is_loading === 0) {\n    console.debug(\"Bokeh: BokehJS loaded, going straight to plotting\");\n    run_inline_js();\n  } else {\n    load_libs(css_urls, js_urls, function() {\n      console.debug(\"Bokeh: BokehJS plotting callback run at\", now());\n      run_inline_js();\n    });\n  }\n}(window));",
      "application/vnd.bokehjs_load.v0+json": ""
     },
     "metadata": {},
     "output_type": "display_data"
    }
   ],
   "source": [
    "from bokeh.plotting import figure, show, output_notebook\n",
    "output_notebook()"
   ]
  },
  {
   "cell_type": "code",
   "execution_count": 4,
   "metadata": {
    "tags": [
     "remove-input",
     "full-width"
    ]
   },
   "outputs": [
    {
     "data": {
      "text/html": [
       "\n",
       "  <div id=\"e3c23138-90d3-4c57-bfbb-51d3fbe120fb\" data-root-id=\"p1505\" style=\"display: contents;\"></div>\n"
      ]
     },
     "metadata": {},
     "output_type": "display_data"
    },
    {
     "data": {
      "application/javascript": "(function(root) {\n  function embed_document(root) {\n  const docs_json = {\"5a930a63-9a88-4783-ac3a-ecc781091e37\":{\"version\":\"3.6.2\",\"title\":\"Bokeh Application\",\"roots\":[{\"type\":\"object\",\"name\":\"Figure\",\"id\":\"p1505\",\"attributes\":{\"width\":1050,\"height\":400,\"x_range\":{\"type\":\"object\",\"name\":\"FactorRange\",\"id\":\"p1504\",\"attributes\":{\"factors\":[[\"FH51\",\"PNOF5\"],[\"FH51\",\"PNOF7s\"],[\"FH51\",\"PNOF7\"],[\"FH51\",\"GNOF\"],[\"FH51\",\"GNOFm\"],[\"INV24\",\"PNOF5\"],[\"INV24\",\"PNOF7s\"],[\"INV24\",\"PNOF7\"],[\"INV24\",\"GNOF\"],[\"INV24\",\"GNOFm\"],[\"ISO34\",\"PNOF5\"],[\"ISO34\",\"PNOF7s\"],[\"ISO34\",\"PNOF7\"],[\"ISO34\",\"GNOF\"],[\"ISO34\",\"GNOFm\"],[\"RG18\",\"PNOF5\"],[\"RG18\",\"PNOF7s\"],[\"RG18\",\"PNOF7\"],[\"RG18\",\"GNOF\"],[\"RG18\",\"GNOFm\"],[\"SCONF\",\"PNOF5\"],[\"SCONF\",\"PNOF7s\"],[\"SCONF\",\"PNOF7\"],[\"SCONF\",\"GNOF\"],[\"SCONF\",\"GNOFm\"],[\"ALKBDE10\",\"PNOF5\"],[\"ALKBDE10\",\"PNOF7s\"],[\"ALKBDE10\",\"PNOF7\"],[\"ALKBDE10\",\"GNOF\"],[\"ALKBDE10\",\"GNOFm\"],[\"ACONF\",\"PNOF5\"],[\"ACONF\",\"PNOF7s\"],[\"ACONF\",\"PNOF7\"],[\"ACONF\",\"GNOF\"],[\"ACONF\",\"GNOFm\"],[\"CDIE20\",\"PNOF5\"],[\"CDIE20\",\"PNOF7s\"],[\"CDIE20\",\"PNOF7\"],[\"CDIE20\",\"GNOF\"],[\"CDIE20\",\"GNOFm\"],[\"BSR36\",\"PNOF5\"],[\"BSR36\",\"PNOF7s\"],[\"BSR36\",\"PNOF7\"],[\"BSR36\",\"GNOF\"],[\"BSR36\",\"GNOFm\"],[\"BH76\",\"PNOF5\"],[\"BH76\",\"PNOF7s\"],[\"BH76\",\"PNOF7\"],[\"BH76\",\"GNOF\"],[\"BH76\",\"GNOFm\"],[\"G2RC\",\"PNOF5\"],[\"G2RC\",\"PNOF7s\"],[\"G2RC\",\"PNOF7\"],[\"G2RC\",\"GNOF\"],[\"G2RC\",\"GNOFm\"],[\"RC21\",\"PNOF5\"],[\"RC21\",\"PNOF7s\"],[\"RC21\",\"PNOF7\"],[\"RC21\",\"GNOF\"],[\"RC21\",\"GNOFm\"],[\"MB16-43\",\"PNOF5\"],[\"MB16-43\",\"PNOF7s\"],[\"MB16-43\",\"PNOF7\"],[\"MB16-43\",\"GNOF\"],[\"MB16-43\",\"GNOFm\"],[\"Amino20x4\",\"PNOF5\"],[\"Amino20x4\",\"PNOF7s\"],[\"Amino20x4\",\"PNOF7\"],[\"Amino20x4\",\"GNOF\"],[\"Amino20x4\",\"GNOFm\"],[\"BHROT27\",\"PNOF5\"],[\"BHROT27\",\"PNOF7s\"],[\"BHROT27\",\"PNOF7\"],[\"BHROT27\",\"GNOF\"],[\"BHROT27\",\"GNOFm\"],[\"ISOL24\",\"PNOF5\"],[\"ISOL24\",\"PNOF7s\"],[\"ISOL24\",\"PNOF7\"],[\"ISOL24\",\"GNOF\"],[\"ISOL24\",\"GNOFm\"],[\"PCONF21\",\"PNOF5\"],[\"PCONF21\",\"PNOF7s\"],[\"PCONF21\",\"PNOF7\"],[\"PCONF21\",\"GNOF\"],[\"PCONF21\",\"GNOFm\"],[\"RSE43\",\"PNOF5\"],[\"RSE43\",\"PNOF7s\"],[\"RSE43\",\"PNOF7\"],[\"RSE43\",\"GNOF\"],[\"RSE43\",\"GNOFm\"],[\"ADIM6\",\"PNOF5\"],[\"ADIM6\",\"PNOF7s\"],[\"ADIM6\",\"PNOF7\"],[\"ADIM6\",\"GNOF\"],[\"ADIM6\",\"GNOFm\"],[\"SIE4x4\",\"PNOF5\"],[\"SIE4x4\",\"PNOF7s\"],[\"SIE4x4\",\"PNOF7\"],[\"SIE4x4\",\"GNOF\"],[\"SIE4x4\",\"GNOFm\"],[\"HAL59\",\"PNOF5\"],[\"HAL59\",\"PNOF7s\"],[\"HAL59\",\"PNOF7\"],[\"HAL59\",\"GNOF\"],[\"HAL59\",\"GNOFm\"],[\"BUT14DIOL\",\"PNOF5\"],[\"BUT14DIOL\",\"PNOF7s\"],[\"BUT14DIOL\",\"PNOF7\"],[\"BUT14DIOL\",\"GNOF\"],[\"BUT14DIOL\",\"GNOFm\"],[\"UPU23\",\"PNOF5\"],[\"UPU23\",\"PNOF7s\"],[\"UPU23\",\"PNOF7\"],[\"UPU23\",\"GNOF\"],[\"UPU23\",\"GNOFm\"],[\"BH76RC\",\"PNOF5\"],[\"BH76RC\",\"PNOF7s\"],[\"BH76RC\",\"PNOF7\"],[\"BH76RC\",\"GNOF\"],[\"BH76RC\",\"GNOFm\"],[\"CARBHB12\",\"PNOF5\"],[\"CARBHB12\",\"PNOF7s\"],[\"CARBHB12\",\"PNOF7\"],[\"CARBHB12\",\"GNOF\"],[\"CARBHB12\",\"GNOFm\"],[\"DC13\",\"PNOF5\"],[\"DC13\",\"PNOF7s\"],[\"DC13\",\"PNOF7\"],[\"DC13\",\"GNOF\"],[\"DC13\",\"GNOFm\"],[\"HEAVY28\",\"PNOF5\"],[\"HEAVY28\",\"PNOF7s\"],[\"HEAVY28\",\"PNOF7\"],[\"HEAVY28\",\"GNOF\"],[\"HEAVY28\",\"GNOFm\"],[\"PArel\",\"PNOF5\"],[\"PArel\",\"PNOF7s\"],[\"PArel\",\"PNOF7\"],[\"PArel\",\"GNOF\"],[\"PArel\",\"GNOFm\"],[\"G21EA\",\"PNOF5\"],[\"G21EA\",\"PNOF7s\"],[\"G21EA\",\"PNOF7\"],[\"G21EA\",\"GNOF\"],[\"G21EA\",\"GNOFm\"],[\"BHPERI\",\"PNOF5\"],[\"BHPERI\",\"PNOF7s\"],[\"BHPERI\",\"PNOF7\"],[\"BHPERI\",\"GNOF\"],[\"BHPERI\",\"GNOFm\"],[\"AHB21\",\"PNOF5\"],[\"AHB21\",\"PNOF7s\"],[\"AHB21\",\"PNOF7\"],[\"AHB21\",\"GNOF\"],[\"AHB21\",\"GNOFm\"],[\"IL16\",\"PNOF5\"],[\"IL16\",\"PNOF7s\"],[\"IL16\",\"PNOF7\"],[\"IL16\",\"GNOF\"],[\"IL16\",\"GNOFm\"],[\"W4-11\",\"PNOF5\"],[\"W4-11\",\"PNOF7s\"],[\"W4-11\",\"PNOF7\"],[\"W4-11\",\"GNOF\"],[\"W4-11\",\"GNOFm\"],[\"PNICO23\",\"PNOF5\"],[\"PNICO23\",\"PNOF7s\"],[\"PNICO23\",\"PNOF7\"],[\"PNICO23\",\"GNOF\"],[\"PNICO23\",\"GNOFm\"],[\"YBDE18\",\"PNOF5\"],[\"YBDE18\",\"PNOF7s\"],[\"YBDE18\",\"PNOF7\"],[\"YBDE18\",\"GNOF\"],[\"YBDE18\",\"GNOFm\"],[\"WATER27\",\"PNOF5\"],[\"WATER27\",\"PNOF7s\"],[\"WATER27\",\"PNOF7\"],[\"WATER27\",\"GNOF\"],[\"WATER27\",\"GNOFm\"],[\"MCONF\",\"PNOF5\"],[\"MCONF\",\"PNOF7s\"],[\"MCONF\",\"PNOF7\"],[\"MCONF\",\"GNOF\"],[\"MCONF\",\"GNOFm\"],[\"ICONF\",\"PNOF5\"],[\"ICONF\",\"PNOF7s\"],[\"ICONF\",\"PNOF7\"],[\"ICONF\",\"GNOF\"],[\"ICONF\",\"GNOFm\"],[\"S66\",\"PNOF5\"],[\"S66\",\"PNOF7s\"],[\"S66\",\"PNOF7\"],[\"S66\",\"GNOF\"],[\"S66\",\"GNOFm\"],[\"CHB6\",\"PNOF5\"],[\"CHB6\",\"PNOF7s\"],[\"CHB6\",\"PNOF7\"],[\"CHB6\",\"GNOF\"],[\"CHB6\",\"GNOFm\"],[\"G21IP\",\"PNOF5\"],[\"G21IP\",\"PNOF7s\"],[\"G21IP\",\"PNOF7\"],[\"G21IP\",\"GNOF\"],[\"G21IP\",\"GNOFm\"]]}},\"y_range\":{\"type\":\"object\",\"name\":\"DataRange1d\",\"id\":\"p1507\",\"attributes\":{\"start\":0,\"end\":50}},\"x_scale\":{\"type\":\"object\",\"name\":\"CategoricalScale\",\"id\":\"p1015\"},\"y_scale\":{\"type\":\"object\",\"name\":\"LinearScale\",\"id\":\"p1016\"},\"title\":{\"type\":\"object\",\"name\":\"Title\",\"id\":\"p1508\",\"attributes\":{\"text\":\"150 Perfect Pairing\"}},\"renderers\":[{\"type\":\"object\",\"name\":\"GlyphRenderer\",\"id\":\"p1047\",\"attributes\":{\"data_source\":{\"type\":\"object\",\"name\":\"ColumnDataSource\",\"id\":\"p1501\",\"attributes\":{\"selected\":{\"type\":\"object\",\"name\":\"Selection\",\"id\":\"p1502\",\"attributes\":{\"indices\":[],\"line_indices\":[]}},\"selection_policy\":{\"type\":\"object\",\"name\":\"UnionRenderers\",\"id\":\"p1503\"},\"data\":{\"type\":\"map\",\"entries\":[[\"x\",[[\"FH51\",\"PNOF5\"],[\"FH51\",\"PNOF7s\"],[\"FH51\",\"PNOF7\"],[\"FH51\",\"GNOF\"],[\"FH51\",\"GNOFm\"],[\"INV24\",\"PNOF5\"],[\"INV24\",\"PNOF7s\"],[\"INV24\",\"PNOF7\"],[\"INV24\",\"GNOF\"],[\"INV24\",\"GNOFm\"],[\"ISO34\",\"PNOF5\"],[\"ISO34\",\"PNOF7s\"],[\"ISO34\",\"PNOF7\"],[\"ISO34\",\"GNOF\"],[\"ISO34\",\"GNOFm\"],[\"RG18\",\"PNOF5\"],[\"RG18\",\"PNOF7s\"],[\"RG18\",\"PNOF7\"],[\"RG18\",\"GNOF\"],[\"RG18\",\"GNOFm\"],[\"SCONF\",\"PNOF5\"],[\"SCONF\",\"PNOF7s\"],[\"SCONF\",\"PNOF7\"],[\"SCONF\",\"GNOF\"],[\"SCONF\",\"GNOFm\"],[\"ALKBDE10\",\"PNOF5\"],[\"ALKBDE10\",\"PNOF7s\"],[\"ALKBDE10\",\"PNOF7\"],[\"ALKBDE10\",\"GNOF\"],[\"ALKBDE10\",\"GNOFm\"],[\"ACONF\",\"PNOF5\"],[\"ACONF\",\"PNOF7s\"],[\"ACONF\",\"PNOF7\"],[\"ACONF\",\"GNOF\"],[\"ACONF\",\"GNOFm\"],[\"CDIE20\",\"PNOF5\"],[\"CDIE20\",\"PNOF7s\"],[\"CDIE20\",\"PNOF7\"],[\"CDIE20\",\"GNOF\"],[\"CDIE20\",\"GNOFm\"],[\"BSR36\",\"PNOF5\"],[\"BSR36\",\"PNOF7s\"],[\"BSR36\",\"PNOF7\"],[\"BSR36\",\"GNOF\"],[\"BSR36\",\"GNOFm\"],[\"BH76\",\"PNOF5\"],[\"BH76\",\"PNOF7s\"],[\"BH76\",\"PNOF7\"],[\"BH76\",\"GNOF\"],[\"BH76\",\"GNOFm\"],[\"G2RC\",\"PNOF5\"],[\"G2RC\",\"PNOF7s\"],[\"G2RC\",\"PNOF7\"],[\"G2RC\",\"GNOF\"],[\"G2RC\",\"GNOFm\"],[\"RC21\",\"PNOF5\"],[\"RC21\",\"PNOF7s\"],[\"RC21\",\"PNOF7\"],[\"RC21\",\"GNOF\"],[\"RC21\",\"GNOFm\"],[\"MB16-43\",\"PNOF5\"],[\"MB16-43\",\"PNOF7s\"],[\"MB16-43\",\"PNOF7\"],[\"MB16-43\",\"GNOF\"],[\"MB16-43\",\"GNOFm\"],[\"Amino20x4\",\"PNOF5\"],[\"Amino20x4\",\"PNOF7s\"],[\"Amino20x4\",\"PNOF7\"],[\"Amino20x4\",\"GNOF\"],[\"Amino20x4\",\"GNOFm\"],[\"BHROT27\",\"PNOF5\"],[\"BHROT27\",\"PNOF7s\"],[\"BHROT27\",\"PNOF7\"],[\"BHROT27\",\"GNOF\"],[\"BHROT27\",\"GNOFm\"],[\"ISOL24\",\"PNOF5\"],[\"ISOL24\",\"PNOF7s\"],[\"ISOL24\",\"PNOF7\"],[\"ISOL24\",\"GNOF\"],[\"ISOL24\",\"GNOFm\"],[\"PCONF21\",\"PNOF5\"],[\"PCONF21\",\"PNOF7s\"],[\"PCONF21\",\"PNOF7\"],[\"PCONF21\",\"GNOF\"],[\"PCONF21\",\"GNOFm\"],[\"RSE43\",\"PNOF5\"],[\"RSE43\",\"PNOF7s\"],[\"RSE43\",\"PNOF7\"],[\"RSE43\",\"GNOF\"],[\"RSE43\",\"GNOFm\"],[\"ADIM6\",\"PNOF5\"],[\"ADIM6\",\"PNOF7s\"],[\"ADIM6\",\"PNOF7\"],[\"ADIM6\",\"GNOF\"],[\"ADIM6\",\"GNOFm\"],[\"SIE4x4\",\"PNOF5\"],[\"SIE4x4\",\"PNOF7s\"],[\"SIE4x4\",\"PNOF7\"],[\"SIE4x4\",\"GNOF\"],[\"SIE4x4\",\"GNOFm\"],[\"HAL59\",\"PNOF5\"],[\"HAL59\",\"PNOF7s\"],[\"HAL59\",\"PNOF7\"],[\"HAL59\",\"GNOF\"],[\"HAL59\",\"GNOFm\"],[\"BUT14DIOL\",\"PNOF5\"],[\"BUT14DIOL\",\"PNOF7s\"],[\"BUT14DIOL\",\"PNOF7\"],[\"BUT14DIOL\",\"GNOF\"],[\"BUT14DIOL\",\"GNOFm\"],[\"UPU23\",\"PNOF5\"],[\"UPU23\",\"PNOF7s\"],[\"UPU23\",\"PNOF7\"],[\"UPU23\",\"GNOF\"],[\"UPU23\",\"GNOFm\"],[\"BH76RC\",\"PNOF5\"],[\"BH76RC\",\"PNOF7s\"],[\"BH76RC\",\"PNOF7\"],[\"BH76RC\",\"GNOF\"],[\"BH76RC\",\"GNOFm\"],[\"CARBHB12\",\"PNOF5\"],[\"CARBHB12\",\"PNOF7s\"],[\"CARBHB12\",\"PNOF7\"],[\"CARBHB12\",\"GNOF\"],[\"CARBHB12\",\"GNOFm\"],[\"DC13\",\"PNOF5\"],[\"DC13\",\"PNOF7s\"],[\"DC13\",\"PNOF7\"],[\"DC13\",\"GNOF\"],[\"DC13\",\"GNOFm\"],[\"HEAVY28\",\"PNOF5\"],[\"HEAVY28\",\"PNOF7s\"],[\"HEAVY28\",\"PNOF7\"],[\"HEAVY28\",\"GNOF\"],[\"HEAVY28\",\"GNOFm\"],[\"PArel\",\"PNOF5\"],[\"PArel\",\"PNOF7s\"],[\"PArel\",\"PNOF7\"],[\"PArel\",\"GNOF\"],[\"PArel\",\"GNOFm\"],[\"G21EA\",\"PNOF5\"],[\"G21EA\",\"PNOF7s\"],[\"G21EA\",\"PNOF7\"],[\"G21EA\",\"GNOF\"],[\"G21EA\",\"GNOFm\"],[\"BHPERI\",\"PNOF5\"],[\"BHPERI\",\"PNOF7s\"],[\"BHPERI\",\"PNOF7\"],[\"BHPERI\",\"GNOF\"],[\"BHPERI\",\"GNOFm\"],[\"AHB21\",\"PNOF5\"],[\"AHB21\",\"PNOF7s\"],[\"AHB21\",\"PNOF7\"],[\"AHB21\",\"GNOF\"],[\"AHB21\",\"GNOFm\"],[\"IL16\",\"PNOF5\"],[\"IL16\",\"PNOF7s\"],[\"IL16\",\"PNOF7\"],[\"IL16\",\"GNOF\"],[\"IL16\",\"GNOFm\"],[\"W4-11\",\"PNOF5\"],[\"W4-11\",\"PNOF7s\"],[\"W4-11\",\"PNOF7\"],[\"W4-11\",\"GNOF\"],[\"W4-11\",\"GNOFm\"],[\"PNICO23\",\"PNOF5\"],[\"PNICO23\",\"PNOF7s\"],[\"PNICO23\",\"PNOF7\"],[\"PNICO23\",\"GNOF\"],[\"PNICO23\",\"GNOFm\"],[\"YBDE18\",\"PNOF5\"],[\"YBDE18\",\"PNOF7s\"],[\"YBDE18\",\"PNOF7\"],[\"YBDE18\",\"GNOF\"],[\"YBDE18\",\"GNOFm\"],[\"WATER27\",\"PNOF5\"],[\"WATER27\",\"PNOF7s\"],[\"WATER27\",\"PNOF7\"],[\"WATER27\",\"GNOF\"],[\"WATER27\",\"GNOFm\"],[\"MCONF\",\"PNOF5\"],[\"MCONF\",\"PNOF7s\"],[\"MCONF\",\"PNOF7\"],[\"MCONF\",\"GNOF\"],[\"MCONF\",\"GNOFm\"],[\"ICONF\",\"PNOF5\"],[\"ICONF\",\"PNOF7s\"],[\"ICONF\",\"PNOF7\"],[\"ICONF\",\"GNOF\"],[\"ICONF\",\"GNOFm\"],[\"S66\",\"PNOF5\"],[\"S66\",\"PNOF7s\"],[\"S66\",\"PNOF7\"],[\"S66\",\"GNOF\"],[\"S66\",\"GNOFm\"],[\"CHB6\",\"PNOF5\"],[\"CHB6\",\"PNOF7s\"],[\"CHB6\",\"PNOF7\"],[\"CHB6\",\"GNOF\"],[\"CHB6\",\"GNOFm\"],[\"G21IP\",\"PNOF5\"],[\"G21IP\",\"PNOF7s\"],[\"G21IP\",\"PNOF7\"],[\"G21IP\",\"GNOF\"],[\"G21IP\",\"GNOFm\"]]],[\"counts\",[1.328627555012801,1.9324475749927075,10.748859559999989,3.5641037300088847,3.055673225008782,0.968657298322889,1.1658332583336648,1.3822000083340145,0.936481236637551,1.3622742766700349,8.872843875001308,9.538312739993117,8.582630212512129,0.8602790425010447,0.2658999899999106,0.24369316747763664,0.24516697000600005,0.24337959252299002,0.24507289751158495,0.39198607248243406,4.817646520005309,4.829875945015082,4.96753536998337,2.7026458600120296,2.4756802749932834,24.40203792999155,25.48644299500404,33.313588569994366,3.1470464200027664,6.46680222999899,0.6884419983318776,0.6848881483289669,0.62564337833476,0.6757944733281601,0.6635859533340293,2.550252432507229,2.540123959993587,2.5102716199923103,0.13895475501160925,0.051592760002238336,9.860871360006783,9.859867920003971,9.615404850025836,9.679311434983912,9.592137584999023,20.197482329984446,19.066809273748312,6.075694919985616,13.235380428743174,7.4805579562397995,15.620940114995932,16.108235665004443,23.47210553500181,8.665156750006084,7.358740584999325,19.644886615000658,18.875248134999133,12.651097960015063,4.213923580000703,2.658152574996521,-1.0,-1.0,-1.0,21.475016687547992,20.139375332362363,1.311357276674148,1.352665556669673,1.5701355000049129,0.9694978116555326,1.0785173866535966,0.6793843349925557,0.8432902350147006,1.566017894952255,0.9580043366467673,0.8441557066888215,3.8952167150026646,3.9026170850267583,3.7217470250698774,7.145735164995244,8.29160093000407,1.8900173066203607,2.2972258016688687,1.7663224216736086,2.527118086632693,1.6785005167361036,4.6907030650008,4.322147915004429,2.0444711516532426,3.420787029992052,2.1409202149962483,3.260229615004985,3.255086979989449,3.1919329749956056,2.7555620050029015,2.6550298600000453,18.013018134999175,17.418135002498936,5.183786874999429,13.722653627500977,6.218584374998131,2.868989354112635,2.8000551167094367,2.6353655267426017,0.9836383616375644,2.275225013284127,2.6046861233453344,2.6148250483316193,2.741760208353373,1.0595766683201795,1.103832553348665,5.037569809991764,5.144122595243225,4.853250424936645,4.709068640065384,4.0714452350424875,8.479758340011847,8.524599565005582,9.362534679989745,7.524608889999213,5.533721214999163,3.3965506887760966,3.4762928112253855,3.281013979993835,1.456681666257304,1.1889442162464197,21.00032002749745,20.623371519983955,33.46095817499702,14.961304532510644,11.354847150031726,-1.0,-1.0,-1.0,-1.0,-1.0,4.15375288748664,4.247457339992179,5.208966305020553,1.6339359787654795,0.4851517812432181,25.03688737832897,23.835330693334786,17.71056288833365,28.92962833333877,23.711823953335273,22.787707163756295,21.921205366265827,13.271199753745535,13.264481450015339,11.760215138742524,5.437747250005513,5.454962517501709,5.622568355008564,2.7160103225093906,2.618676642508263,9.391215854964074,9.376352399937431,9.31125422995207,2.6176195650289458,0.342193935005767,39.60040388000713,9.7655455538872,16.610546355551786,33.38302081389677,35.956110816111725,3.8811882499992985,3.896992430005741,3.8961144199776556,2.0906750000013545,1.6849716649971735,20.266424404995867,20.256954439960957,18.17713689502679,9.70766429003659,11.131294789998286,13.380741632497227,13.445432155006799,14.258688917521186,5.276395757504922,4.591077594997275,3.0729850849798286,3.1496071362841396,3.5638397112364846,2.3102922912392905,2.44653542878389,3.095188709985778,3.139528214938,3.5524437750933067,3.188320485000188,2.364119954984913,5.6486057450063045,5.746528945996497,6.293177971994545,4.049247815015919,3.7739164220041372,0.41206698500239014,0.427244015010416,0.7273352900103092,0.8713916449959669,1.1028727150050943,21.09533428000853,22.383186805001117,24.04043067999686,7.24717241500332,14.061470739999692]],[\"descriptions\",[\"Reaction energies in various (in-)organic systems\",\"Reaction energies in various (in-)organic systems\",\"Reaction energies in various (in-)organic systems\",\"Reaction energies in various (in-)organic systems\",\"Reaction energies in various (in-)organic systems\",\"Inversion/racemisation barrier heights\",\"Inversion/racemisation barrier heights\",\"Inversion/racemisation barrier heights\",\"Inversion/racemisation barrier heights\",\"Inversion/racemisation barrier heights\",\"Isomerisation energies of small and medium-sized organic molecules\",\"Isomerisation energies of small and medium-sized organic molecules\",\"Isomerisation energies of small and medium-sized organic molecules\",\"Isomerisation energies of small and medium-sized organic molecules\",\"Isomerisation energies of small and medium-sized organic molecules\",\"Interaction energies in rare-gas complexes\",\"Interaction energies in rare-gas complexes\",\"Interaction energies in rare-gas complexes\",\"Interaction energies in rare-gas complexes\",\"Interaction energies in rare-gas complexes\",\"Relative energies of sugar conformers\",\"Relative energies of sugar conformers\",\"Relative energies of sugar conformers\",\"Relative energies of sugar conformers\",\"Relative energies of sugar conformers\",\"Dissociation energies in group-1 and -2 diatomics\",\"Dissociation energies in group-1 and -2 diatomics\",\"Dissociation energies in group-1 and -2 diatomics\",\"Dissociation energies in group-1 and -2 diatomics\",\"Dissociation energies in group-1 and -2 diatomics\",\"Relative energies of alkane conformers\",\"Relative energies of alkane conformers\",\"Relative energies of alkane conformers\",\"Relative energies of alkane conformers\",\"Relative energies of alkane conformers\",\"Double-bond isomerisation energies in cyclic systems\",\"Double-bond isomerisation energies in cyclic systems\",\"Double-bond isomerisation energies in cyclic systems\",\"Double-bond isomerisation energies in cyclic systems\",\"Double-bond isomerisation energies in cyclic systems\",\"Bond-separation reactions of saturated hydrocarbons\",\"Bond-separation reactions of saturated hydrocarbons\",\"Bond-separation reactions of saturated hydrocarbons\",\"Bond-separation reactions of saturated hydrocarbons\",\"Bond-separation reactions of saturated hydrocarbons\",\"Barrier heights of hydrogen transfer, heavy atom transfer, nucleophilic substitution, unimolecular and association reactions\",\"Barrier heights of hydrogen transfer, heavy atom transfer, nucleophilic substitution, unimolecular and association reactions\",\"Barrier heights of hydrogen transfer, heavy atom transfer, nucleophilic substitution, unimolecular and association reactions\",\"Barrier heights of hydrogen transfer, heavy atom transfer, nucleophilic substitution, unimolecular and association reactions\",\"Barrier heights of hydrogen transfer, heavy atom transfer, nucleophilic substitution, unimolecular and association reactions\",\"Reaction energies of selected G2/97 systems\",\"Reaction energies of selected G2/97 systems\",\"Reaction energies of selected G2/97 systems\",\"Reaction energies of selected G2/97 systems\",\"Reaction energies of selected G2/97 systems\",\"Fragmentations and rearrangements in radical cations\",\"Fragmentations and rearrangements in radical cations\",\"Fragmentations and rearrangements in radical cations\",\"Fragmentations and rearrangements in radical cations\",\"Fragmentations and rearrangements in radical cations\",\"Decomposition energies of artificial molecules\",\"Decomposition energies of artificial molecules\",\"Decomposition energies of artificial molecules\",\"Decomposition energies of artificial molecules\",\"Decomposition energies of artificial molecules\",\"Relative energies in amino acid conformers\",\"Relative energies in amino acid conformers\",\"Relative energies in amino acid conformers\",\"Relative energies in amino acid conformers\",\"Relative energies in amino acid conformers\",\"Barrier heights for rotation around single bonds\",\"Barrier heights for rotation around single bonds\",\"Barrier heights for rotation around single bonds\",\"Barrier heights for rotation around single bonds\",\"Barrier heights for rotation around single bonds\",\"Isomerisation energies of large organic molecules\",\"Isomerisation energies of large organic molecules\",\"Isomerisation energies of large organic molecules\",\"Isomerisation energies of large organic molecules\",\"Isomerisation energies of large organic molecules\",\"Relative energies in tri- and tetrapeptide conformers\",\"Relative energies in tri- and tetrapeptide conformers\",\"Relative energies in tri- and tetrapeptide conformers\",\"Relative energies in tri- and tetrapeptide conformers\",\"Relative energies in tri- and tetrapeptide conformers\",\"Radical-stabilisation energies\",\"Radical-stabilisation energies\",\"Radical-stabilisation energies\",\"Radical-stabilisation energies\",\"Radical-stabilisation energies\",\"Interaction energies of n-alkane dimers\",\"Interaction energies of n-alkane dimers\",\"Interaction energies of n-alkane dimers\",\"Interaction energies of n-alkane dimers\",\"Interaction energies of n-alkane dimers\",\"Self-interaction-error related problems\",\"Self-interaction-error related problems\",\"Self-interaction-error related problems\",\"Self-interaction-error related problems\",\"Self-interaction-error related problems\",\"Binding energies in halogenated dimers (incl. halogen bonds)\",\"Binding energies in halogenated dimers (incl. halogen bonds)\",\"Binding energies in halogenated dimers (incl. halogen bonds)\",\"Binding energies in halogenated dimers (incl. halogen bonds)\",\"Binding energies in halogenated dimers (incl. halogen bonds)\",\"Relative energies in butane-1,4-diol conformers\",\"Relative energies in butane-1,4-diol conformers\",\"Relative energies in butane-1,4-diol conformers\",\"Relative energies in butane-1,4-diol conformers\",\"Relative energies in butane-1,4-diol conformers\",\"Relative energies between RNA-backbone conformers\",\"Relative energies between RNA-backbone conformers\",\"Relative energies between RNA-backbone conformers\",\"Relative energies between RNA-backbone conformers\",\"Relative energies between RNA-backbone conformers\",\"Reaction energies of the BH76 set\",\"Reaction energies of the BH76 set\",\"Reaction energies of the BH76 set\",\"Reaction energies of the BH76 set\",\"Reaction energies of the BH76 set\",\"Hydrogen-bonded complexes between carbene analogues and H2O, NH3, or HCl\",\"Hydrogen-bonded complexes between carbene analogues and H2O, NH3, or HCl\",\"Hydrogen-bonded complexes between carbene analogues and H2O, NH3, or HCl\",\"Hydrogen-bonded complexes between carbene analogues and H2O, NH3, or HCl\",\"Hydrogen-bonded complexes between carbene analogues and H2O, NH3, or HCl\",\"13 difficult cases for DFT methods\",\"13 difficult cases for DFT methods\",\"13 difficult cases for DFT methods\",\"13 difficult cases for DFT methods\",\"13 difficult cases for DFT methods\",\"Noncovalent interaction energies between heavy element hydrides\",\"Noncovalent interaction energies between heavy element hydrides\",\"Noncovalent interaction energies between heavy element hydrides\",\"Noncovalent interaction energies between heavy element hydrides\",\"Noncovalent interaction energies between heavy element hydrides\",\"Relative energies in protonated isomers\",\"Relative energies in protonated isomers\",\"Relative energies in protonated isomers\",\"Relative energies in protonated isomers\",\"Relative energies in protonated isomers\",\"Adiabatic electron affinities\",\"Adiabatic electron affinities\",\"Adiabatic electron affinities\",\"Adiabatic electron affinities\",\"Adiabatic electron affinities\",\"Barrier heights of pericyclic reactions\",\"Barrier heights of pericyclic reactions\",\"Barrier heights of pericyclic reactions\",\"Barrier heights of pericyclic reactions\",\"Barrier heights of pericyclic reactions\",\"Interaction energies in anion\\u2013neutral dimers\",\"Interaction energies in anion\\u2013neutral dimers\",\"Interaction energies in anion\\u2013neutral dimers\",\"Interaction energies in anion\\u2013neutral dimers\",\"Interaction energies in anion\\u2013neutral dimers\",\"Interaction energies in anion\\u2013cation dimers\",\"Interaction energies in anion\\u2013cation dimers\",\"Interaction energies in anion\\u2013cation dimers\",\"Interaction energies in anion\\u2013cation dimers\",\"Interaction energies in anion\\u2013cation dimers\",\"Total atomisation energies\",\"Total atomisation energies\",\"Total atomisation energies\",\"Total atomisation energies\",\"Total atomisation energies\",\"Interaction energies in pnicogen-containing dimers\",\"Interaction energies in pnicogen-containing dimers\",\"Interaction energies in pnicogen-containing dimers\",\"Interaction energies in pnicogen-containing dimers\",\"Interaction energies in pnicogen-containing dimers\",\"Bond-dissociation energies in ylides\",\"Bond-dissociation energies in ylides\",\"Bond-dissociation energies in ylides\",\"Bond-dissociation energies in ylides\",\"Bond-dissociation energies in ylides\",\"Binding energies in (H2O)n, H+(H2O)n and OH-(H2O)n\",\"Binding energies in (H2O)n, H+(H2O)n and OH-(H2O)n\",\"Binding energies in (H2O)n, H+(H2O)n and OH-(H2O)n\",\"Binding energies in (H2O)n, H+(H2O)n and OH-(H2O)n\",\"Binding energies in (H2O)n, H+(H2O)n and OH-(H2O)n\",\"Relative energies in melatonin conformers\",\"Relative energies in melatonin conformers\",\"Relative energies in melatonin conformers\",\"Relative energies in melatonin conformers\",\"Relative energies in melatonin conformers\",\"Relative energies in conformers of inorganic systems\",\"Relative energies in conformers of inorganic systems\",\"Relative energies in conformers of inorganic systems\",\"Relative energies in conformers of inorganic systems\",\"Relative energies in conformers of inorganic systems\",\"Binding energies of noncovalently bound dimers\",\"Binding energies of noncovalently bound dimers\",\"Binding energies of noncovalently bound dimers\",\"Binding energies of noncovalently bound dimers\",\"Binding energies of noncovalently bound dimers\",\"Interaction energies in cation\\u2013neutral dimers\",\"Interaction energies in cation\\u2013neutral dimers\",\"Interaction energies in cation\\u2013neutral dimers\",\"Interaction energies in cation\\u2013neutral dimers\",\"Interaction energies in cation\\u2013neutral dimers\",\"Adiabatic ionisation potentials\",\"Adiabatic ionisation potentials\",\"Adiabatic ionisation potentials\",\"Adiabatic ionisation potentials\",\"Adiabatic ionisation potentials\"]],[\"nofs\",[\"PNOF5\",\"PNOF7s\",\"PNOF7\",\"GNOF\",\"GNOFm\",\"PNOF5\",\"PNOF7s\",\"PNOF7\",\"GNOF\",\"GNOFm\",\"PNOF5\",\"PNOF7s\",\"PNOF7\",\"GNOF\",\"GNOFm\",\"PNOF5\",\"PNOF7s\",\"PNOF7\",\"GNOF\",\"GNOFm\",\"PNOF5\",\"PNOF7s\",\"PNOF7\",\"GNOF\",\"GNOFm\",\"PNOF5\",\"PNOF7s\",\"PNOF7\",\"GNOF\",\"GNOFm\",\"PNOF5\",\"PNOF7s\",\"PNOF7\",\"GNOF\",\"GNOFm\",\"PNOF5\",\"PNOF7s\",\"PNOF7\",\"GNOF\",\"GNOFm\",\"PNOF5\",\"PNOF7s\",\"PNOF7\",\"GNOF\",\"GNOFm\",\"PNOF5\",\"PNOF7s\",\"PNOF7\",\"GNOF\",\"GNOFm\",\"PNOF5\",\"PNOF7s\",\"PNOF7\",\"GNOF\",\"GNOFm\",\"PNOF5\",\"PNOF7s\",\"PNOF7\",\"GNOF\",\"GNOFm\",\"PNOF5\",\"PNOF7s\",\"PNOF7\",\"GNOF\",\"GNOFm\",\"PNOF5\",\"PNOF7s\",\"PNOF7\",\"GNOF\",\"GNOFm\",\"PNOF5\",\"PNOF7s\",\"PNOF7\",\"GNOF\",\"GNOFm\",\"PNOF5\",\"PNOF7s\",\"PNOF7\",\"GNOF\",\"GNOFm\",\"PNOF5\",\"PNOF7s\",\"PNOF7\",\"GNOF\",\"GNOFm\",\"PNOF5\",\"PNOF7s\",\"PNOF7\",\"GNOF\",\"GNOFm\",\"PNOF5\",\"PNOF7s\",\"PNOF7\",\"GNOF\",\"GNOFm\",\"PNOF5\",\"PNOF7s\",\"PNOF7\",\"GNOF\",\"GNOFm\",\"PNOF5\",\"PNOF7s\",\"PNOF7\",\"GNOF\",\"GNOFm\",\"PNOF5\",\"PNOF7s\",\"PNOF7\",\"GNOF\",\"GNOFm\",\"PNOF5\",\"PNOF7s\",\"PNOF7\",\"GNOF\",\"GNOFm\",\"PNOF5\",\"PNOF7s\",\"PNOF7\",\"GNOF\",\"GNOFm\",\"PNOF5\",\"PNOF7s\",\"PNOF7\",\"GNOF\",\"GNOFm\",\"PNOF5\",\"PNOF7s\",\"PNOF7\",\"GNOF\",\"GNOFm\",\"PNOF5\",\"PNOF7s\",\"PNOF7\",\"GNOF\",\"GNOFm\",\"PNOF5\",\"PNOF7s\",\"PNOF7\",\"GNOF\",\"GNOFm\",\"PNOF5\",\"PNOF7s\",\"PNOF7\",\"GNOF\",\"GNOFm\",\"PNOF5\",\"PNOF7s\",\"PNOF7\",\"GNOF\",\"GNOFm\",\"PNOF5\",\"PNOF7s\",\"PNOF7\",\"GNOF\",\"GNOFm\",\"PNOF5\",\"PNOF7s\",\"PNOF7\",\"GNOF\",\"GNOFm\",\"PNOF5\",\"PNOF7s\",\"PNOF7\",\"GNOF\",\"GNOFm\",\"PNOF5\",\"PNOF7s\",\"PNOF7\",\"GNOF\",\"GNOFm\",\"PNOF5\",\"PNOF7s\",\"PNOF7\",\"GNOF\",\"GNOFm\",\"PNOF5\",\"PNOF7s\",\"PNOF7\",\"GNOF\",\"GNOFm\",\"PNOF5\",\"PNOF7s\",\"PNOF7\",\"GNOF\",\"GNOFm\",\"PNOF5\",\"PNOF7s\",\"PNOF7\",\"GNOF\",\"GNOFm\",\"PNOF5\",\"PNOF7s\",\"PNOF7\",\"GNOF\",\"GNOFm\",\"PNOF5\",\"PNOF7s\",\"PNOF7\",\"GNOF\",\"GNOFm\",\"PNOF5\",\"PNOF7s\",\"PNOF7\",\"GNOF\",\"GNOFm\"]]]}}},\"view\":{\"type\":\"object\",\"name\":\"CDSView\",\"id\":\"p1048\",\"attributes\":{\"filter\":{\"type\":\"object\",\"name\":\"AllIndices\",\"id\":\"p1049\"}}},\"glyph\":{\"type\":\"object\",\"name\":\"VBar\",\"id\":\"p1044\",\"attributes\":{\"x\":{\"type\":\"field\",\"field\":\"x\"},\"width\":{\"type\":\"value\",\"value\":0.9},\"top\":{\"type\":\"field\",\"field\":\"counts\"},\"line_color\":{\"type\":\"value\",\"value\":\"white\"},\"fill_color\":{\"type\":\"field\",\"field\":\"x\",\"transform\":{\"type\":\"object\",\"name\":\"CategoricalColorMapper\",\"id\":\"p1040\",\"attributes\":{\"palette\":[\"#1f77b4\",\"#ff7f0e\",\"#2ca02c\",\"#d62728\",\"#9467bd\"],\"factors\":[\"PNOF5\",\"PNOF7s\",\"PNOF7\",\"GNOF\",\"GNOFm\"],\"start\":1,\"end\":2}}}}},\"nonselection_glyph\":{\"type\":\"object\",\"name\":\"VBar\",\"id\":\"p1045\",\"attributes\":{\"x\":{\"type\":\"field\",\"field\":\"x\"},\"width\":{\"type\":\"value\",\"value\":0.9},\"top\":{\"type\":\"field\",\"field\":\"counts\"},\"line_color\":{\"type\":\"value\",\"value\":\"white\"},\"line_alpha\":{\"type\":\"value\",\"value\":0.1},\"fill_color\":{\"type\":\"field\",\"field\":\"x\",\"transform\":{\"id\":\"p1040\"}},\"fill_alpha\":{\"type\":\"value\",\"value\":0.1},\"hatch_alpha\":{\"type\":\"value\",\"value\":0.1}}},\"muted_glyph\":{\"type\":\"object\",\"name\":\"VBar\",\"id\":\"p1046\",\"attributes\":{\"x\":{\"type\":\"field\",\"field\":\"x\"},\"width\":{\"type\":\"value\",\"value\":0.9},\"top\":{\"type\":\"field\",\"field\":\"counts\"},\"line_color\":{\"type\":\"value\",\"value\":\"white\"},\"line_alpha\":{\"type\":\"value\",\"value\":0.2},\"fill_color\":{\"type\":\"field\",\"field\":\"x\",\"transform\":{\"id\":\"p1040\"}},\"fill_alpha\":{\"type\":\"value\",\"value\":0.2},\"hatch_alpha\":{\"type\":\"value\",\"value\":0.2}}}}}],\"toolbar\":{\"type\":\"object\",\"name\":\"Toolbar\",\"id\":\"p1014\",\"attributes\":{\"tools\":[{\"type\":\"object\",\"name\":\"PanTool\",\"id\":\"p1027\"},{\"type\":\"object\",\"name\":\"WheelZoomTool\",\"id\":\"p1028\",\"attributes\":{\"renderers\":\"auto\"}},{\"type\":\"object\",\"name\":\"BoxZoomTool\",\"id\":\"p1029\",\"attributes\":{\"overlay\":{\"type\":\"object\",\"name\":\"BoxAnnotation\",\"id\":\"p1030\",\"attributes\":{\"syncable\":false,\"line_color\":\"black\",\"line_alpha\":1.0,\"line_width\":2,\"line_dash\":[4,4],\"fill_color\":\"lightgrey\",\"fill_alpha\":0.5,\"level\":\"overlay\",\"visible\":false,\"left\":{\"type\":\"number\",\"value\":\"nan\"},\"right\":{\"type\":\"number\",\"value\":\"nan\"},\"top\":{\"type\":\"number\",\"value\":\"nan\"},\"bottom\":{\"type\":\"number\",\"value\":\"nan\"},\"left_units\":\"canvas\",\"right_units\":\"canvas\",\"top_units\":\"canvas\",\"bottom_units\":\"canvas\",\"handles\":{\"type\":\"object\",\"name\":\"BoxInteractionHandles\",\"id\":\"p1036\",\"attributes\":{\"all\":{\"type\":\"object\",\"name\":\"AreaVisuals\",\"id\":\"p1035\",\"attributes\":{\"fill_color\":\"white\",\"hover_fill_color\":\"lightgray\"}}}}}}}},{\"type\":\"object\",\"name\":\"SaveTool\",\"id\":\"p1037\"},{\"type\":\"object\",\"name\":\"ResetTool\",\"id\":\"p1038\"},{\"type\":\"object\",\"name\":\"HelpTool\",\"id\":\"p1039\"},{\"type\":\"object\",\"name\":\"HoverTool\",\"id\":\"p1052\",\"attributes\":{\"renderers\":\"auto\",\"tooltips\":[[\"Description\",\"@descriptions\"],[\"MAD\",\"@counts\"]]}}]}},\"toolbar_location\":\"left\",\"left\":[{\"type\":\"object\",\"name\":\"LinearAxis\",\"id\":\"p1022\",\"attributes\":{\"ticker\":{\"type\":\"object\",\"name\":\"BasicTicker\",\"id\":\"p1023\",\"attributes\":{\"mantissas\":[1,2,5]}},\"formatter\":{\"type\":\"object\",\"name\":\"BasicTickFormatter\",\"id\":\"p1024\"},\"axis_label\":\"MAD (kcal/mol)\",\"major_label_policy\":{\"type\":\"object\",\"name\":\"AllLabels\",\"id\":\"p1025\"}}}],\"below\":[{\"type\":\"object\",\"name\":\"CategoricalAxis\",\"id\":\"p1017\",\"attributes\":{\"ticker\":{\"type\":\"object\",\"name\":\"CategoricalTicker\",\"id\":\"p1018\"},\"formatter\":{\"type\":\"object\",\"name\":\"CategoricalTickFormatter\",\"id\":\"p1019\"},\"axis_label\":\"Sets\",\"major_label_policy\":{\"type\":\"object\",\"name\":\"AllLabels\",\"id\":\"p1020\"},\"major_label_text_font_size\":\"0pt\",\"group_label_orientation\":1.5707963267948966}}],\"center\":[{\"type\":\"object\",\"name\":\"Grid\",\"id\":\"p1021\",\"attributes\":{\"axis\":{\"id\":\"p1017\"},\"grid_line_color\":null}},{\"type\":\"object\",\"name\":\"Grid\",\"id\":\"p1026\",\"attributes\":{\"dimension\":1,\"axis\":{\"id\":\"p1022\"}}},{\"type\":\"object\",\"name\":\"Legend\",\"id\":\"p1050\",\"attributes\":{\"location\":\"top_left\",\"orientation\":\"horizontal\",\"items\":[{\"type\":\"object\",\"name\":\"LegendItem\",\"id\":\"p1051\",\"attributes\":{\"label\":{\"type\":\"field\",\"field\":\"nofs\"},\"renderers\":[{\"id\":\"p1047\"}]}}]}}]}}]}};\n  const render_items = [{\"docid\":\"5a930a63-9a88-4783-ac3a-ecc781091e37\",\"roots\":{\"p1505\":\"e3c23138-90d3-4c57-bfbb-51d3fbe120fb\"},\"root_ids\":[\"p1505\"]}];\n  void root.Bokeh.embed.embed_items_notebook(docs_json, render_items);\n  }\n  if (root.Bokeh !== undefined) {\n    embed_document(root);\n  } else {\n    let attempts = 0;\n    const timer = setInterval(function(root) {\n      if (root.Bokeh !== undefined) {\n        clearInterval(timer);\n        embed_document(root);\n      } else {\n        attempts++;\n        if (attempts > 150) {\n          clearInterval(timer);\n          console.log(\"Bokeh: ERROR: Unable to run BokehJS code because BokehJS library is missing\");\n        }\n      }\n    }, 10, root)\n  }\n})(window);",
      "application/vnd.bokehjs_exec.v0+json": ""
     },
     "metadata": {
      "application/vnd.bokehjs_exec.v0+json": {
       "id": "p1505"
      }
     },
     "output_type": "display_data"
    }
   ],
   "source": [
    "from bokeh.models import ColumnDataSource, FactorRange\n",
    "from bokeh.plotting import figure, show\n",
    "from bokeh.models import ColumnDataSource, HoverTool, TapTool\n",
    "import math\n",
    "from bokeh.transform import factor_cmap\n",
    "from bokeh.palettes import Category10\n",
    "\n",
    "nof = \"GNOF\"\n",
    "file = open('{}-{}-{}.yaml'.format(set_name,nof,ncwo), 'r')\n",
    "data = yaml.safe_load(file)\n",
    "subsets = get_Sets(data)\n",
    "description = get_Descriptions(subsets)\n",
    "\n",
    "nofs = [\"PNOF5\", \"PNOF7s\", \"PNOF7\", \"GNOF\", \"GNOFm\"]\n",
    "\n",
    "data = {'subsets' : subsets}\n",
    "for nof in nofs:\n",
    "    if nof==\"\":\n",
    "        file = open('{}-{}-{}.yaml'.format(set_name,\"\",ncwo), 'r')\n",
    "    else:\n",
    "        file = open('{}-{}-{}.yaml'.format(set_name,nof,ncwo), 'r')\n",
    "    yaml_data = yaml.safe_load(file)\n",
    "    counts = get_MADs(yaml_data)\n",
    "    data[nof] = counts\n",
    "\n",
    "descriptions = {'subsets' : subsets,\n",
    "        'PNOF5'   : description,\n",
    "        'PNOF7s'  : description,\n",
    "        'PNOF7'   : description,\n",
    "        'GNOF'    : description,\n",
    "        'GNOFm'   : description}\n",
    "\n",
    "x = [ (subset, nof) for subset in subsets for nof in nofs ]\n",
    "counts = sum(zip(data['PNOF5'], data['PNOF7s'], data['PNOF7'], data['GNOF'], data['GNOFm']), ()) # like an hstack\n",
    "descriptions = sum(zip(descriptions['PNOF5'], descriptions['PNOF7s'], descriptions['PNOF7'], descriptions['GNOF'], descriptions['GNOFm']), ()) # like an hstack\n",
    "\n",
    "source = ColumnDataSource(data=dict(x=x, counts=counts, descriptions=descriptions, nofs=[f for _,f in x]))\n",
    "\n",
    "p = figure(x_range=FactorRange(*x), width=1050, height=400, toolbar_location=\"left\", title=\"150 Perfect Pairing\")\n",
    "\n",
    "p.vbar(x='x', top='counts', width=0.9, source=source, line_color=\"white\", legend_field=\"nofs\",\n",
    "       fill_color=factor_cmap('x', palette=Category10[len(nofs)], factors=nofs, start=1, end=2))\n",
    "\n",
    "p.y_range.start = 0\n",
    "p.y_range.end = 50\n",
    "p.xaxis.major_label_text_font_size = \"0pt\"\n",
    "#p.xaxis.major_label_orientation = math.pi/2\n",
    "p.xaxis.group_label_orientation = math.pi/2\n",
    "p.xaxis.axis_label = \"Sets\"\n",
    "p.yaxis.axis_label = \"MAD (kcal/mol)\"\n",
    "p.xgrid.grid_line_color = None\n",
    "\n",
    "p.legend.location = \"top_left\"\n",
    "p.legend.orientation = \"horizontal\"\n",
    "\n",
    "hover = HoverTool(tooltips=[\n",
    "    (\"Description\", \"@descriptions\"),\n",
    "    (\"MAD\", \"@counts\"),\n",
    "])\n",
    "p.add_tools(hover)\n",
    "\n",
    "show(p)"
   ]
  },
  {
   "cell_type": "code",
   "execution_count": null,
   "metadata": {
    "tags": [
     "remove-input"
    ]
   },
   "outputs": [],
   "source": [
    "import ipywidgets as widgets\n",
    "from IPython.display import display\n",
    "import py3Dmol\n",
    "\n",
    "import yaml\n",
    "import numpy as np\n",
    "\n",
    "nof = \"GNOF\"\n",
    "file = open('{}-{}-{}.yaml'.format(set_name,nof,ncwo), 'r')\n",
    "data = yaml.safe_load(file)\n",
    "\n",
    "import ipywidgets as widgets\n",
    "from IPython.display import display\n",
    "import py3Dmol\n",
    "\n",
    "def plot_molecules(data):\n",
    "\n",
    "    subsets = get_Sets(data)\n",
    "    nsets = len(subsets)\n",
    "    dropdown_options = dict(zip(data.keys(), range(nsets)))\n",
    "    descriptions = get_Descriptions(subsets)\n",
    "\n",
    "    set_dropdown = widgets.Dropdown(\n",
    "        options=dropdown_options,\n",
    "        value=0,\n",
    "        description='Set:'\n",
    "    )\n",
    "\n",
    "    set_box = widgets.VBox()\n",
    "\n",
    "    set_stack = widgets.Stack()\n",
    "    set_box.children = [set_dropdown, set_stack]\n",
    "\n",
    "    widgets.jslink((set_dropdown, 'index'), (set_stack, 'selected_index'))\n",
    "\n",
    "    boxes = []\n",
    "    for h,set in enumerate(data):\n",
    "        set_description = widgets.Text(\n",
    "            value=descriptions[h],\n",
    "            description='Description: ',\n",
    "            style={'description_width': 'max-content'},\n",
    "            disabled=False\n",
    "        )\n",
    "\n",
    "        system_box = widgets.VBox()\n",
    "\n",
    "        system_label = widgets.Label(value=\"Systems (Reactions)\")\n",
    "        system_tabs = widgets.Tab()\n",
    "        system_box.children = [set_description, system_label, system_tabs]\n",
    "\n",
    "        system_tabs.children = [widgets.VBox() for system in data[set]]\n",
    "        for i,system in enumerate(data[set]):\n",
    "            system_tabs.set_title(i, str(system))\n",
    "\n",
    "            mols_box = widgets.VBox()\n",
    "            mols_label = widgets.Label(value=\"Molecules\")\n",
    "            mols_tabs = widgets.Tab()\n",
    "            mols_box.children = [mols_label, mols_tabs]\n",
    "\n",
    "            mols_tabs.children = [widgets.VBox() for specie in data[set][system][\"Species\"]]\n",
    "            childrens = []\n",
    "            for j,specie in enumerate(data[set][system][\"Species\"]):\n",
    "                url = \"url:https://raw.githubusercontent.com/felipelewyee/DietGMTKN55-NOF/refs/heads/main/fig/{}/{}-{}.xyz\".format(set_name, set, specie)\n",
    "                viewer = py3Dmol.view(url, width=280, height=300)\n",
    "                viewer.setStyle({'stick': {'radius': .1}, 'sphere': {'scale': 0.25}})\n",
    "                viewer.zoomTo()\n",
    "                childrens.append(widgets.Output())\n",
    "                with childrens[-1]:\n",
    "                    viewer.show()\n",
    "            mols_tabs.children = childrens\n",
    "            for j,specie in enumerate(data[set][system][\"Species\"]):\n",
    "                mols_tabs.set_title(j, str(specie))\n",
    "\n",
    "\n",
    "            species_box = widgets.VBox([widgets.Label(\"Specie\")] + [widgets.Label(\"{}\".format(specie)) for specie in data[set][system][\"Species\"]])\n",
    "            Stoichiometry_box = widgets.VBox([widgets.Label(\"Stoichiometry\")] + [widgets.Label(\"{:^15}\".format(data[set][system][\"Species\"][specie][\"Count\"])) for specie in data[set][system][\"Species\"]], layout=widgets.Layout(align_items='center'))\n",
    "            charge_box = widgets.VBox([widgets.Label(\"Charge\")] + [widgets.Label(\"{}\".format(data[set][system][\"Species\"][specie][\"Charge\"])) for specie in data[set][system][\"Species\"]], layout=widgets.Layout(align_items='center'))\n",
    "            mult_box = widgets.VBox([widgets.Label(\"Mult\")] + [widgets.Label(\"{}\".format(data[set][system][\"Species\"][specie][\"Multiplicity\"]+1)) for specie in data[set][system][\"Species\"]], layout=widgets.Layout(align_items='center'))\n",
    "            text_specie_w = widgets.HBox([species_box, Stoichiometry_box, charge_box, mult_box])\n",
    "\n",
    "            text_E_ref_w = widgets.Text(\n",
    "                value=\"{:.3f} kcal/mol\".format(data[set][system][\"E_Ref\"]),\n",
    "                description='ΔE_Ref',\n",
    "                disabled=False\n",
    "            )\n",
    "\n",
    "            text_weight_w = widgets.Text(\n",
    "                value=\"{:.3f}\".format(data[set][system][\"Weight\"]),\n",
    "                description='Weight',\n",
    "                disabled=False\n",
    "            )\n",
    "\n",
    "            text_WTMAD2_w = widgets.Text(\n",
    "                value=\"{:.3f}\".format(data[set][system][\"WTMAD2\"]),\n",
    "                description='WTMAD2',\n",
    "                disabled=False\n",
    "            )\n",
    "\n",
    "            system_tabs.children[i].children = [mols_box, text_specie_w,\n",
    "                                             text_E_ref_w, text_weight_w,\n",
    "                                             text_WTMAD2_w]\n",
    "        boxes.append(system_box)\n",
    "\n",
    "    set_stack.children = boxes\n",
    "    \n",
    "    return set_box"
   ]
  },
  {
   "cell_type": "code",
   "execution_count": 6,
   "metadata": {
    "tags": [
     "remove-input",
     "full-width"
    ]
   },
   "outputs": [
    {
     "data": {
      "application/vnd.jupyter.widget-view+json": {
       "model_id": "5523599e171046c0a4500808c29fc436",
       "version_major": 2,
       "version_minor": 0
      },
      "text/plain": [
       "VBox(children=(Dropdown(description='Set:', options={'FH51': 0, 'INV24': 1, 'ISO34': 2, 'RG18': 3, 'SCONF': 4,…"
      ]
     },
     "metadata": {},
     "output_type": "display_data"
    }
   ],
   "source": [
    "nsets = len(list(data.items()))\n",
    "step = nsets\n",
    "for i in range(0, nsets, nsets):\n",
    "    data_n = dict(list(data.items())[i:min(i+step,nsets)])\n",
    "    tabs = plot_molecules(data_n)\n",
    "    display(tabs)"
   ]
  }
 ],
 "metadata": {
  "kernelspec": {
   "display_name": "jb",
   "language": "python",
   "name": "python3"
  },
  "language_info": {
   "codemirror_mode": {
    "name": "ipython",
    "version": 3
   },
   "file_extension": ".py",
   "mimetype": "text/x-python",
   "name": "python",
   "nbconvert_exporter": "python",
   "pygments_lexer": "ipython3",
   "version": "3.13.1"
  }
 },
 "nbformat": 4,
 "nbformat_minor": 4
}
