{
 "cells": [
  {
   "cell_type": "markdown",
   "metadata": {},
   "source": [
    "# 030"
   ]
  },
  {
   "cell_type": "code",
   "execution_count": 1,
   "metadata": {
    "tags": [
     "remove-cell"
    ]
   },
   "outputs": [],
   "source": [
    "import yaml\n",
    "import numpy as np\n",
    "\n",
    "set_name = \"030\"\n",
    "ncwo = \"ncwomax\""
   ]
  },
  {
   "cell_type": "code",
   "execution_count": 2,
   "metadata": {
    "tags": [
     "remove-cell"
    ]
   },
   "outputs": [],
   "source": [
    "def get_MADs(data):\n",
    "    MADs = []\n",
    "    for set in data:\n",
    "        ADs = []\n",
    "        for system in data[set]:\n",
    "            ADs.append(data[set][system][\"AD\"])\n",
    "        MADs.append(np.mean(ADs))\n",
    "    return MADs\n",
    "\n",
    "def get_Sets(data):\n",
    "    Sets = []\n",
    "    for set in data:\n",
    "        Sets.append(set)\n",
    "    return Sets\n",
    "\n",
    "def get_Descriptions(subsets):\n",
    "    f_des = open('Sets_description.yaml', 'r')\n",
    "    d_des = yaml.safe_load(f_des)\n",
    "    descriptions = []\n",
    "    for set in subsets:\n",
    "        descriptions.append(d_des[set])\n",
    "    return descriptions"
   ]
  },
  {
   "cell_type": "code",
   "execution_count": 3,
   "metadata": {
    "tags": [
     "remove-input"
    ]
   },
   "outputs": [
    {
     "data": {
      "text/html": [
       "    <style>\n",
       "        .bk-notebook-logo {\n",
       "            display: block;\n",
       "            width: 20px;\n",
       "            height: 20px;\n",
       "            background-image: url(data:image/png;base64,iVBORw0KGgoAAAANSUhEUgAAABQAAAAUCAYAAACNiR0NAAAABHNCSVQICAgIfAhkiAAAAAlwSFlzAAALEgAACxIB0t1+/AAAABx0RVh0U29mdHdhcmUAQWRvYmUgRmlyZXdvcmtzIENTNui8sowAAAOkSURBVDiNjZRtaJVlGMd/1/08zzln5zjP1LWcU9N0NkN8m2CYjpgQYQXqSs0I84OLIC0hkEKoPtiH3gmKoiJDU7QpLgoLjLIQCpEsNJ1vqUOdO7ppbuec5+V+rj4ctwzd8IIbbi6u+8f1539dt3A78eXC7QizUF7gyV1fD1Yqg4JWz84yffhm0qkFqBogB9rM8tZdtwVsPUhWhGcFJngGeWrPzHm5oaMmkfEg1usvLFyc8jLRqDOMru7AyC8saQr7GG7f5fvDeH7Ej8CM66nIF+8yngt6HWaKh7k49Soy9nXurCi1o3qUbS3zWfrYeQDTB/Qj6kX6Ybhw4B+bOYoLKCC9H3Nu/leUTZ1JdRWkkn2ldcCamzrcf47KKXdAJllSlxAOkRgyHsGC/zRday5Qld9DyoM4/q/rUoy/CXh3jzOu3bHUVZeU+DEn8FInkPBFlu3+nW3Nw0mk6vCDiWg8CeJaxEwuHS3+z5RgY+YBR6V1Z1nxSOfoaPa4LASWxxdNp+VWTk7+4vzaou8v8PN+xo+KY2xsw6une2frhw05CTYOmQvsEhjhWjn0bmXPjpE1+kplmmkP3suftwTubK9Vq22qKmrBhpY4jvd5afdRA3wGjFAgcnTK2s4hY0/GPNIb0nErGMCRxWOOX64Z8RAC4oCXdklmEvcL8o0BfkNK4lUg9HTl+oPlQxdNo3Mg4Nv175e/1LDGzZen30MEjRUtmXSfiTVu1kK8W4txyV6BMKlbgk3lMwYCiusNy9fVfvvwMxv8Ynl6vxoByANLTWplvuj/nF9m2+PDtt1eiHPBr1oIfhCChQMBw6Aw0UulqTKZdfVvfG7VcfIqLG9bcldL/+pdWTLxLUy8Qq38heUIjh4XlzZxzQm19lLFlr8vdQ97rjZVOLf8nclzckbcD4wxXMidpX30sFd37Fv/GtwwhzhxGVAprjbg0gCAEeIgwCZyTV2Z1REEW8O4py0wsjeloKoMr6iCY6dP92H6Vw/oTyICIthibxjm/DfN9lVz8IqtqKYLUXfoKVMVQVVJOElGjrnnUt9T9wbgp8AyYKaGlqingHZU/uG2NTZSVqwHQTWkx9hxjkpWDaCg6Ckj5qebgBVbT3V3NNXMSiWSDdGV3hrtzla7J+duwPOToIg42ChPQOQjspnSlp1V+Gjdged7+8UN5CRAV7a5EdFNwCjEaBR27b3W890TE7g24NAP/mMDXRWrGoFPQI9ls/MWO2dWFAar/xcOIImbbpA3zgAAAABJRU5ErkJggg==);\n",
       "        }\n",
       "    </style>\n",
       "    <div>\n",
       "        <a href=\"https://bokeh.org\" target=\"_blank\" class=\"bk-notebook-logo\"></a>\n",
       "        <span id=\"a4b4b8d8-d8a1-4737-acff-175f07f82a48\">Loading BokehJS ...</span>\n",
       "    </div>\n"
      ]
     },
     "metadata": {},
     "output_type": "display_data"
    },
    {
     "data": {
      "application/javascript": "'use strict';\n(function(root) {\n  function now() {\n    return new Date();\n  }\n\n  const force = true;\n\n  if (typeof root._bokeh_onload_callbacks === \"undefined\" || force === true) {\n    root._bokeh_onload_callbacks = [];\n    root._bokeh_is_loading = undefined;\n  }\n\nconst JS_MIME_TYPE = 'application/javascript';\n  const HTML_MIME_TYPE = 'text/html';\n  const EXEC_MIME_TYPE = 'application/vnd.bokehjs_exec.v0+json';\n  const CLASS_NAME = 'output_bokeh rendered_html';\n\n  /**\n   * Render data to the DOM node\n   */\n  function render(props, node) {\n    const script = document.createElement(\"script\");\n    node.appendChild(script);\n  }\n\n  /**\n   * Handle when an output is cleared or removed\n   */\n  function handleClearOutput(event, handle) {\n    function drop(id) {\n      const view = Bokeh.index.get_by_id(id)\n      if (view != null) {\n        view.model.document.clear()\n        Bokeh.index.delete(view)\n      }\n    }\n\n    const cell = handle.cell;\n\n    const id = cell.output_area._bokeh_element_id;\n    const server_id = cell.output_area._bokeh_server_id;\n\n    // Clean up Bokeh references\n    if (id != null) {\n      drop(id)\n    }\n\n    if (server_id !== undefined) {\n      // Clean up Bokeh references\n      const cmd_clean = \"from bokeh.io.state import curstate; print(curstate().uuid_to_server['\" + server_id + \"'].get_sessions()[0].document.roots[0]._id)\";\n      cell.notebook.kernel.execute(cmd_clean, {\n        iopub: {\n          output: function(msg) {\n            const id = msg.content.text.trim()\n            drop(id)\n          }\n        }\n      });\n      // Destroy server and session\n      const cmd_destroy = \"import bokeh.io.notebook as ion; ion.destroy_server('\" + server_id + \"')\";\n      cell.notebook.kernel.execute(cmd_destroy);\n    }\n  }\n\n  /**\n   * Handle when a new output is added\n   */\n  function handleAddOutput(event, handle) {\n    const output_area = handle.output_area;\n    const output = handle.output;\n\n    // limit handleAddOutput to display_data with EXEC_MIME_TYPE content only\n    if ((output.output_type != \"display_data\") || (!Object.prototype.hasOwnProperty.call(output.data, EXEC_MIME_TYPE))) {\n      return\n    }\n\n    const toinsert = output_area.element.find(\".\" + CLASS_NAME.split(' ')[0]);\n\n    if (output.metadata[EXEC_MIME_TYPE][\"id\"] !== undefined) {\n      toinsert[toinsert.length - 1].firstChild.textContent = output.data[JS_MIME_TYPE];\n      // store reference to embed id on output_area\n      output_area._bokeh_element_id = output.metadata[EXEC_MIME_TYPE][\"id\"];\n    }\n    if (output.metadata[EXEC_MIME_TYPE][\"server_id\"] !== undefined) {\n      const bk_div = document.createElement(\"div\");\n      bk_div.innerHTML = output.data[HTML_MIME_TYPE];\n      const script_attrs = bk_div.children[0].attributes;\n      for (let i = 0; i < script_attrs.length; i++) {\n        toinsert[toinsert.length - 1].firstChild.setAttribute(script_attrs[i].name, script_attrs[i].value);\n        toinsert[toinsert.length - 1].firstChild.textContent = bk_div.children[0].textContent\n      }\n      // store reference to server id on output_area\n      output_area._bokeh_server_id = output.metadata[EXEC_MIME_TYPE][\"server_id\"];\n    }\n  }\n\n  function register_renderer(events, OutputArea) {\n\n    function append_mime(data, metadata, element) {\n      // create a DOM node to render to\n      const toinsert = this.create_output_subarea(\n        metadata,\n        CLASS_NAME,\n        EXEC_MIME_TYPE\n      );\n      this.keyboard_manager.register_events(toinsert);\n      // Render to node\n      const props = {data: data, metadata: metadata[EXEC_MIME_TYPE]};\n      render(props, toinsert[toinsert.length - 1]);\n      element.append(toinsert);\n      return toinsert\n    }\n\n    /* Handle when an output is cleared or removed */\n    events.on('clear_output.CodeCell', handleClearOutput);\n    events.on('delete.Cell', handleClearOutput);\n\n    /* Handle when a new output is added */\n    events.on('output_added.OutputArea', handleAddOutput);\n\n    /**\n     * Register the mime type and append_mime function with output_area\n     */\n    OutputArea.prototype.register_mime_type(EXEC_MIME_TYPE, append_mime, {\n      /* Is output safe? */\n      safe: true,\n      /* Index of renderer in `output_area.display_order` */\n      index: 0\n    });\n  }\n\n  // register the mime type if in Jupyter Notebook environment and previously unregistered\n  if (root.Jupyter !== undefined) {\n    const events = require('base/js/events');\n    const OutputArea = require('notebook/js/outputarea').OutputArea;\n\n    if (OutputArea.prototype.mime_types().indexOf(EXEC_MIME_TYPE) == -1) {\n      register_renderer(events, OutputArea);\n    }\n  }\n  if (typeof (root._bokeh_timeout) === \"undefined\" || force === true) {\n    root._bokeh_timeout = Date.now() + 5000;\n    root._bokeh_failed_load = false;\n  }\n\n  const NB_LOAD_WARNING = {'data': {'text/html':\n     \"<div style='background-color: #fdd'>\\n\"+\n     \"<p>\\n\"+\n     \"BokehJS does not appear to have successfully loaded. If loading BokehJS from CDN, this \\n\"+\n     \"may be due to a slow or bad network connection. Possible fixes:\\n\"+\n     \"</p>\\n\"+\n     \"<ul>\\n\"+\n     \"<li>re-rerun `output_notebook()` to attempt to load from CDN again, or</li>\\n\"+\n     \"<li>use INLINE resources instead, as so:</li>\\n\"+\n     \"</ul>\\n\"+\n     \"<code>\\n\"+\n     \"from bokeh.resources import INLINE\\n\"+\n     \"output_notebook(resources=INLINE)\\n\"+\n     \"</code>\\n\"+\n     \"</div>\"}};\n\n  function display_loaded(error = null) {\n    const el = document.getElementById(\"a4b4b8d8-d8a1-4737-acff-175f07f82a48\");\n    if (el != null) {\n      const html = (() => {\n        if (typeof root.Bokeh === \"undefined\") {\n          if (error == null) {\n            return \"BokehJS is loading ...\";\n          } else {\n            return \"BokehJS failed to load.\";\n          }\n        } else {\n          const prefix = `BokehJS ${root.Bokeh.version}`;\n          if (error == null) {\n            return `${prefix} successfully loaded.`;\n          } else {\n            return `${prefix} <b>encountered errors</b> while loading and may not function as expected.`;\n          }\n        }\n      })();\n      el.innerHTML = html;\n\n      if (error != null) {\n        const wrapper = document.createElement(\"div\");\n        wrapper.style.overflow = \"auto\";\n        wrapper.style.height = \"5em\";\n        wrapper.style.resize = \"vertical\";\n        const content = document.createElement(\"div\");\n        content.style.fontFamily = \"monospace\";\n        content.style.whiteSpace = \"pre-wrap\";\n        content.style.backgroundColor = \"rgb(255, 221, 221)\";\n        content.textContent = error.stack ?? error.toString();\n        wrapper.append(content);\n        el.append(wrapper);\n      }\n    } else if (Date.now() < root._bokeh_timeout) {\n      setTimeout(() => display_loaded(error), 100);\n    }\n  }\n\n  function run_callbacks() {\n    try {\n      root._bokeh_onload_callbacks.forEach(function(callback) {\n        if (callback != null)\n          callback();\n      });\n    } finally {\n      delete root._bokeh_onload_callbacks\n    }\n    console.debug(\"Bokeh: all callbacks have finished\");\n  }\n\n  function load_libs(css_urls, js_urls, callback) {\n    if (css_urls == null) css_urls = [];\n    if (js_urls == null) js_urls = [];\n\n    root._bokeh_onload_callbacks.push(callback);\n    if (root._bokeh_is_loading > 0) {\n      console.debug(\"Bokeh: BokehJS is being loaded, scheduling callback at\", now());\n      return null;\n    }\n    if (js_urls == null || js_urls.length === 0) {\n      run_callbacks();\n      return null;\n    }\n    console.debug(\"Bokeh: BokehJS not loaded, scheduling load and callback at\", now());\n    root._bokeh_is_loading = css_urls.length + js_urls.length;\n\n    function on_load() {\n      root._bokeh_is_loading--;\n      if (root._bokeh_is_loading === 0) {\n        console.debug(\"Bokeh: all BokehJS libraries/stylesheets loaded\");\n        run_callbacks()\n      }\n    }\n\n    function on_error(url) {\n      console.error(\"failed to load \" + url);\n    }\n\n    for (let i = 0; i < css_urls.length; i++) {\n      const url = css_urls[i];\n      const element = document.createElement(\"link\");\n      element.onload = on_load;\n      element.onerror = on_error.bind(null, url);\n      element.rel = \"stylesheet\";\n      element.type = \"text/css\";\n      element.href = url;\n      console.debug(\"Bokeh: injecting link tag for BokehJS stylesheet: \", url);\n      document.body.appendChild(element);\n    }\n\n    for (let i = 0; i < js_urls.length; i++) {\n      const url = js_urls[i];\n      const element = document.createElement('script');\n      element.onload = on_load;\n      element.onerror = on_error.bind(null, url);\n      element.async = false;\n      element.src = url;\n      console.debug(\"Bokeh: injecting script tag for BokehJS library: \", url);\n      document.head.appendChild(element);\n    }\n  };\n\n  function inject_raw_css(css) {\n    const element = document.createElement(\"style\");\n    element.appendChild(document.createTextNode(css));\n    document.body.appendChild(element);\n  }\n\n  const js_urls = [\"https://cdn.bokeh.org/bokeh/release/bokeh-3.6.2.min.js\", \"https://cdn.bokeh.org/bokeh/release/bokeh-gl-3.6.2.min.js\", \"https://cdn.bokeh.org/bokeh/release/bokeh-widgets-3.6.2.min.js\", \"https://cdn.bokeh.org/bokeh/release/bokeh-tables-3.6.2.min.js\", \"https://cdn.bokeh.org/bokeh/release/bokeh-mathjax-3.6.2.min.js\"];\n  const css_urls = [];\n\n  const inline_js = [    function(Bokeh) {\n      Bokeh.set_log_level(\"info\");\n    },\nfunction(Bokeh) {\n    }\n  ];\n\n  function run_inline_js() {\n    if (root.Bokeh !== undefined || force === true) {\n      try {\n            for (let i = 0; i < inline_js.length; i++) {\n      inline_js[i].call(root, root.Bokeh);\n    }\n\n      } catch (error) {display_loaded(error);throw error;\n      }if (force === true) {\n        display_loaded();\n      }} else if (Date.now() < root._bokeh_timeout) {\n      setTimeout(run_inline_js, 100);\n    } else if (!root._bokeh_failed_load) {\n      console.log(\"Bokeh: BokehJS failed to load within specified timeout.\");\n      root._bokeh_failed_load = true;\n    } else if (force !== true) {\n      const cell = $(document.getElementById(\"a4b4b8d8-d8a1-4737-acff-175f07f82a48\")).parents('.cell').data().cell;\n      cell.output_area.append_execute_result(NB_LOAD_WARNING)\n    }\n  }\n\n  if (root._bokeh_is_loading === 0) {\n    console.debug(\"Bokeh: BokehJS loaded, going straight to plotting\");\n    run_inline_js();\n  } else {\n    load_libs(css_urls, js_urls, function() {\n      console.debug(\"Bokeh: BokehJS plotting callback run at\", now());\n      run_inline_js();\n    });\n  }\n}(window));",
      "application/vnd.bokehjs_load.v0+json": ""
     },
     "metadata": {},
     "output_type": "display_data"
    }
   ],
   "source": [
    "from bokeh.plotting import figure, show, output_notebook\n",
    "output_notebook()"
   ]
  },
  {
   "cell_type": "code",
   "execution_count": 4,
   "metadata": {
    "tags": [
     "remove-input"
    ]
   },
   "outputs": [
    {
     "data": {
      "text/html": [
       "\n",
       "  <div id=\"e2e217c1-91e7-4f77-b6e5-28a027773da5\" data-root-id=\"p1005\" style=\"display: contents;\"></div>\n"
      ]
     },
     "metadata": {},
     "output_type": "display_data"
    },
    {
     "data": {
      "application/javascript": "(function(root) {\n  function embed_document(root) {\n  const docs_json = {\"b67a2b0e-a370-4e8b-82ff-f4a46170da85\":{\"version\":\"3.6.2\",\"title\":\"Bokeh Application\",\"roots\":[{\"type\":\"object\",\"name\":\"Figure\",\"id\":\"p1005\",\"attributes\":{\"width\":2000,\"height\":350,\"x_range\":{\"type\":\"object\",\"name\":\"FactorRange\",\"id\":\"p1004\",\"attributes\":{\"factors\":[[\"DIPCS10\",\"PNOF5\"],[\"DIPCS10\",\"PNOF7s\"],[\"DIPCS10\",\"PNOF7\"],[\"DIPCS10\",\"GNOF\"],[\"DIPCS10\",\"GNOFm\"],[\"FH51\",\"PNOF5\"],[\"FH51\",\"PNOF7s\"],[\"FH51\",\"PNOF7\"],[\"FH51\",\"GNOF\"],[\"FH51\",\"GNOFm\"],[\"CDIE20\",\"PNOF5\"],[\"CDIE20\",\"PNOF7s\"],[\"CDIE20\",\"PNOF7\"],[\"CDIE20\",\"GNOF\"],[\"CDIE20\",\"GNOFm\"],[\"BSR36\",\"PNOF5\"],[\"BSR36\",\"PNOF7s\"],[\"BSR36\",\"PNOF7\"],[\"BSR36\",\"GNOF\"],[\"BSR36\",\"GNOFm\"],[\"ACONF\",\"PNOF5\"],[\"ACONF\",\"PNOF7s\"],[\"ACONF\",\"PNOF7\"],[\"ACONF\",\"GNOF\"],[\"ACONF\",\"GNOFm\"],[\"BH76\",\"PNOF5\"],[\"BH76\",\"PNOF7s\"],[\"BH76\",\"PNOF7\"],[\"BH76\",\"GNOF\"],[\"BH76\",\"GNOFm\"],[\"MB16-43\",\"PNOF5\"],[\"MB16-43\",\"PNOF7s\"],[\"MB16-43\",\"PNOF7\"],[\"MB16-43\",\"GNOF\"],[\"MB16-43\",\"GNOFm\"],[\"Amino20x4\",\"PNOF5\"],[\"Amino20x4\",\"PNOF7s\"],[\"Amino20x4\",\"PNOF7\"],[\"Amino20x4\",\"GNOF\"],[\"Amino20x4\",\"GNOFm\"],[\"BHROT27\",\"PNOF5\"],[\"BHROT27\",\"PNOF7s\"],[\"BHROT27\",\"PNOF7\"],[\"BHROT27\",\"GNOF\"],[\"BHROT27\",\"GNOFm\"],[\"SIE4x4\",\"PNOF5\"],[\"SIE4x4\",\"PNOF7s\"],[\"SIE4x4\",\"PNOF7\"],[\"SIE4x4\",\"GNOF\"],[\"SIE4x4\",\"GNOFm\"],[\"HAL59\",\"PNOF5\"],[\"HAL59\",\"PNOF7s\"],[\"HAL59\",\"PNOF7\"],[\"HAL59\",\"GNOF\"],[\"HAL59\",\"GNOFm\"],[\"HEAVY28\",\"PNOF5\"],[\"HEAVY28\",\"PNOF7s\"],[\"HEAVY28\",\"PNOF7\"],[\"HEAVY28\",\"GNOF\"],[\"HEAVY28\",\"GNOFm\"],[\"BUT14DIOL\",\"PNOF5\"],[\"BUT14DIOL\",\"PNOF7s\"],[\"BUT14DIOL\",\"PNOF7\"],[\"BUT14DIOL\",\"GNOF\"],[\"BUT14DIOL\",\"GNOFm\"],[\"DC13\",\"PNOF5\"],[\"DC13\",\"PNOF7s\"],[\"DC13\",\"PNOF7\"],[\"DC13\",\"GNOF\"],[\"DC13\",\"GNOFm\"],[\"G21EA\",\"PNOF5\"],[\"G21EA\",\"PNOF7s\"],[\"G21EA\",\"PNOF7\"],[\"G21EA\",\"GNOF\"],[\"G21EA\",\"GNOFm\"],[\"BHPERI\",\"PNOF5\"],[\"BHPERI\",\"PNOF7s\"],[\"BHPERI\",\"PNOF7\"],[\"BHPERI\",\"GNOF\"],[\"BHPERI\",\"GNOFm\"],[\"W4-11\",\"PNOF5\"],[\"W4-11\",\"PNOF7s\"],[\"W4-11\",\"PNOF7\"],[\"W4-11\",\"GNOF\"],[\"W4-11\",\"GNOFm\"],[\"PNICO23\",\"PNOF5\"],[\"PNICO23\",\"PNOF7s\"],[\"PNICO23\",\"PNOF7\"],[\"PNICO23\",\"GNOF\"],[\"PNICO23\",\"GNOFm\"],[\"MCONF\",\"PNOF5\"],[\"MCONF\",\"PNOF7s\"],[\"MCONF\",\"PNOF7\"],[\"MCONF\",\"GNOF\"],[\"MCONF\",\"GNOFm\"],[\"PX13\",\"PNOF5\"],[\"PX13\",\"PNOF7s\"],[\"PX13\",\"PNOF7\"],[\"PX13\",\"GNOF\"],[\"PX13\",\"GNOFm\"],[\"S66\",\"PNOF5\"],[\"S66\",\"PNOF7s\"],[\"S66\",\"PNOF7\"],[\"S66\",\"GNOF\"],[\"S66\",\"GNOFm\"],[\"WCPT18\",\"PNOF5\"],[\"WCPT18\",\"PNOF7s\"],[\"WCPT18\",\"PNOF7\"],[\"WCPT18\",\"GNOF\"],[\"WCPT18\",\"GNOFm\"]]}},\"y_range\":{\"type\":\"object\",\"name\":\"DataRange1d\",\"id\":\"p1007\",\"attributes\":{\"start\":0,\"end\":50}},\"x_scale\":{\"type\":\"object\",\"name\":\"CategoricalScale\",\"id\":\"p1015\"},\"y_scale\":{\"type\":\"object\",\"name\":\"LinearScale\",\"id\":\"p1016\"},\"title\":{\"type\":\"object\",\"name\":\"Title\",\"id\":\"p1008\",\"attributes\":{\"text\":\"030 Perfect Pairing\"}},\"renderers\":[{\"type\":\"object\",\"name\":\"GlyphRenderer\",\"id\":\"p1047\",\"attributes\":{\"data_source\":{\"type\":\"object\",\"name\":\"ColumnDataSource\",\"id\":\"p1001\",\"attributes\":{\"selected\":{\"type\":\"object\",\"name\":\"Selection\",\"id\":\"p1002\",\"attributes\":{\"indices\":[],\"line_indices\":[]}},\"selection_policy\":{\"type\":\"object\",\"name\":\"UnionRenderers\",\"id\":\"p1003\"},\"data\":{\"type\":\"map\",\"entries\":[[\"x\",[[\"DIPCS10\",\"PNOF5\"],[\"DIPCS10\",\"PNOF7s\"],[\"DIPCS10\",\"PNOF7\"],[\"DIPCS10\",\"GNOF\"],[\"DIPCS10\",\"GNOFm\"],[\"FH51\",\"PNOF5\"],[\"FH51\",\"PNOF7s\"],[\"FH51\",\"PNOF7\"],[\"FH51\",\"GNOF\"],[\"FH51\",\"GNOFm\"],[\"CDIE20\",\"PNOF5\"],[\"CDIE20\",\"PNOF7s\"],[\"CDIE20\",\"PNOF7\"],[\"CDIE20\",\"GNOF\"],[\"CDIE20\",\"GNOFm\"],[\"BSR36\",\"PNOF5\"],[\"BSR36\",\"PNOF7s\"],[\"BSR36\",\"PNOF7\"],[\"BSR36\",\"GNOF\"],[\"BSR36\",\"GNOFm\"],[\"ACONF\",\"PNOF5\"],[\"ACONF\",\"PNOF7s\"],[\"ACONF\",\"PNOF7\"],[\"ACONF\",\"GNOF\"],[\"ACONF\",\"GNOFm\"],[\"BH76\",\"PNOF5\"],[\"BH76\",\"PNOF7s\"],[\"BH76\",\"PNOF7\"],[\"BH76\",\"GNOF\"],[\"BH76\",\"GNOFm\"],[\"MB16-43\",\"PNOF5\"],[\"MB16-43\",\"PNOF7s\"],[\"MB16-43\",\"PNOF7\"],[\"MB16-43\",\"GNOF\"],[\"MB16-43\",\"GNOFm\"],[\"Amino20x4\",\"PNOF5\"],[\"Amino20x4\",\"PNOF7s\"],[\"Amino20x4\",\"PNOF7\"],[\"Amino20x4\",\"GNOF\"],[\"Amino20x4\",\"GNOFm\"],[\"BHROT27\",\"PNOF5\"],[\"BHROT27\",\"PNOF7s\"],[\"BHROT27\",\"PNOF7\"],[\"BHROT27\",\"GNOF\"],[\"BHROT27\",\"GNOFm\"],[\"SIE4x4\",\"PNOF5\"],[\"SIE4x4\",\"PNOF7s\"],[\"SIE4x4\",\"PNOF7\"],[\"SIE4x4\",\"GNOF\"],[\"SIE4x4\",\"GNOFm\"],[\"HAL59\",\"PNOF5\"],[\"HAL59\",\"PNOF7s\"],[\"HAL59\",\"PNOF7\"],[\"HAL59\",\"GNOF\"],[\"HAL59\",\"GNOFm\"],[\"HEAVY28\",\"PNOF5\"],[\"HEAVY28\",\"PNOF7s\"],[\"HEAVY28\",\"PNOF7\"],[\"HEAVY28\",\"GNOF\"],[\"HEAVY28\",\"GNOFm\"],[\"BUT14DIOL\",\"PNOF5\"],[\"BUT14DIOL\",\"PNOF7s\"],[\"BUT14DIOL\",\"PNOF7\"],[\"BUT14DIOL\",\"GNOF\"],[\"BUT14DIOL\",\"GNOFm\"],[\"DC13\",\"PNOF5\"],[\"DC13\",\"PNOF7s\"],[\"DC13\",\"PNOF7\"],[\"DC13\",\"GNOF\"],[\"DC13\",\"GNOFm\"],[\"G21EA\",\"PNOF5\"],[\"G21EA\",\"PNOF7s\"],[\"G21EA\",\"PNOF7\"],[\"G21EA\",\"GNOF\"],[\"G21EA\",\"GNOFm\"],[\"BHPERI\",\"PNOF5\"],[\"BHPERI\",\"PNOF7s\"],[\"BHPERI\",\"PNOF7\"],[\"BHPERI\",\"GNOF\"],[\"BHPERI\",\"GNOFm\"],[\"W4-11\",\"PNOF5\"],[\"W4-11\",\"PNOF7s\"],[\"W4-11\",\"PNOF7\"],[\"W4-11\",\"GNOF\"],[\"W4-11\",\"GNOFm\"],[\"PNICO23\",\"PNOF5\"],[\"PNICO23\",\"PNOF7s\"],[\"PNICO23\",\"PNOF7\"],[\"PNICO23\",\"GNOF\"],[\"PNICO23\",\"GNOFm\"],[\"MCONF\",\"PNOF5\"],[\"MCONF\",\"PNOF7s\"],[\"MCONF\",\"PNOF7\"],[\"MCONF\",\"GNOF\"],[\"MCONF\",\"GNOFm\"],[\"PX13\",\"PNOF5\"],[\"PX13\",\"PNOF7s\"],[\"PX13\",\"PNOF7\"],[\"PX13\",\"GNOF\"],[\"PX13\",\"GNOFm\"],[\"S66\",\"PNOF5\"],[\"S66\",\"PNOF7s\"],[\"S66\",\"PNOF7\"],[\"S66\",\"GNOF\"],[\"S66\",\"GNOFm\"],[\"WCPT18\",\"PNOF5\"],[\"WCPT18\",\"PNOF7s\"],[\"WCPT18\",\"PNOF7\"],[\"WCPT18\",\"GNOF\"],[\"WCPT18\",\"GNOFm\"]]],[\"counts\",[44.67753813999127,44.7863486650017,44.846617780006454,9.288467080017085,4.925635390002299,2.9774875475152065,3.0319868825059473,2.807412289993895,3.9147890575068356,1.9239013825067843,2.159649424997615,1.9533797900157395,2.6458161049929343,2.1158116399977813,0.8410665499935019,20.722974600002658,20.656308555056896,19.35559945509678,10.523696865028787,10.080364529985925,2.4631670049938035,2.5063149249989434,2.0341336899932685,2.4463593849934595,0.8887696449903073,31.971313864994645,29.876444720000453,0.1736172799723903,12.421480489978883,6.240101944999466,-1.0,-1.0,-1.0,90.86787537506709,73.66320670988239,2.5384581400161705,2.7183561175218482,3.647729702514003,5.750225270013636,1.482212110016364,3.297997355025517,3.753715902510371,9.95441066749271,1.135835015006931,3.542205962472641,8.890228345007765,8.86708651000024,8.282269135006226,7.561172065001575,6.7473195099958225,-1.0,-1.0,-1.0,-1.0,-1.0,-1.0,-1.0,-1.0,-1.0,-1.0,2.90660382002044,3.0323473950238125,2.9322542549770687,0.32259152999032636,2.2383754949963857,4.199531155007232,4.990304589992826,0.27662653999952913,0.3101790649861158,2.165037904987372,22.868883322482297,22.16801183999788,7.455879777514999,18.933517072507627,12.056441032512904,29.559266294984596,28.173515655011037,3.0867760950008893,13.732947899998898,12.512639430015817,13.710755251669847,18.539998396664505,38.64684549667021,17.697182401667064,22.995554651658463,1.2777782800086745,1.232623480002363,1.395243474995516,0.01490330002250917,1.0837380700003796,1.7139763650582291,1.406171144936999,0.5274085649881806,6.077874210027575,0.2290597649842061,23.893675620008324,23.836103250003944,23.982354630001893,9.679383584993495,6.897597044997475,6.324696410009982,4.208566879994597,4.277208447487956,0.5646058775096602,0.5057244824878857,42.09159768999201,42.55706841999501,43.155871240014314,14.820105369990962,11.61304841501164]],[\"descriptions\",[\"Double-ionisation potentials of closed-shell systems\",\"Double-ionisation potentials of closed-shell systems\",\"Double-ionisation potentials of closed-shell systems\",\"Double-ionisation potentials of closed-shell systems\",\"Double-ionisation potentials of closed-shell systems\",\"Reaction energies in various (in-)organic systems\",\"Reaction energies in various (in-)organic systems\",\"Reaction energies in various (in-)organic systems\",\"Reaction energies in various (in-)organic systems\",\"Reaction energies in various (in-)organic systems\",\"Double-bond isomerisation energies in cyclic systems\",\"Double-bond isomerisation energies in cyclic systems\",\"Double-bond isomerisation energies in cyclic systems\",\"Double-bond isomerisation energies in cyclic systems\",\"Double-bond isomerisation energies in cyclic systems\",\"Bond-separation reactions of saturated hydrocarbons\",\"Bond-separation reactions of saturated hydrocarbons\",\"Bond-separation reactions of saturated hydrocarbons\",\"Bond-separation reactions of saturated hydrocarbons\",\"Bond-separation reactions of saturated hydrocarbons\",\"Relative energies of alkane conformers\",\"Relative energies of alkane conformers\",\"Relative energies of alkane conformers\",\"Relative energies of alkane conformers\",\"Relative energies of alkane conformers\",\"Barrier heights of hydrogen transfer, heavy atom transfer, nucleophilic substitution, unimolecular and association reactions\",\"Barrier heights of hydrogen transfer, heavy atom transfer, nucleophilic substitution, unimolecular and association reactions\",\"Barrier heights of hydrogen transfer, heavy atom transfer, nucleophilic substitution, unimolecular and association reactions\",\"Barrier heights of hydrogen transfer, heavy atom transfer, nucleophilic substitution, unimolecular and association reactions\",\"Barrier heights of hydrogen transfer, heavy atom transfer, nucleophilic substitution, unimolecular and association reactions\",\"Decomposition energies of artificial molecules\",\"Decomposition energies of artificial molecules\",\"Decomposition energies of artificial molecules\",\"Decomposition energies of artificial molecules\",\"Decomposition energies of artificial molecules\",\"Relative energies in amino acid conformers\",\"Relative energies in amino acid conformers\",\"Relative energies in amino acid conformers\",\"Relative energies in amino acid conformers\",\"Relative energies in amino acid conformers\",\"Barrier heights for rotation around single bonds\",\"Barrier heights for rotation around single bonds\",\"Barrier heights for rotation around single bonds\",\"Barrier heights for rotation around single bonds\",\"Barrier heights for rotation around single bonds\",\"Self-interaction-error related problems\",\"Self-interaction-error related problems\",\"Self-interaction-error related problems\",\"Self-interaction-error related problems\",\"Self-interaction-error related problems\",\"Binding energies in halogenated dimers (incl. halogen bonds)\",\"Binding energies in halogenated dimers (incl. halogen bonds)\",\"Binding energies in halogenated dimers (incl. halogen bonds)\",\"Binding energies in halogenated dimers (incl. halogen bonds)\",\"Binding energies in halogenated dimers (incl. halogen bonds)\",\"Noncovalent interaction energies between heavy element hydrides\",\"Noncovalent interaction energies between heavy element hydrides\",\"Noncovalent interaction energies between heavy element hydrides\",\"Noncovalent interaction energies between heavy element hydrides\",\"Noncovalent interaction energies between heavy element hydrides\",\"Relative energies in butane-1,4-diol conformers\",\"Relative energies in butane-1,4-diol conformers\",\"Relative energies in butane-1,4-diol conformers\",\"Relative energies in butane-1,4-diol conformers\",\"Relative energies in butane-1,4-diol conformers\",\"13 difficult cases for DFT methods\",\"13 difficult cases for DFT methods\",\"13 difficult cases for DFT methods\",\"13 difficult cases for DFT methods\",\"13 difficult cases for DFT methods\",\"Adiabatic electron affinities\",\"Adiabatic electron affinities\",\"Adiabatic electron affinities\",\"Adiabatic electron affinities\",\"Adiabatic electron affinities\",\"Barrier heights of pericyclic reactions\",\"Barrier heights of pericyclic reactions\",\"Barrier heights of pericyclic reactions\",\"Barrier heights of pericyclic reactions\",\"Barrier heights of pericyclic reactions\",\"Total atomisation energies\",\"Total atomisation energies\",\"Total atomisation energies\",\"Total atomisation energies\",\"Total atomisation energies\",\"Interaction energies in pnicogen-containing dimers\",\"Interaction energies in pnicogen-containing dimers\",\"Interaction energies in pnicogen-containing dimers\",\"Interaction energies in pnicogen-containing dimers\",\"Interaction energies in pnicogen-containing dimers\",\"Relative energies in melatonin conformers\",\"Relative energies in melatonin conformers\",\"Relative energies in melatonin conformers\",\"Relative energies in melatonin conformers\",\"Relative energies in melatonin conformers\",\"Proton-exchange barriers in H2O, NH3, and HF clusters\",\"Proton-exchange barriers in H2O, NH3, and HF clusters\",\"Proton-exchange barriers in H2O, NH3, and HF clusters\",\"Proton-exchange barriers in H2O, NH3, and HF clusters\",\"Proton-exchange barriers in H2O, NH3, and HF clusters\",\"Binding energies of noncovalently bound dimers\",\"Binding energies of noncovalently bound dimers\",\"Binding energies of noncovalently bound dimers\",\"Binding energies of noncovalently bound dimers\",\"Binding energies of noncovalently bound dimers\",\"Proton-transfer barriers in uncatalysed and water-catalysed reactions\",\"Proton-transfer barriers in uncatalysed and water-catalysed reactions\",\"Proton-transfer barriers in uncatalysed and water-catalysed reactions\",\"Proton-transfer barriers in uncatalysed and water-catalysed reactions\",\"Proton-transfer barriers in uncatalysed and water-catalysed reactions\"]],[\"nofs\",[\"PNOF5\",\"PNOF7s\",\"PNOF7\",\"GNOF\",\"GNOFm\",\"PNOF5\",\"PNOF7s\",\"PNOF7\",\"GNOF\",\"GNOFm\",\"PNOF5\",\"PNOF7s\",\"PNOF7\",\"GNOF\",\"GNOFm\",\"PNOF5\",\"PNOF7s\",\"PNOF7\",\"GNOF\",\"GNOFm\",\"PNOF5\",\"PNOF7s\",\"PNOF7\",\"GNOF\",\"GNOFm\",\"PNOF5\",\"PNOF7s\",\"PNOF7\",\"GNOF\",\"GNOFm\",\"PNOF5\",\"PNOF7s\",\"PNOF7\",\"GNOF\",\"GNOFm\",\"PNOF5\",\"PNOF7s\",\"PNOF7\",\"GNOF\",\"GNOFm\",\"PNOF5\",\"PNOF7s\",\"PNOF7\",\"GNOF\",\"GNOFm\",\"PNOF5\",\"PNOF7s\",\"PNOF7\",\"GNOF\",\"GNOFm\",\"PNOF5\",\"PNOF7s\",\"PNOF7\",\"GNOF\",\"GNOFm\",\"PNOF5\",\"PNOF7s\",\"PNOF7\",\"GNOF\",\"GNOFm\",\"PNOF5\",\"PNOF7s\",\"PNOF7\",\"GNOF\",\"GNOFm\",\"PNOF5\",\"PNOF7s\",\"PNOF7\",\"GNOF\",\"GNOFm\",\"PNOF5\",\"PNOF7s\",\"PNOF7\",\"GNOF\",\"GNOFm\",\"PNOF5\",\"PNOF7s\",\"PNOF7\",\"GNOF\",\"GNOFm\",\"PNOF5\",\"PNOF7s\",\"PNOF7\",\"GNOF\",\"GNOFm\",\"PNOF5\",\"PNOF7s\",\"PNOF7\",\"GNOF\",\"GNOFm\",\"PNOF5\",\"PNOF7s\",\"PNOF7\",\"GNOF\",\"GNOFm\",\"PNOF5\",\"PNOF7s\",\"PNOF7\",\"GNOF\",\"GNOFm\",\"PNOF5\",\"PNOF7s\",\"PNOF7\",\"GNOF\",\"GNOFm\",\"PNOF5\",\"PNOF7s\",\"PNOF7\",\"GNOF\",\"GNOFm\"]]]}}},\"view\":{\"type\":\"object\",\"name\":\"CDSView\",\"id\":\"p1048\",\"attributes\":{\"filter\":{\"type\":\"object\",\"name\":\"AllIndices\",\"id\":\"p1049\"}}},\"glyph\":{\"type\":\"object\",\"name\":\"VBar\",\"id\":\"p1044\",\"attributes\":{\"x\":{\"type\":\"field\",\"field\":\"x\"},\"top\":{\"type\":\"field\",\"field\":\"counts\"},\"line_color\":{\"type\":\"value\",\"value\":\"white\"},\"fill_color\":{\"type\":\"field\",\"field\":\"x\",\"transform\":{\"type\":\"object\",\"name\":\"CategoricalColorMapper\",\"id\":\"p1040\",\"attributes\":{\"palette\":[\"#1f77b4\",\"#ff7f0e\",\"#2ca02c\",\"#d62728\",\"#9467bd\"],\"factors\":[\"PNOF5\",\"PNOF7s\",\"PNOF7\",\"GNOF\",\"GNOFm\"],\"start\":1,\"end\":2}}}}},\"nonselection_glyph\":{\"type\":\"object\",\"name\":\"VBar\",\"id\":\"p1045\",\"attributes\":{\"x\":{\"type\":\"field\",\"field\":\"x\"},\"top\":{\"type\":\"field\",\"field\":\"counts\"},\"line_color\":{\"type\":\"value\",\"value\":\"white\"},\"line_alpha\":{\"type\":\"value\",\"value\":0.1},\"fill_color\":{\"type\":\"field\",\"field\":\"x\",\"transform\":{\"id\":\"p1040\"}},\"fill_alpha\":{\"type\":\"value\",\"value\":0.1},\"hatch_alpha\":{\"type\":\"value\",\"value\":0.1}}},\"muted_glyph\":{\"type\":\"object\",\"name\":\"VBar\",\"id\":\"p1046\",\"attributes\":{\"x\":{\"type\":\"field\",\"field\":\"x\"},\"top\":{\"type\":\"field\",\"field\":\"counts\"},\"line_color\":{\"type\":\"value\",\"value\":\"white\"},\"line_alpha\":{\"type\":\"value\",\"value\":0.2},\"fill_color\":{\"type\":\"field\",\"field\":\"x\",\"transform\":{\"id\":\"p1040\"}},\"fill_alpha\":{\"type\":\"value\",\"value\":0.2},\"hatch_alpha\":{\"type\":\"value\",\"value\":0.2}}}}}],\"toolbar\":{\"type\":\"object\",\"name\":\"Toolbar\",\"id\":\"p1014\",\"attributes\":{\"tools\":[{\"type\":\"object\",\"name\":\"PanTool\",\"id\":\"p1027\"},{\"type\":\"object\",\"name\":\"WheelZoomTool\",\"id\":\"p1028\",\"attributes\":{\"renderers\":\"auto\"}},{\"type\":\"object\",\"name\":\"BoxZoomTool\",\"id\":\"p1029\",\"attributes\":{\"overlay\":{\"type\":\"object\",\"name\":\"BoxAnnotation\",\"id\":\"p1030\",\"attributes\":{\"syncable\":false,\"line_color\":\"black\",\"line_alpha\":1.0,\"line_width\":2,\"line_dash\":[4,4],\"fill_color\":\"lightgrey\",\"fill_alpha\":0.5,\"level\":\"overlay\",\"visible\":false,\"left\":{\"type\":\"number\",\"value\":\"nan\"},\"right\":{\"type\":\"number\",\"value\":\"nan\"},\"top\":{\"type\":\"number\",\"value\":\"nan\"},\"bottom\":{\"type\":\"number\",\"value\":\"nan\"},\"left_units\":\"canvas\",\"right_units\":\"canvas\",\"top_units\":\"canvas\",\"bottom_units\":\"canvas\",\"handles\":{\"type\":\"object\",\"name\":\"BoxInteractionHandles\",\"id\":\"p1036\",\"attributes\":{\"all\":{\"type\":\"object\",\"name\":\"AreaVisuals\",\"id\":\"p1035\",\"attributes\":{\"fill_color\":\"white\",\"hover_fill_color\":\"lightgray\"}}}}}}}},{\"type\":\"object\",\"name\":\"SaveTool\",\"id\":\"p1037\"},{\"type\":\"object\",\"name\":\"ResetTool\",\"id\":\"p1038\"},{\"type\":\"object\",\"name\":\"HelpTool\",\"id\":\"p1039\"},{\"type\":\"object\",\"name\":\"HoverTool\",\"id\":\"p1052\",\"attributes\":{\"renderers\":\"auto\",\"tooltips\":[[\"Description\",\"@descriptions\"],[\"MAD\",\"@counts\"]]}}]}},\"toolbar_location\":\"left\",\"left\":[{\"type\":\"object\",\"name\":\"LinearAxis\",\"id\":\"p1022\",\"attributes\":{\"ticker\":{\"type\":\"object\",\"name\":\"BasicTicker\",\"id\":\"p1023\",\"attributes\":{\"mantissas\":[1,2,5]}},\"formatter\":{\"type\":\"object\",\"name\":\"BasicTickFormatter\",\"id\":\"p1024\"},\"axis_label\":\"MAD (kcal/mol)\",\"major_label_policy\":{\"type\":\"object\",\"name\":\"AllLabels\",\"id\":\"p1025\"}}}],\"below\":[{\"type\":\"object\",\"name\":\"CategoricalAxis\",\"id\":\"p1017\",\"attributes\":{\"ticker\":{\"type\":\"object\",\"name\":\"CategoricalTicker\",\"id\":\"p1018\"},\"formatter\":{\"type\":\"object\",\"name\":\"CategoricalTickFormatter\",\"id\":\"p1019\"},\"axis_label\":\"Sets\",\"major_label_policy\":{\"type\":\"object\",\"name\":\"AllLabels\",\"id\":\"p1020\"},\"major_label_text_font_size\":\"0pt\",\"group_label_orientation\":1.5707963267948966}}],\"center\":[{\"type\":\"object\",\"name\":\"Grid\",\"id\":\"p1021\",\"attributes\":{\"axis\":{\"id\":\"p1017\"},\"grid_line_color\":null}},{\"type\":\"object\",\"name\":\"Grid\",\"id\":\"p1026\",\"attributes\":{\"dimension\":1,\"axis\":{\"id\":\"p1022\"}}},{\"type\":\"object\",\"name\":\"Legend\",\"id\":\"p1050\",\"attributes\":{\"location\":\"top_left\",\"orientation\":\"horizontal\",\"items\":[{\"type\":\"object\",\"name\":\"LegendItem\",\"id\":\"p1051\",\"attributes\":{\"label\":{\"type\":\"field\",\"field\":\"nofs\"},\"renderers\":[{\"id\":\"p1047\"}]}}]}}]}}]}};\n  const render_items = [{\"docid\":\"b67a2b0e-a370-4e8b-82ff-f4a46170da85\",\"roots\":{\"p1005\":\"e2e217c1-91e7-4f77-b6e5-28a027773da5\"},\"root_ids\":[\"p1005\"]}];\n  void root.Bokeh.embed.embed_items_notebook(docs_json, render_items);\n  }\n  if (root.Bokeh !== undefined) {\n    embed_document(root);\n  } else {\n    let attempts = 0;\n    const timer = setInterval(function(root) {\n      if (root.Bokeh !== undefined) {\n        clearInterval(timer);\n        embed_document(root);\n      } else {\n        attempts++;\n        if (attempts > 100) {\n          clearInterval(timer);\n          console.log(\"Bokeh: ERROR: Unable to run BokehJS code because BokehJS library is missing\");\n        }\n      }\n    }, 10, root)\n  }\n})(window);",
      "application/vnd.bokehjs_exec.v0+json": ""
     },
     "metadata": {
      "application/vnd.bokehjs_exec.v0+json": {
       "id": "p1005"
      }
     },
     "output_type": "display_data"
    }
   ],
   "source": [
    "from bokeh.models import ColumnDataSource, FactorRange\n",
    "from bokeh.plotting import figure, show\n",
    "from bokeh.models import ColumnDataSource, HoverTool, TapTool\n",
    "import math\n",
    "from bokeh.transform import factor_cmap\n",
    "from bokeh.palettes import Category10\n",
    "\n",
    "nof = \"GNOF\"\n",
    "file = open('{}-{}-{}.yaml'.format(set_name,nof,ncwo), 'r')\n",
    "data = yaml.safe_load(file)\n",
    "subsets = get_Sets(data)\n",
    "description = get_Descriptions(subsets)\n",
    "\n",
    "nofs = [\"PNOF5\", \"PNOF7s\", \"PNOF7\", \"GNOF\", \"GNOFm\"]\n",
    "\n",
    "data = {'subsets' : subsets}\n",
    "for nof in nofs:\n",
    "    if nof==\"GNOFm\":\n",
    "        file = open('{}-{}-{}.yaml'.format(set_name,\"GNOFm\",ncwo), 'r')\n",
    "    else:\n",
    "        file = open('{}-{}-{}.yaml'.format(set_name,nof,ncwo), 'r')\n",
    "    yaml_data = yaml.safe_load(file)\n",
    "    counts = get_MADs(yaml_data)\n",
    "    data[nof] = counts\n",
    "\n",
    "descriptions = {'subsets' : subsets,\n",
    "        'PNOF5'   : description,\n",
    "        'PNOF7s'  : description,\n",
    "        'PNOF7'   : description,\n",
    "        'GNOF'    : description,\n",
    "        'GNOFm'   : description}\n",
    "\n",
    "x = [ (subset, nof) for subset in subsets for nof in nofs ]\n",
    "counts = sum(zip(data['PNOF5'], data['PNOF7s'], data['PNOF7'], data['GNOF'], data['GNOFm']), ()) # like an hstack\n",
    "descriptions = sum(zip(descriptions['PNOF5'], descriptions['PNOF7s'], descriptions['PNOF7'], descriptions['GNOF'], descriptions['GNOFm']), ()) # like an hstack\n",
    "\n",
    "source = ColumnDataSource(data=dict(x=x, counts=counts, descriptions=descriptions, nofs=[f for _,f in x]))\n",
    "\n",
    "p = figure(x_range=FactorRange(*x), width=2000, height=350, toolbar_location=\"left\", title=\"030 Perfect Pairing\")\n",
    "\n",
    "p.vbar(x='x', top='counts', width=1.0, source=source, line_color=\"white\", legend_field=\"nofs\",\n",
    "       fill_color=factor_cmap('x', palette=Category10[len(nofs)], factors=nofs, start=1, end=2))\n",
    "\n",
    "p.y_range.start = 0\n",
    "p.y_range.end = 50\n",
    "p.xaxis.major_label_text_font_size = \"0pt\"\n",
    "#p.xaxis.major_label_orientation = math.pi/2\n",
    "p.xaxis.group_label_orientation = math.pi/2\n",
    "p.xaxis.axis_label = \"Sets\"\n",
    "p.yaxis.axis_label = \"MAD (kcal/mol)\"\n",
    "p.xgrid.grid_line_color = None\n",
    "\n",
    "p.legend.location = \"top_left\"\n",
    "p.legend.orientation = \"horizontal\"\n",
    "\n",
    "hover = HoverTool(tooltips=[\n",
    "    (\"Description\", \"@descriptions\"),\n",
    "    (\"MAD\", \"@counts\"),\n",
    "])\n",
    "p.add_tools(hover)\n",
    "\n",
    "show(p)"
   ]
  },
  {
   "cell_type": "code",
   "execution_count": 17,
   "metadata": {},
   "outputs": [],
   "source": [
    "import matplotlib.pyplot as plt\n",
    "from myst_nb import glue\n",
    "import numpy as np"
   ]
  },
  {
   "cell_type": "code",
   "execution_count": 18,
   "metadata": {
    "tags": [
     "remove-output"
    ]
   },
   "outputs": [
    {
     "data": {
      "application/papermill.record/image/png": "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",
      "application/papermill.record/text/plain": "<Figure size 640x480 with 1 Axes>"
     },
     "metadata": {
      "scrapbook": {
       "mime_prefix": "application/papermill.record/",
       "name": "boot_fig"
      }
     },
     "output_type": "display_data"
    },
    {
     "data": {
      "image/png": "[encoded data removed]",
      "text/plain": [
       "<Figure size 640x480 with 1 Axes>"
      ]
     },
     "metadata": {},
     "output_type": "display_data"
    }
   ],
   "source": [
    "fig, ax = plt.subplots()\n",
    "x = np.linspace(1,2,3)\n",
    "ax.plot(x,x)\n",
    "\n",
    "glue(\"boot_fig\", fig, display=False)"
   ]
  },
  {
   "cell_type": "markdown",
   "metadata": {},
   "source": [
    "```{code-cell}\n",
    ":label: markdown-myst\n",
    "print(\"Here's some python!\")\n",
    "```"
   ]
  },
  {
   "cell_type": "markdown",
   "metadata": {},
   "source": [
    "Texto 1\n",
    "\n",
    "```{glue:} boot_fig2\n",
    "```\n",
    "\n",
    "Texto2"
   ]
  },
  {
   "cell_type": "markdown",
   "metadata": {},
   "source": [
    "````{tab-set}\n",
    "```{tab-item} Tab 1 title\n",
    "My first tab\n",
    "```\n",
    "\n",
    "```{tab-item} Tab 2 title\n",
    "My second tab with `some code`!\n",
    "```\n",
    "````"
   ]
  },
  {
   "cell_type": "markdown",
   "metadata": {},
   "source": [
    "<div class=\"admonition note\" name=\"html-admonition\" style=\"background: lightgreen; padding: 10px\">\n",
    "<p class=\"title\">This is the **title**</p>\n",
    "This is the *content*\n",
    "</div>"
   ]
  },
  {
   "cell_type": "markdown",
   "metadata": {},
   "source": [
    "<div>This is some HTML content.</div>\n",
    "<script>\n",
    "  // You can include JavaScript here as well.\n",
    "  console.log(\"Hello from JavaScript in Jupyter Book!\");\n",
    "</script>"
   ]
  },
  {
   "cell_type": "code",
   "execution_count": 13,
   "metadata": {},
   "outputs": [
    {
     "data": {
      "application/vnd.jupyter.widget-view+json": {
       "model_id": "2868587be18945aa8c669e71c77e3609",
       "version_major": 2,
       "version_minor": 0
      },
      "text/plain": [
       "NGLWidget()"
      ]
     },
     "metadata": {},
     "output_type": "display_data"
    }
   ],
   "source": [
    "import nglview\n",
    "view = nglview.show_pdbid(\"3pqr\")  # load \"3pqr\" from RCSB PDB and display viewer widget\n",
    "view"
   ]
  },
  {
   "cell_type": "markdown",
   "metadata": {},
   "source": [
    "```{code-cell}\n",
    "# This cell is intentionally left blank.  It's needed for Jupyter Book to capture the output."
   ]
  },
  {
   "cell_type": "code",
   "execution_count": 6,
   "metadata": {
    "tags": [
     "remove-input"
    ]
   },
   "outputs": [
    {
     "data": {
      "application/vnd.jupyter.widget-view+json": {
       "model_id": "488eb7b6faf042d89150b496ae998bfc",
       "version_major": 2,
       "version_minor": 0
      },
      "text/plain": [
       "Tab(children=(Tab(children=(VBox(children=(Tab(children=(Output(), Output()), selected_index=0, titles=('h2s',…"
      ]
     },
     "metadata": {},
     "output_type": "display_data"
    }
   ],
   "source": [
    "import ipywidgets as widgets\n",
    "from IPython.display import display\n",
    "import py3Dmol\n",
    "\n",
    "import yaml\n",
    "import numpy as np\n",
    "\n",
    "nof = \"GNOF\"\n",
    "file = open('{}-{}-{}.yaml'.format(set_name,nof,ncwo), 'r')\n",
    "data = yaml.safe_load(file)\n",
    "\n",
    "master_tabs = widgets.Tab()\n",
    "\n",
    "tabs = []\n",
    "for h,set in enumerate(data):\n",
    "    set_tab = widgets.Tab()\n",
    "    set_tab.children = [widgets.VBox() for system in data[set]]\n",
    "    for i,system in enumerate(data[set]):\n",
    "        set_tab.set_title(i, str(system))\n",
    "\n",
    "        mols_tab = widgets.Tab()\n",
    "        mols_tab.children = [widgets.VBox() for specie in data[set][system][\"Species\"]]\n",
    "        childrens = []\n",
    "        for j,specie in enumerate(data[set][system][\"Species\"]):\n",
    "            url = \"url:https://raw.githubusercontent.com/felipelewyee/DietGMTKN55-NOF/refs/heads/main/fig/{}/{}-{}.xyz\".format(set_name, set, specie) \n",
    "            viewer = py3Dmol.view(url, width=400, height=300)\n",
    "            viewer.setStyle({'stick': {'radius': .1}, 'sphere': {'scale': 0.25}})\n",
    "            viewer.zoomTo()\n",
    "            childrens.append(widgets.Output()) \n",
    "            with childrens[-1]:\n",
    "                viewer.show()\n",
    "        mols_tab.children = childrens\n",
    "        for j,specie in enumerate(data[set][system][\"Species\"]):\n",
    "            mols_tab.set_title(j, str(specie))\n",
    "\n",
    "        text_specie = \"| Specie | E_NOF | Count |\\n\"\n",
    "        for specie in data[set][system][\"Species\"]:\n",
    "            text_specie += \"| {} | {} |\\n\".format(specie, data[set][system][\"Species\"][specie][\"Count\"])\n",
    "                                                #data[set][system][\"Species\"][specie][\"Charge\"], \n",
    "                                                #data[set][system][\"Species\"][specie][\"Multiplicity\"])\n",
    " \n",
    "        text_specie_w = widgets.Textarea(\n",
    "            value=text_specie,\n",
    "            placeholder='Type something',\n",
    "            description='Molecules',\n",
    "            disabled=True   \n",
    "        )\n",
    "\n",
    "        text_E_ref_w = widgets.Textarea(\n",
    "            value=\"{:.3f}\".format(data[set][system][\"E_Ref\"]),\n",
    "            placeholder='Type something',\n",
    "            description='E_Ref',\n",
    "            disabled=True   \n",
    "        )\n",
    "\n",
    "        text_weight_w = widgets.Textarea(\n",
    "            value=\"{:.3f}\".format(data[set][system][\"Weight\"]),\n",
    "            placeholder='Type something',\n",
    "            description='Weight',\n",
    "            disabled=True   \n",
    "        )\n",
    "\n",
    "        set_tab.children[i].children = [mols_tab, text_specie_w,\n",
    "                                         text_E_ref_w, text_weight_w]\n",
    "    tabs.append(set_tab)\n",
    "\n",
    "master_tabs.children = tabs\n",
    "for i,set in enumerate(data):\n",
    "    master_tabs.set_title(i, str(set))\n",
    "\n",
    "display(master_tabs)"
   ]
  }
 ],
 "metadata": {
  "kernelspec": {
   "display_name": "jb",
   "language": "python",
   "name": "python3"
  },
  "language_info": {
   "codemirror_mode": {
    "name": "ipython",
    "version": 3
   },
   "file_extension": ".py",
   "mimetype": "text/x-python",
   "name": "python",
   "nbconvert_exporter": "python",
   "pygments_lexer": "ipython3",
   "version": "3.13.1"
  }
 },
 "nbformat": 4,
 "nbformat_minor": 4
}
