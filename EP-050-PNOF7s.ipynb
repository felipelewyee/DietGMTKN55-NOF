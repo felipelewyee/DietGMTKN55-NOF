{
 "cells": [
  {
   "cell_type": "markdown",
   "metadata": {},
   "source": [
    "# PNOF7s"
   ]
  },
  {
   "cell_type": "code",
   "execution_count": 19,
   "metadata": {
    "tags": [
     "remove-cell"
    ]
   },
   "outputs": [],
   "source": [
    "import yaml\n",
    "import numpy as np\n",
    "\n",
    "set_name = \"050\"\n",
    "nof = \"PNOF7s\"\n",
    "ncwo = \"ncwomax\"\n",
    "file = open('{}-{}-{}.yaml'.format(set_name,nof,ncwo), 'r')\n",
    "data = yaml.safe_load(file)"
   ]
  },
  {
   "cell_type": "code",
   "execution_count": 20,
   "metadata": {
    "tags": [
     "remove-cell"
    ]
   },
   "outputs": [],
   "source": [
    "def get_MADs(data):\n",
    "    MADs = []\n",
    "    for set in data:\n",
    "        ADs = []\n",
    "        for system in data[set]:\n",
    "            ADs.append(data[set][system][\"AD\"])\n",
    "        MADs.append(np.mean(ADs))\n",
    "    return MADs\n",
    "\n",
    "def get_Sets(data):\n",
    "    Sets = []\n",
    "    for set in data:\n",
    "        Sets.append(set)\n",
    "    return Sets\n",
    "\n",
    "def get_Descriptions(subsets):\n",
    "    f_des = open('Sets_description.yaml', 'r')\n",
    "    d_des = yaml.safe_load(f_des)\n",
    "    descriptions = []\n",
    "    for set in subsets:\n",
    "        descriptions.append(d_des[set])\n",
    "    return descriptions"
   ]
  },
  {
   "cell_type": "code",
   "execution_count": 21,
   "metadata": {
    "tags": [
     "remove-input"
    ]
   },
   "outputs": [
    {
     "data": {
      "text/html": [
       "    <style>\n",
       "        .bk-notebook-logo {\n",
       "            display: block;\n",
       "            width: 20px;\n",
       "            height: 20px;\n",
       "            background-image: url(data:image/png;base64,iVBORw0KGgoAAAANSUhEUgAAABQAAAAUCAYAAACNiR0NAAAABHNCSVQICAgIfAhkiAAAAAlwSFlzAAALEgAACxIB0t1+/AAAABx0RVh0U29mdHdhcmUAQWRvYmUgRmlyZXdvcmtzIENTNui8sowAAAOkSURBVDiNjZRtaJVlGMd/1/08zzln5zjP1LWcU9N0NkN8m2CYjpgQYQXqSs0I84OLIC0hkEKoPtiH3gmKoiJDU7QpLgoLjLIQCpEsNJ1vqUOdO7ppbuec5+V+rj4ctwzd8IIbbi6u+8f1539dt3A78eXC7QizUF7gyV1fD1Yqg4JWz84yffhm0qkFqBogB9rM8tZdtwVsPUhWhGcFJngGeWrPzHm5oaMmkfEg1usvLFyc8jLRqDOMru7AyC8saQr7GG7f5fvDeH7Ej8CM66nIF+8yngt6HWaKh7k49Soy9nXurCi1o3qUbS3zWfrYeQDTB/Qj6kX6Ybhw4B+bOYoLKCC9H3Nu/leUTZ1JdRWkkn2ldcCamzrcf47KKXdAJllSlxAOkRgyHsGC/zRday5Qld9DyoM4/q/rUoy/CXh3jzOu3bHUVZeU+DEn8FInkPBFlu3+nW3Nw0mk6vCDiWg8CeJaxEwuHS3+z5RgY+YBR6V1Z1nxSOfoaPa4LASWxxdNp+VWTk7+4vzaou8v8PN+xo+KY2xsw6une2frhw05CTYOmQvsEhjhWjn0bmXPjpE1+kplmmkP3suftwTubK9Vq22qKmrBhpY4jvd5afdRA3wGjFAgcnTK2s4hY0/GPNIb0nErGMCRxWOOX64Z8RAC4oCXdklmEvcL8o0BfkNK4lUg9HTl+oPlQxdNo3Mg4Nv175e/1LDGzZen30MEjRUtmXSfiTVu1kK8W4txyV6BMKlbgk3lMwYCiusNy9fVfvvwMxv8Ynl6vxoByANLTWplvuj/nF9m2+PDtt1eiHPBr1oIfhCChQMBw6Aw0UulqTKZdfVvfG7VcfIqLG9bcldL/+pdWTLxLUy8Qq38heUIjh4XlzZxzQm19lLFlr8vdQ97rjZVOLf8nclzckbcD4wxXMidpX30sFd37Fv/GtwwhzhxGVAprjbg0gCAEeIgwCZyTV2Z1REEW8O4py0wsjeloKoMr6iCY6dP92H6Vw/oTyICIthibxjm/DfN9lVz8IqtqKYLUXfoKVMVQVVJOElGjrnnUt9T9wbgp8AyYKaGlqingHZU/uG2NTZSVqwHQTWkx9hxjkpWDaCg6Ckj5qebgBVbT3V3NNXMSiWSDdGV3hrtzla7J+duwPOToIg42ChPQOQjspnSlp1V+Gjdged7+8UN5CRAV7a5EdFNwCjEaBR27b3W890TE7g24NAP/mMDXRWrGoFPQI9ls/MWO2dWFAar/xcOIImbbpA3zgAAAABJRU5ErkJggg==);\n",
       "        }\n",
       "    </style>\n",
       "    <div>\n",
       "        <a href=\"https://bokeh.org\" target=\"_blank\" class=\"bk-notebook-logo\"></a>\n",
       "        <span id=\"cdcbb531-8178-4ef0-8440-6e4e9c89e196\">Loading BokehJS ...</span>\n",
       "    </div>\n"
      ]
     },
     "metadata": {},
     "output_type": "display_data"
    },
    {
     "data": {
      "application/javascript": "'use strict';\n(function(root) {\n  function now() {\n    return new Date();\n  }\n\n  const force = true;\n\n  if (typeof root._bokeh_onload_callbacks === \"undefined\" || force === true) {\n    root._bokeh_onload_callbacks = [];\n    root._bokeh_is_loading = undefined;\n  }\n\nconst JS_MIME_TYPE = 'application/javascript';\n  const HTML_MIME_TYPE = 'text/html';\n  const EXEC_MIME_TYPE = 'application/vnd.bokehjs_exec.v0+json';\n  const CLASS_NAME = 'output_bokeh rendered_html';\n\n  /**\n   * Render data to the DOM node\n   */\n  function render(props, node) {\n    const script = document.createElement(\"script\");\n    node.appendChild(script);\n  }\n\n  /**\n   * Handle when an output is cleared or removed\n   */\n  function handleClearOutput(event, handle) {\n    function drop(id) {\n      const view = Bokeh.index.get_by_id(id)\n      if (view != null) {\n        view.model.document.clear()\n        Bokeh.index.delete(view)\n      }\n    }\n\n    const cell = handle.cell;\n\n    const id = cell.output_area._bokeh_element_id;\n    const server_id = cell.output_area._bokeh_server_id;\n\n    // Clean up Bokeh references\n    if (id != null) {\n      drop(id)\n    }\n\n    if (server_id !== undefined) {\n      // Clean up Bokeh references\n      const cmd_clean = \"from bokeh.io.state import curstate; print(curstate().uuid_to_server['\" + server_id + \"'].get_sessions()[0].document.roots[0]._id)\";\n      cell.notebook.kernel.execute(cmd_clean, {\n        iopub: {\n          output: function(msg) {\n            const id = msg.content.text.trim()\n            drop(id)\n          }\n        }\n      });\n      // Destroy server and session\n      const cmd_destroy = \"import bokeh.io.notebook as ion; ion.destroy_server('\" + server_id + \"')\";\n      cell.notebook.kernel.execute(cmd_destroy);\n    }\n  }\n\n  /**\n   * Handle when a new output is added\n   */\n  function handleAddOutput(event, handle) {\n    const output_area = handle.output_area;\n    const output = handle.output;\n\n    // limit handleAddOutput to display_data with EXEC_MIME_TYPE content only\n    if ((output.output_type != \"display_data\") || (!Object.prototype.hasOwnProperty.call(output.data, EXEC_MIME_TYPE))) {\n      return\n    }\n\n    const toinsert = output_area.element.find(\".\" + CLASS_NAME.split(' ')[0]);\n\n    if (output.metadata[EXEC_MIME_TYPE][\"id\"] !== undefined) {\n      toinsert[toinsert.length - 1].firstChild.textContent = output.data[JS_MIME_TYPE];\n      // store reference to embed id on output_area\n      output_area._bokeh_element_id = output.metadata[EXEC_MIME_TYPE][\"id\"];\n    }\n    if (output.metadata[EXEC_MIME_TYPE][\"server_id\"] !== undefined) {\n      const bk_div = document.createElement(\"div\");\n      bk_div.innerHTML = output.data[HTML_MIME_TYPE];\n      const script_attrs = bk_div.children[0].attributes;\n      for (let i = 0; i < script_attrs.length; i++) {\n        toinsert[toinsert.length - 1].firstChild.setAttribute(script_attrs[i].name, script_attrs[i].value);\n        toinsert[toinsert.length - 1].firstChild.textContent = bk_div.children[0].textContent\n      }\n      // store reference to server id on output_area\n      output_area._bokeh_server_id = output.metadata[EXEC_MIME_TYPE][\"server_id\"];\n    }\n  }\n\n  function register_renderer(events, OutputArea) {\n\n    function append_mime(data, metadata, element) {\n      // create a DOM node to render to\n      const toinsert = this.create_output_subarea(\n        metadata,\n        CLASS_NAME,\n        EXEC_MIME_TYPE\n      );\n      this.keyboard_manager.register_events(toinsert);\n      // Render to node\n      const props = {data: data, metadata: metadata[EXEC_MIME_TYPE]};\n      render(props, toinsert[toinsert.length - 1]);\n      element.append(toinsert);\n      return toinsert\n    }\n\n    /* Handle when an output is cleared or removed */\n    events.on('clear_output.CodeCell', handleClearOutput);\n    events.on('delete.Cell', handleClearOutput);\n\n    /* Handle when a new output is added */\n    events.on('output_added.OutputArea', handleAddOutput);\n\n    /**\n     * Register the mime type and append_mime function with output_area\n     */\n    OutputArea.prototype.register_mime_type(EXEC_MIME_TYPE, append_mime, {\n      /* Is output safe? */\n      safe: true,\n      /* Index of renderer in `output_area.display_order` */\n      index: 0\n    });\n  }\n\n  // register the mime type if in Jupyter Notebook environment and previously unregistered\n  if (root.Jupyter !== undefined) {\n    const events = require('base/js/events');\n    const OutputArea = require('notebook/js/outputarea').OutputArea;\n\n    if (OutputArea.prototype.mime_types().indexOf(EXEC_MIME_TYPE) == -1) {\n      register_renderer(events, OutputArea);\n    }\n  }\n  if (typeof (root._bokeh_timeout) === \"undefined\" || force === true) {\n    root._bokeh_timeout = Date.now() + 5000;\n    root._bokeh_failed_load = false;\n  }\n\n  const NB_LOAD_WARNING = {'data': {'text/html':\n     \"<div style='background-color: #fdd'>\\n\"+\n     \"<p>\\n\"+\n     \"BokehJS does not appear to have successfully loaded. If loading BokehJS from CDN, this \\n\"+\n     \"may be due to a slow or bad network connection. Possible fixes:\\n\"+\n     \"</p>\\n\"+\n     \"<ul>\\n\"+\n     \"<li>re-rerun `output_notebook()` to attempt to load from CDN again, or</li>\\n\"+\n     \"<li>use INLINE resources instead, as so:</li>\\n\"+\n     \"</ul>\\n\"+\n     \"<code>\\n\"+\n     \"from bokeh.resources import INLINE\\n\"+\n     \"output_notebook(resources=INLINE)\\n\"+\n     \"</code>\\n\"+\n     \"</div>\"}};\n\n  function display_loaded(error = null) {\n    const el = document.getElementById(\"cdcbb531-8178-4ef0-8440-6e4e9c89e196\");\n    if (el != null) {\n      const html = (() => {\n        if (typeof root.Bokeh === \"undefined\") {\n          if (error == null) {\n            return \"BokehJS is loading ...\";\n          } else {\n            return \"BokehJS failed to load.\";\n          }\n        } else {\n          const prefix = `BokehJS ${root.Bokeh.version}`;\n          if (error == null) {\n            return `${prefix} successfully loaded.`;\n          } else {\n            return `${prefix} <b>encountered errors</b> while loading and may not function as expected.`;\n          }\n        }\n      })();\n      el.innerHTML = html;\n\n      if (error != null) {\n        const wrapper = document.createElement(\"div\");\n        wrapper.style.overflow = \"auto\";\n        wrapper.style.height = \"5em\";\n        wrapper.style.resize = \"vertical\";\n        const content = document.createElement(\"div\");\n        content.style.fontFamily = \"monospace\";\n        content.style.whiteSpace = \"pre-wrap\";\n        content.style.backgroundColor = \"rgb(255, 221, 221)\";\n        content.textContent = error.stack ?? error.toString();\n        wrapper.append(content);\n        el.append(wrapper);\n      }\n    } else if (Date.now() < root._bokeh_timeout) {\n      setTimeout(() => display_loaded(error), 100);\n    }\n  }\n\n  function run_callbacks() {\n    try {\n      root._bokeh_onload_callbacks.forEach(function(callback) {\n        if (callback != null)\n          callback();\n      });\n    } finally {\n      delete root._bokeh_onload_callbacks\n    }\n    console.debug(\"Bokeh: all callbacks have finished\");\n  }\n\n  function load_libs(css_urls, js_urls, callback) {\n    if (css_urls == null) css_urls = [];\n    if (js_urls == null) js_urls = [];\n\n    root._bokeh_onload_callbacks.push(callback);\n    if (root._bokeh_is_loading > 0) {\n      console.debug(\"Bokeh: BokehJS is being loaded, scheduling callback at\", now());\n      return null;\n    }\n    if (js_urls == null || js_urls.length === 0) {\n      run_callbacks();\n      return null;\n    }\n    console.debug(\"Bokeh: BokehJS not loaded, scheduling load and callback at\", now());\n    root._bokeh_is_loading = css_urls.length + js_urls.length;\n\n    function on_load() {\n      root._bokeh_is_loading--;\n      if (root._bokeh_is_loading === 0) {\n        console.debug(\"Bokeh: all BokehJS libraries/stylesheets loaded\");\n        run_callbacks()\n      }\n    }\n\n    function on_error(url) {\n      console.error(\"failed to load \" + url);\n    }\n\n    for (let i = 0; i < css_urls.length; i++) {\n      const url = css_urls[i];\n      const element = document.createElement(\"link\");\n      element.onload = on_load;\n      element.onerror = on_error.bind(null, url);\n      element.rel = \"stylesheet\";\n      element.type = \"text/css\";\n      element.href = url;\n      console.debug(\"Bokeh: injecting link tag for BokehJS stylesheet: \", url);\n      document.body.appendChild(element);\n    }\n\n    for (let i = 0; i < js_urls.length; i++) {\n      const url = js_urls[i];\n      const element = document.createElement('script');\n      element.onload = on_load;\n      element.onerror = on_error.bind(null, url);\n      element.async = false;\n      element.src = url;\n      console.debug(\"Bokeh: injecting script tag for BokehJS library: \", url);\n      document.head.appendChild(element);\n    }\n  };\n\n  function inject_raw_css(css) {\n    const element = document.createElement(\"style\");\n    element.appendChild(document.createTextNode(css));\n    document.body.appendChild(element);\n  }\n\n  const js_urls = [\"https://cdn.bokeh.org/bokeh/release/bokeh-3.6.2.min.js\", \"https://cdn.bokeh.org/bokeh/release/bokeh-gl-3.6.2.min.js\", \"https://cdn.bokeh.org/bokeh/release/bokeh-widgets-3.6.2.min.js\", \"https://cdn.bokeh.org/bokeh/release/bokeh-tables-3.6.2.min.js\", \"https://cdn.bokeh.org/bokeh/release/bokeh-mathjax-3.6.2.min.js\"];\n  const css_urls = [];\n\n  const inline_js = [    function(Bokeh) {\n      Bokeh.set_log_level(\"info\");\n    },\nfunction(Bokeh) {\n    }\n  ];\n\n  function run_inline_js() {\n    if (root.Bokeh !== undefined || force === true) {\n      try {\n            for (let i = 0; i < inline_js.length; i++) {\n      inline_js[i].call(root, root.Bokeh);\n    }\n\n      } catch (error) {display_loaded(error);throw error;\n      }if (force === true) {\n        display_loaded();\n      }} else if (Date.now() < root._bokeh_timeout) {\n      setTimeout(run_inline_js, 100);\n    } else if (!root._bokeh_failed_load) {\n      console.log(\"Bokeh: BokehJS failed to load within specified timeout.\");\n      root._bokeh_failed_load = true;\n    } else if (force !== true) {\n      const cell = $(document.getElementById(\"cdcbb531-8178-4ef0-8440-6e4e9c89e196\")).parents('.cell').data().cell;\n      cell.output_area.append_execute_result(NB_LOAD_WARNING)\n    }\n  }\n\n  if (root._bokeh_is_loading === 0) {\n    console.debug(\"Bokeh: BokehJS loaded, going straight to plotting\");\n    run_inline_js();\n  } else {\n    load_libs(css_urls, js_urls, function() {\n      console.debug(\"Bokeh: BokehJS plotting callback run at\", now());\n      run_inline_js();\n    });\n  }\n}(window));",
      "application/vnd.bokehjs_load.v0+json": ""
     },
     "metadata": {},
     "output_type": "display_data"
    }
   ],
   "source": [
    "from bokeh.plotting import figure, show, output_notebook\n",
    "output_notebook()"
   ]
  },
  {
   "cell_type": "code",
   "execution_count": 22,
   "metadata": {
    "tags": [
     "remove-input"
    ]
   },
   "outputs": [
    {
     "data": {
      "text/html": [
       "\n",
       "  <div id=\"d53a02ea-e7df-4a47-aef4-ca3d6643d106\" data-root-id=\"p1054\" style=\"display: contents;\"></div>\n"
      ]
     },
     "metadata": {},
     "output_type": "display_data"
    },
    {
     "data": {
      "application/javascript": "(function(root) {\n  function embed_document(root) {\n  const docs_json = {\"db61680d-93a1-467b-b4b1-09ab31b7106a\":{\"version\":\"3.6.2\",\"title\":\"Bokeh Application\",\"roots\":[{\"type\":\"object\",\"name\":\"Figure\",\"id\":\"p1054\",\"attributes\":{\"height\":400,\"x_range\":{\"type\":\"object\",\"name\":\"FactorRange\",\"id\":\"p1064\",\"attributes\":{\"factors\":[\"DIPCS10\",\"FH51\",\"CDIE20\",\"BSR36\",\"ACONF\",\"BH76\",\"MB16-43\",\"Amino20x4\",\"BHROT27\",\"SIE4x4\",\"HAL59\",\"HEAVY28\",\"BUT14DIOL\",\"DC13\",\"G21EA\",\"BHPERI\",\"W4-11\",\"PNICO23\",\"MCONF\",\"PX13\",\"S66\",\"WCPT18\"]}},\"y_range\":{\"type\":\"object\",\"name\":\"DataRange1d\",\"id\":\"p1056\"},\"x_scale\":{\"type\":\"object\",\"name\":\"CategoricalScale\",\"id\":\"p1065\"},\"y_scale\":{\"type\":\"object\",\"name\":\"LinearScale\",\"id\":\"p1066\"},\"title\":{\"type\":\"object\",\"name\":\"Title\",\"id\":\"p1057\",\"attributes\":{\"text\":\"DietGMTKN55 050 PNOF7s Mean Absolute Deviation\"}},\"renderers\":[{\"type\":\"object\",\"name\":\"GlyphRenderer\",\"id\":\"p1097\",\"attributes\":{\"data_source\":{\"type\":\"object\",\"name\":\"ColumnDataSource\",\"id\":\"p1051\",\"attributes\":{\"selected\":{\"type\":\"object\",\"name\":\"Selection\",\"id\":\"p1052\",\"attributes\":{\"indices\":[],\"line_indices\":[]}},\"selection_policy\":{\"type\":\"object\",\"name\":\"UnionRenderers\",\"id\":\"p1053\"},\"data\":{\"type\":\"map\",\"entries\":[[\"subsets\",[\"DIPCS10\",\"FH51\",\"CDIE20\",\"BSR36\",\"ACONF\",\"BH76\",\"MB16-43\",\"Amino20x4\",\"BHROT27\",\"SIE4x4\",\"HAL59\",\"HEAVY28\",\"BUT14DIOL\",\"DC13\",\"G21EA\",\"BHPERI\",\"W4-11\",\"PNICO23\",\"MCONF\",\"PX13\",\"S66\",\"WCPT18\"]],[\"counts\",[30.790116684981854,2.5165009399955256,1.4317164199888324,18.368277209979993,2.1178582149957803,17.730505240002625,-1.0,1.7533604125055535,1.1457439849979547,7.849661065004023,-1.0,-1.0,1.3976182050015225,2.201349889988381,30.859715047502746,16.521758519987877,8.055796401673822,0.8584657899925091,1.283939610010318,9.304285169999389,2.3467780325081646,15.130481905004096]],[\"description\",[\"Double-ionisation potentials of closed-shell systems\",\"Reaction energies in various (in-)organic systems\",\"Double-bond isomerisation energies in cyclic systems\",\"Bond-separation reactions of saturated hydrocarbons\",\"Relative energies of alkane conformers\",\"Barrier heights of hydrogen transfer, heavy atom transfer, nucleophilic substitution, unimolecular and association reactions\",\"Decomposition energies of artificial molecules\",\"Relative energies in amino acid conformers\",\"Barrier heights for rotation around single bonds\",\"Self-interaction-error related problems\",\"Binding energies in halogenated dimers (incl. halogen bonds)\",\"Noncovalent interaction energies between heavy element hydrides\",\"Relative energies in butane-1,4-diol conformers\",\"13 difficult cases for DFT methods\",\"Adiabatic electron affinities\",\"Barrier heights of pericyclic reactions\",\"Total atomisation energies\",\"Interaction energies in pnicogen-containing dimers\",\"Relative energies in melatonin conformers\",\"Proton-exchange barriers in H2O, NH3, and HF clusters\",\"Binding energies of noncovalently bound dimers\",\"Proton-transfer barriers in uncatalysed and water-catalysed reactions\"]]]}}},\"view\":{\"type\":\"object\",\"name\":\"CDSView\",\"id\":\"p1098\",\"attributes\":{\"filter\":{\"type\":\"object\",\"name\":\"AllIndices\",\"id\":\"p1099\"}}},\"glyph\":{\"type\":\"object\",\"name\":\"VBar\",\"id\":\"p1094\",\"attributes\":{\"x\":{\"type\":\"field\",\"field\":\"subsets\"},\"width\":{\"type\":\"value\",\"value\":0.9},\"top\":{\"type\":\"field\",\"field\":\"counts\"},\"line_color\":{\"type\":\"value\",\"value\":\"white\"},\"fill_color\":{\"type\":\"field\",\"field\":\"counts\",\"transform\":{\"type\":\"object\",\"name\":\"LinearColorMapper\",\"id\":\"p1090\",\"attributes\":{\"palette\":[\"#00204C\",\"#00204E\",\"#002150\",\"#002251\",\"#002353\",\"#002355\",\"#002456\",\"#002558\",\"#00265A\",\"#00265B\",\"#00275D\",\"#00285F\",\"#002861\",\"#002963\",\"#002A64\",\"#002A66\",\"#002B68\",\"#002C6A\",\"#002D6C\",\"#002D6D\",\"#002E6E\",\"#002E6F\",\"#002F6F\",\"#002F6F\",\"#00506F\",\"#00316F\",\"#00316F\",\"#00326E\",\"#00336E\",\"#00346E\",\"#00346E\",\"#01356E\",\"#06366E\",\"#0A376D\",\"#0E376D\",\"#12386D\",\"#15396D\",\"#17396D\",\"#1A3A6C\",\"#1C3B6C\",\"#1E3C6C\",\"#203C6C\",\"#223D6C\",\"#243E6C\",\"#263E6C\",\"#273F6C\",\"#29406B\",\"#2B416B\",\"#2C416B\",\"#2E426B\",\"#2F436B\",\"#31446B\",\"#32446B\",\"#33456B\",\"#35466B\",\"#36466B\",\"#37476B\",\"#38486B\",\"#3A496B\",\"#3B496B\",\"#3C4A6B\",\"#3D4B6B\",\"#3E4B6B\",\"#404C6B\",\"#414D6B\",\"#424E6B\",\"#434E6B\",\"#444F6B\",\"#45506B\",\"#46506B\",\"#47516B\",\"#48526B\",\"#49536B\",\"#4A536B\",\"#4B546B\",\"#4C556B\",\"#4D556B\",\"#4E566B\",\"#4F576C\",\"#50586C\",\"#51586C\",\"#52596C\",\"#535A6C\",\"#545A6C\",\"#555B6C\",\"#565C6C\",\"#575D6D\",\"#585D6D\",\"#595E6D\",\"#5A5F6D\",\"#5B5F6D\",\"#5C606D\",\"#5D616E\",\"#5E626E\",\"#5F626E\",\"#5F636E\",\"#60646E\",\"#61656F\",\"#62656F\",\"#63666F\",\"#64676F\",\"#65676F\",\"#666870\",\"#676970\",\"#686A70\",\"#686A70\",\"#696B71\",\"#6A6C71\",\"#6B6D71\",\"#6C6D72\",\"#6D6E72\",\"#6E6F72\",\"#6F6F72\",\"#6F7073\",\"#707173\",\"#717273\",\"#727274\",\"#737374\",\"#747475\",\"#757575\",\"#757575\",\"#767676\",\"#777776\",\"#787876\",\"#797877\",\"#7A7977\",\"#7B7A77\",\"#7B7B78\",\"#7C7B78\",\"#7D7C78\",\"#7E7D78\",\"#7F7E78\",\"#807E78\",\"#817F78\",\"#828078\",\"#838178\",\"#848178\",\"#858278\",\"#868378\",\"#878478\",\"#888578\",\"#898578\",\"#8A8678\",\"#8B8778\",\"#8C8878\",\"#8D8878\",\"#8E8978\",\"#8F8A78\",\"#908B78\",\"#918C78\",\"#928C78\",\"#938D78\",\"#948E78\",\"#958F78\",\"#968F77\",\"#979077\",\"#989177\",\"#999277\",\"#9A9377\",\"#9B9377\",\"#9C9477\",\"#9D9577\",\"#9E9676\",\"#9F9776\",\"#A09876\",\"#A19876\",\"#A29976\",\"#A39A75\",\"#A49B75\",\"#A59C75\",\"#A69C75\",\"#A79D75\",\"#A89E74\",\"#A99F74\",\"#AAA074\",\"#ABA174\",\"#ACA173\",\"#ADA273\",\"#AEA373\",\"#AFA473\",\"#B0A572\",\"#B1A672\",\"#B2A672\",\"#B4A771\",\"#B5A871\",\"#B6A971\",\"#B7AA70\",\"#B8AB70\",\"#B9AB70\",\"#BAAC6F\",\"#BBAD6F\",\"#BCAE6E\",\"#BDAF6E\",\"#BEB06E\",\"#BFB16D\",\"#C0B16D\",\"#C1B26C\",\"#C2B36C\",\"#C3B46C\",\"#C5B56B\",\"#C6B66B\",\"#C7B76A\",\"#C8B86A\",\"#C9B869\",\"#CAB969\",\"#CBBA68\",\"#CCBB68\",\"#CDBC67\",\"#CEBD67\",\"#D0BE66\",\"#D1BF66\",\"#D2C065\",\"#D3C065\",\"#D4C164\",\"#D5C263\",\"#D6C363\",\"#D7C462\",\"#D8C561\",\"#D9C661\",\"#DBC760\",\"#DCC860\",\"#DDC95F\",\"#DECA5E\",\"#DFCB5D\",\"#E0CB5D\",\"#E1CC5C\",\"#E3CD5B\",\"#E4CE5B\",\"#E5CF5A\",\"#E6D059\",\"#E7D158\",\"#E8D257\",\"#E9D356\",\"#EBD456\",\"#ECD555\",\"#EDD654\",\"#EED753\",\"#EFD852\",\"#F0D951\",\"#F1DA50\",\"#F3DB4F\",\"#F4DC4E\",\"#F5DD4D\",\"#F6DE4C\",\"#F7DF4B\",\"#F9E049\",\"#FAE048\",\"#FBE147\",\"#FCE246\",\"#FDE345\",\"#FFE443\",\"#FFE542\",\"#FFE642\",\"#FFE743\",\"#FFE844\",\"#FFE945\"],\"low\":-1.0,\"high\":30.859715047502746}}}}},\"nonselection_glyph\":{\"type\":\"object\",\"name\":\"VBar\",\"id\":\"p1095\",\"attributes\":{\"x\":{\"type\":\"field\",\"field\":\"subsets\"},\"width\":{\"type\":\"value\",\"value\":0.9},\"top\":{\"type\":\"field\",\"field\":\"counts\"},\"line_color\":{\"type\":\"value\",\"value\":\"white\"},\"line_alpha\":{\"type\":\"value\",\"value\":0.1},\"fill_color\":{\"type\":\"field\",\"field\":\"counts\",\"transform\":{\"id\":\"p1090\"}},\"fill_alpha\":{\"type\":\"value\",\"value\":0.1},\"hatch_alpha\":{\"type\":\"value\",\"value\":0.1}}},\"muted_glyph\":{\"type\":\"object\",\"name\":\"VBar\",\"id\":\"p1096\",\"attributes\":{\"x\":{\"type\":\"field\",\"field\":\"subsets\"},\"width\":{\"type\":\"value\",\"value\":0.9},\"top\":{\"type\":\"field\",\"field\":\"counts\"},\"line_color\":{\"type\":\"value\",\"value\":\"white\"},\"line_alpha\":{\"type\":\"value\",\"value\":0.2},\"fill_color\":{\"type\":\"field\",\"field\":\"counts\",\"transform\":{\"id\":\"p1090\"}},\"fill_alpha\":{\"type\":\"value\",\"value\":0.2},\"hatch_alpha\":{\"type\":\"value\",\"value\":0.2}}}}}],\"toolbar\":{\"type\":\"object\",\"name\":\"Toolbar\",\"id\":\"p1063\",\"attributes\":{\"tools\":[{\"type\":\"object\",\"name\":\"PanTool\",\"id\":\"p1077\"},{\"type\":\"object\",\"name\":\"WheelZoomTool\",\"id\":\"p1078\",\"attributes\":{\"renderers\":\"auto\"}},{\"type\":\"object\",\"name\":\"BoxZoomTool\",\"id\":\"p1079\",\"attributes\":{\"overlay\":{\"type\":\"object\",\"name\":\"BoxAnnotation\",\"id\":\"p1080\",\"attributes\":{\"syncable\":false,\"line_color\":\"black\",\"line_alpha\":1.0,\"line_width\":2,\"line_dash\":[4,4],\"fill_color\":\"lightgrey\",\"fill_alpha\":0.5,\"level\":\"overlay\",\"visible\":false,\"left\":{\"type\":\"number\",\"value\":\"nan\"},\"right\":{\"type\":\"number\",\"value\":\"nan\"},\"top\":{\"type\":\"number\",\"value\":\"nan\"},\"bottom\":{\"type\":\"number\",\"value\":\"nan\"},\"left_units\":\"canvas\",\"right_units\":\"canvas\",\"top_units\":\"canvas\",\"bottom_units\":\"canvas\",\"handles\":{\"type\":\"object\",\"name\":\"BoxInteractionHandles\",\"id\":\"p1086\",\"attributes\":{\"all\":{\"type\":\"object\",\"name\":\"AreaVisuals\",\"id\":\"p1085\",\"attributes\":{\"fill_color\":\"white\",\"hover_fill_color\":\"lightgray\"}}}}}}}},{\"type\":\"object\",\"name\":\"SaveTool\",\"id\":\"p1087\"},{\"type\":\"object\",\"name\":\"ResetTool\",\"id\":\"p1088\"},{\"type\":\"object\",\"name\":\"HelpTool\",\"id\":\"p1089\"},{\"type\":\"object\",\"name\":\"HoverTool\",\"id\":\"p1100\",\"attributes\":{\"renderers\":\"auto\",\"tooltips\":[[\"Description\",\"@description\"],[\"MAD\",\"@counts\"]]}}]}},\"left\":[{\"type\":\"object\",\"name\":\"LinearAxis\",\"id\":\"p1072\",\"attributes\":{\"ticker\":{\"type\":\"object\",\"name\":\"BasicTicker\",\"id\":\"p1073\",\"attributes\":{\"mantissas\":[1,2,5]}},\"formatter\":{\"type\":\"object\",\"name\":\"BasicTickFormatter\",\"id\":\"p1074\"},\"major_label_policy\":{\"type\":\"object\",\"name\":\"AllLabels\",\"id\":\"p1075\"}}}],\"below\":[{\"type\":\"object\",\"name\":\"CategoricalAxis\",\"id\":\"p1067\",\"attributes\":{\"ticker\":{\"type\":\"object\",\"name\":\"CategoricalTicker\",\"id\":\"p1068\"},\"formatter\":{\"type\":\"object\",\"name\":\"CategoricalTickFormatter\",\"id\":\"p1069\"},\"major_label_orientation\":1.5707963267948966,\"major_label_policy\":{\"type\":\"object\",\"name\":\"AllLabels\",\"id\":\"p1070\"}}}],\"center\":[{\"type\":\"object\",\"name\":\"Grid\",\"id\":\"p1071\",\"attributes\":{\"axis\":{\"id\":\"p1067\"}}},{\"type\":\"object\",\"name\":\"Grid\",\"id\":\"p1076\",\"attributes\":{\"dimension\":1,\"axis\":{\"id\":\"p1072\"}}}]}}]}};\n  const render_items = [{\"docid\":\"db61680d-93a1-467b-b4b1-09ab31b7106a\",\"roots\":{\"p1054\":\"d53a02ea-e7df-4a47-aef4-ca3d6643d106\"},\"root_ids\":[\"p1054\"]}];\n  void root.Bokeh.embed.embed_items_notebook(docs_json, render_items);\n  }\n  if (root.Bokeh !== undefined) {\n    embed_document(root);\n  } else {\n    let attempts = 0;\n    const timer = setInterval(function(root) {\n      if (root.Bokeh !== undefined) {\n        clearInterval(timer);\n        embed_document(root);\n      } else {\n        attempts++;\n        if (attempts > 100) {\n          clearInterval(timer);\n          console.log(\"Bokeh: ERROR: Unable to run BokehJS code because BokehJS library is missing\");\n        }\n      }\n    }, 10, root)\n  }\n})(window);",
      "application/vnd.bokehjs_exec.v0+json": ""
     },
     "metadata": {
      "application/vnd.bokehjs_exec.v0+json": {
       "id": "p1054"
      }
     },
     "output_type": "display_data"
    }
   ],
   "source": [
    "import math\n",
    "from bokeh.plotting import figure, show\n",
    "from bokeh.models import ColumnDataSource, HoverTool, TapTool\n",
    "from bokeh.palettes import RdYlGn\n",
    "from bokeh.transform import linear_cmap\n",
    "\n",
    "subsets = get_Sets(data)\n",
    "counts = get_MADs(data)\n",
    "description = get_Descriptions(subsets)\n",
    "\n",
    "source = ColumnDataSource(data=dict(subsets=subsets, counts=counts, description=description))\n",
    "\n",
    "p = figure(x_range=subsets, height=400, title=\"DietGMTKN55 {} {} Mean Absolute Deviation\".format(set_name, nof))\n",
    "\n",
    "p.xaxis.major_label_orientation = math.pi/2\n",
    "\n",
    "p.vbar(x='subsets', top='counts', width=0.9, source=source,\n",
    "       fill_color=linear_cmap('counts', palette=RdYlGn[11], low=min(counts), high=max(counts)), \n",
    "        line_color=\"white\")\n",
    "\n",
    "#p.add_tools(TapTool())\n",
    "hover = HoverTool(tooltips=[\n",
    "    (\"Description\", \"@description\"),\n",
    "    (\"MAD\", \"@counts\"),\n",
    "])\n",
    "p.add_tools(hover)\n",
    "\n",
    "show(p)"
   ]
  },
  {
   "cell_type": "code",
   "execution_count": null,
   "metadata": {
    "tags": [
     "remove-input"
    ]
   },
   "outputs": [
    {
     "data": {
      "application/vnd.jupyter.widget-view+json": {
       "model_id": "81642a1785d041f9af44a9587ff342b5",
       "version_major": 2,
       "version_minor": 0
      },
      "text/plain": [
       "Tab(children=(Tab(children=(VBox(children=(Tab(children=(Output(), Output()), selected_index=0, titles=('h2s',…"
      ]
     },
     "metadata": {},
     "output_type": "display_data"
    }
   ],
   "source": [
    "import ipywidgets as widgets\n",
    "from IPython.display import display\n",
    "import py3Dmol\n",
    "\n",
    "master_tabs = widgets.Tab()\n",
    "\n",
    "tabs = []\n",
    "for h,set in enumerate(data):\n",
    "    set_tab = widgets.Tab()\n",
    "    set_tab.children = [widgets.VBox() for system in data[set]]\n",
    "    for i,system in enumerate(data[set]):\n",
    "        set_tab.set_title(i, str(system))\n",
    "\n",
    "        mols_tab = widgets.Tab()\n",
    "        mols_tab.children = [widgets.VBox() for specie in data[set][system][\"Species\"]]\n",
    "        childrens = []\n",
    "        for j,specie in enumerate(data[set][system][\"Species\"]):\n",
    "            url = \"url:https://raw.githubusercontent.com/felipelewyee/DietGMTKN55-NOF/refs/heads/main/fig/{}/{}-{}.xyz\".format(set_name, set, specie) \n",
    "            viewer = py3Dmol.view(url, width=400, height=300)\n",
    "            viewer.setStyle({'stick': {'radius': .1}, 'sphere': {'scale': 0.25}})\n",
    "            viewer.zoomTo()\n",
    "            childrens.append(widgets.Output()) \n",
    "            with childrens[-1]:\n",
    "                viewer.show()\n",
    "        mols_tab.children = childrens\n",
    "        for j,specie in enumerate(data[set][system][\"Species\"]):\n",
    "            mols_tab.set_title(j, str(specie))\n",
    "\n",
    "        text_specie = \"| Specie | E_NOF | Count |\\n\"\n",
    "        for specie in data[set][system][\"Species\"]:\n",
    "            text_specie += \"| {} | {:.3f} | {} |\\n\".format(specie, data[set][system][\"Species\"][specie][\"E_NOF\"], \n",
    "                                                data[set][system][\"Species\"][specie][\"Count\"])\n",
    "                                                #data[set][system][\"Species\"][specie][\"Charge\"], \n",
    "                                                #data[set][system][\"Species\"][specie][\"Multiplicity\"])\n",
    " \n",
    "        text_specie_w = widgets.Textarea(\n",
    "            value=text_specie,\n",
    "            placeholder='Type something',\n",
    "            description='Molecules',\n",
    "            disabled=True   \n",
    "        )\n",
    "\n",
    "        text_E_NOF_w = widgets.Textarea(\n",
    "            value=\"{:.3f}\".format(data[set][system][\"Energy\"]*627.15),\n",
    "            placeholder='Type something',\n",
    "            description='E_NOF',\n",
    "            disabled=True   \n",
    "        )\n",
    "\n",
    "        text_E_ref_w = widgets.Textarea(\n",
    "            value=\"{:.3f}\".format(data[set][system][\"E_Ref\"]),\n",
    "            placeholder='Type something',\n",
    "            description='E_Ref',\n",
    "            disabled=True   \n",
    "        )\n",
    "\n",
    "        text_AD_w = widgets.Textarea(\n",
    "            value=\"{:.3f}\".format(data[set][system][\"AD\"]),\n",
    "            placeholder='Type something',\n",
    "            description='AD',\n",
    "            disabled=True   \n",
    "        )\n",
    "\n",
    "        text_weight_w = widgets.Textarea(\n",
    "            value=\"{:.3f}\".format(data[set][system][\"Weight\"]),\n",
    "            placeholder='Type something',\n",
    "            description='Weight',\n",
    "            disabled=True   \n",
    "        )\n",
    "\n",
    "        text_WTMAD2_w = widgets.Textarea(\n",
    "            value=\"{:.3f}\".format(data[set][system][\"WTMAD2\"]),\n",
    "            placeholder='Type something',\n",
    "            description='WTMAD2',\n",
    "            disabled=True   \n",
    "        )\n",
    "\n",
    "        set_tab.children[i].children = [mols_tab, text_specie_w,\n",
    "                                         text_E_NOF_w, text_E_ref_w, \n",
    "                                         text_AD_w, text_weight_w,\n",
    "                                         text_WTMAD2_w]\n",
    "    tabs.append(set_tab)\n",
    "\n",
    "master_tabs.children = tabs\n",
    "for i,set in enumerate(data):\n",
    "    master_tabs.set_title(i, str(set))\n",
    "\n",
    "display(master_tabs)\n"
   ]
  }
 ],
 "metadata": {
  "kernelspec": {
   "display_name": "jb",
   "language": "python",
   "name": "python3"
  },
  "language_info": {
   "codemirror_mode": {
    "name": "ipython",
    "version": 3
   },
   "file_extension": ".py",
   "mimetype": "text/x-python",
   "name": "python",
   "nbconvert_exporter": "python",
   "pygments_lexer": "ipython3",
   "version": "3.13.1"
  }
 },
 "nbformat": 4,
 "nbformat_minor": 4
}
